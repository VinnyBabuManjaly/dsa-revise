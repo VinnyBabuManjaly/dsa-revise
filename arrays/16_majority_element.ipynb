{
 "cells": [
  {
   "cell_type": "markdown",
   "id": "2393f252",
   "metadata": {},
   "source": [
    "Majority Element\n",
    "Solved\n",
    "\n",
    "avatar\n",
    "Discuss Approach\n",
    "arrow-up\n",
    "Easy\n",
    "Topics\n",
    "conpanies icon\n",
    "Companies\n",
    "Given an array nums of size n, return the majority element.\n",
    "\n",
    "The majority element is the element that appears more than ⌊n / 2⌋ times. You may assume that the majority element always exists in the array.\n",
    "\n",
    " \n",
    "\n",
    "Example 1:\n",
    "\n",
    "Input: nums = [3,2,3]\n",
    "Output: 3\n",
    "Example 2:\n",
    "\n",
    "Input: nums = [2,2,1,1,1,2,2]\n",
    "Output: 2"
   ]
  },
  {
   "cell_type": "markdown",
   "id": "a3fdcbbb",
   "metadata": {},
   "source": [
    "[10,5,10,10,20]\n",
    "\n",
    "0   10  10  1\n",
    "        5   -\n",
    "        10  2\n",
    "        10  3   IF 3>2    ->    10\n",
    "\n",
    "maxcount = 0\n",
    "res = majority elemnt  = 0\n",
    "10:3    3   10\n",
    "5:1\n",
    "\n"
   ]
  },
  {
   "cell_type": "code",
   "execution_count": null,
   "id": "fa4dbaeb",
   "metadata": {},
   "outputs": [],
   "source": [
    "from typing import List\n",
    "\n",
    "def majorityElem(nums: List[int]) -> int:\n",
    "    map = {}\n",
    "    res = maxCount = 0\n",
    "    \n",
    "    for num in nums:\n",
    "        map[num] = map.get(num, 0) + 1\n",
    "        if map[num] > maxCount:\n",
    "            res = num\n",
    "            maxCount = map[num]\n",
    "            \n",
    "    return res"
   ]
  }
 ],
 "metadata": {
  "kernelspec": {
   "display_name": "Python 3",
   "language": "python",
   "name": "python3"
  },
  "language_info": {
   "name": "python",
   "version": "3.12.9"
  }
 },
 "nbformat": 4,
 "nbformat_minor": 5
}
