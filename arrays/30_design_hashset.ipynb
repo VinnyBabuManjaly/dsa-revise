{
 "cells": [
  {
   "cell_type": "markdown",
   "id": "fb821139",
   "metadata": {},
   "source": [
    "Design HashSet\n",
    "Easy\n",
    "\n",
    "Implement MyHashSet class:\n",
    "\n",
    "void add(key) Inserts the value key into the HashSet.\n",
    "bool contains(key) Returns whether the value key exists in the HashSet or not.\n",
    "void remove(key) Removes the value key in the HashSet. If key does not exist in the HashSet, do nothing.\n",
    " \n",
    "\n",
    "Example 1:\n",
    "\n",
    "Input\n",
    "[\"MyHashSet\", \"add\", \"add\", \"contains\", \"contains\", \"add\", \"contains\", \"remove\", \"contains\"]\n",
    "[[], [1], [2], [1], [3], [2], [2], [2], [2]]\n",
    "Output\n",
    "[null, null, null, true, false, null, true, null, false]\n",
    "\n",
    "Explanation\n",
    "MyHashSet myHashSet = new MyHashSet();\n",
    "myHashSet.add(1);      // set = [1]\n",
    "myHashSet.add(2);      // set = [1, 2]\n",
    "myHashSet.contains(1); // return True\n",
    "myHashSet.contains(3); // return False, (not found)\n",
    "myHashSet.add(2);      // set = [1, 2]\n",
    "myHashSet.contains(2); // return True\n",
    "myHashSet.remove(2);   // set = [1]\n",
    "myHashSet.contains(2); // return False, (already removed)\n",
    " \n",
    "\n",
    "Constraints:\n",
    "0 <= key <= 10^6\n",
    "At most 104 calls will be made to add, remove, and contains."
   ]
  },
  {
   "cell_type": "code",
   "execution_count": null,
   "id": "06b8b42b",
   "metadata": {},
   "outputs": [],
   "source": [
    "class Hashset:\n",
    "    def __init__(self):\n",
    "        self._max = 10**6 + 1\n",
    "        self.hashArray = bytearray(self._max)\n",
    "        \n",
    "    def add(self, key: int) -> None:\n",
    "        self.hashArray[key] = 1\n",
    "        \n",
    "    def contains(self, key: int) -> bool:\n",
    "        return self.hashArray[key] == 1\n",
    "    \n",
    "    def remove(self, key: int) -> None:\n",
    "        self.hashArray[key] = 0"
   ]
  },
  {
   "cell_type": "code",
   "execution_count": null,
   "id": "6bcdbfa8",
   "metadata": {},
   "outputs": [
    {
     "name": "stdout",
     "output_type": "stream",
     "text": [
      "defaultdict(<class 'list'>, {})\n",
      "defaultdict(<class 'list'>, {0: [1]})\n",
      "True\n"
     ]
    }
   ],
   "source": [
    "from collections import defaultdict\n",
    "from typing import Optional\n",
    "\n",
    "\n",
    "class MyHashSet:\n",
    "    def __init__(self):\n",
    "        self._size = 1000\n",
    "        self._dict = defaultdict(list)\n",
    "            \n",
    "    def _check(self, val: int) -> bool:\n",
    "        key = val // self._size\n",
    "        for value in self._dict[key]:\n",
    "            if value == val:\n",
    "                return True\n",
    "        return False\n",
    "        \n",
    "    def add(self, val: int) -> None:\n",
    "        if self._check(val):\n",
    "            return\n",
    "        else:\n",
    "            self._dict[val // self._size].append(val)\n",
    "        \n",
    "    def contains(self, val: int) -> bool:\n",
    "        return self._check(val)\n",
    "    \n",
    "    def remove(self, val: int) -> None:\n",
    "        key = val // self._size\n",
    "        self._dict[key] = [value for value in self._dict[key] if value != val]\n",
    "                \n",
    "                \n",
    "                \n",
    "obj = MyHashSet()\n",
    "obj.add(1)\n",
    "# obj.remove(1)\n",
    "param_3 = obj.contains(1)\n",
    "\n",
    "print(param_3)"
   ]
  }
 ],
 "metadata": {
  "kernelspec": {
   "display_name": "Python 3",
   "language": "python",
   "name": "python3"
  },
  "language_info": {
   "codemirror_mode": {
    "name": "ipython",
    "version": 3
   },
   "file_extension": ".py",
   "mimetype": "text/x-python",
   "name": "python",
   "nbconvert_exporter": "python",
   "pygments_lexer": "ipython3",
   "version": "3.12.9"
  }
 },
 "nbformat": 4,
 "nbformat_minor": 5
}
