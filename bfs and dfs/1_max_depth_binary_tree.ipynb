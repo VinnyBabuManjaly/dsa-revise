{
 "cells": [
  {
   "cell_type": "markdown",
   "id": "cdbb7970",
   "metadata": {},
   "source": [
    "Maximum Depth of Binary Tree\n",
    "Easy\n",
    "Given the root of a binary tree, return its maximum depth.\n",
    "A binary tree's maximum depth is the number of nodes along the longest path from the root node down to the farthest leaf node.\n",
    "\n",
    "Example 1:\n",
    "Input: root = [3,9,20,null,null,15,7]\n",
    "Output: 3\n",
    "Example 2:\n",
    "Input: root = [1,null,2]\n",
    "Output: 2\n",
    " \n",
    "Constraints:\n",
    "The number of nodes in the tree is in the range [0, 104].\n",
    "-100 <= Node.val <= 100"
   ]
  },
  {
   "cell_type": "code",
   "execution_count": null,
   "id": "c34c598a",
   "metadata": {},
   "outputs": [],
   "source": [
    "from typing import Optional\n",
    "from collections import deque\n",
    "\n",
    "class TreeNode:\n",
    "    def __init__(self, val=0, left=None, right=None):\n",
    "        self.val = val\n",
    "        self.left = left\n",
    "        self.right = right\n",
    "\n",
    "def depthRecursive(root: Optional[TreeNode]) -> int:\n",
    "    if not root:\n",
    "        return 0\n",
    "    \n",
    "    left = depthRecursive(root.left)\n",
    "    right = depthRecursive(root.right)\n",
    "    return 1 + max(left, right)\n",
    "\n",
    "def depthIterative(root: Optional[TreeNode]) -> int:\n",
    "    if not root: \n",
    "        return 0\n",
    "    depth = 0\n",
    "    \n",
    "    queue = deque([root])\n",
    "    while queue:\n",
    "        level_size = len(queue)\n",
    "        for _ in range(level_size):    \n",
    "            node = queue.popleft()\n",
    "            if node.left: \n",
    "                queue.append(node.left)\n",
    "            if node.right:\n",
    "                queue.append(node.right)\n",
    "        depth += 1\n",
    "    return depth"
   ]
  },
  {
   "cell_type": "markdown",
   "id": "76e9123c",
   "metadata": {},
   "source": [
    "Iterative simulation:\n",
    "[3,9,20,null,null,15,7]\n",
    "\n",
    "depth=0\n",
    "queue=[3]\n",
    "\n",
    "size    node    left    right   queue   depth\n",
    "1       3       9       20      9,20    1\n",
    "2       9       -       -       20      -\n",
    "        20      15      7       15,7    2\n",
    "2       15      -       -       7       -\n",
    "        7       -       -       -       3"
   ]
  },
  {
   "cell_type": "markdown",
   "id": "075fe090",
   "metadata": {},
   "source": [
    "Recursive simulation:\n",
    "[3,9,20,null,null,15,7]\n",
    "\n",
    "d(3)=3    left:d(9)=1             left=0      \n",
    "                                right=0\n",
    "\n",
    "        right: d(20)=2          l=d(15)=1\n",
    "                                r=d(7)=1\n"
   ]
  },
  {
   "cell_type": "markdown",
   "id": "3887876c",
   "metadata": {},
   "source": [
    "Time and Space Complexity (BFS)\n",
    "Metric\tValue\tWhy?\n",
    "⏱️ Time\tO(n)\tEvery node is visited once\n",
    "🧠 Space\tO(w)\tQueue stores nodes level-by-level (w = tree width). Worst case: O(n)"
   ]
  },
  {
   "cell_type": "markdown",
   "id": "2e75e2c5",
   "metadata": {},
   "source": [
    "Time and Space Complexity (DFS)\n",
    "Metric\tValue\tWhy?\n",
    "⏱️ Time\tO(n)\tVisit each node once\n",
    "🧠 Space\tO(h)\tStack space for recursion (h = tree height)\n",
    "Worst case = O(n) for skewed tree"
   ]
  }
 ],
 "metadata": {
  "kernelspec": {
   "display_name": "Python 3",
   "language": "python",
   "name": "python3"
  },
  "language_info": {
   "name": "python",
   "version": "3.12.9"
  }
 },
 "nbformat": 4,
 "nbformat_minor": 5
}
