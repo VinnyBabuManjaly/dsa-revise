{
 "cells": [
  {
   "cell_type": "markdown",
   "id": "d431d699",
   "metadata": {},
   "source": [
    "Binary Tree Maximum Path Sum\n",
    "Hard\n",
    "A path in a binary tree is a sequence of nodes where each pair of adjacent nodes in the sequence has an edge connecting them. A node can only appear in the sequence at most once. Note that the path does not need to pass through the root.\n",
    "\n",
    "The path sum of a path is the sum of the node's values in the path.\n",
    "\n",
    "Given the root of a binary tree, return the maximum path sum of any non-empty path.\n",
    "\n",
    " \n",
    "\n",
    "Example 1:\n",
    "\n",
    "\n",
    "Input: root = [1,2,3]\n",
    "Output: 6\n",
    "Explanation: The optimal path is 2 -> 1 -> 3 with a path sum of 2 + 1 + 3 = 6.\n",
    "Example 2:\n",
    "\n",
    "\n",
    "Input: root = [-10,9,20,null,null,15,7]\n",
    "Output: 42\n",
    "Explanation: The optimal path is 15 -> 20 -> 7 with a path sum of 15 + 20 + 7 = 42.\n",
    " \n",
    "\n",
    "Constraints:\n",
    "\n",
    "The number of nodes in the tree is in the range [1, 3 * 104].\n",
    "-1000 <= Node.val <= 1000"
   ]
  },
  {
   "cell_type": "code",
   "execution_count": null,
   "id": "cff142c0",
   "metadata": {},
   "outputs": [],
   "source": [
    "from typing import Optional\n",
    "\n",
    "class TreeNode:\n",
    "    def __init__(self, val=0, left=None, right=None):\n",
    "        self.val = val\n",
    "        self.left = left\n",
    "        self.right= right\n",
    "\n",
    "def maxPathSum(root: Optional[TreeNode]) -> int:\n",
    "    maxPathSum = [float('-inf')]\n",
    "\n",
    "    def dfs(root):\n",
    "        if not root:\n",
    "            return 0\n",
    "\n",
    "        left = max(dfs(root.left), 0)\n",
    "        right = max(dfs(root.right), 0)\n",
    "\n",
    "        maxSum = root.val + left + right\n",
    "        maxPathSum[0] = max(maxPathSum[0], maxSum)\n",
    "        return root.val + max(left, right)\n",
    "\n",
    "    dfs(root)\n",
    "    return maxPathSum[0]\n",
    "\n",
    "\n"
   ]
  },
  {
   "cell_type": "markdown",
   "id": "fbf516cd",
   "metadata": {},
   "source": [
    "root = [1,2,3]\n",
    "        1\n",
    "    2       3\n",
    "\n",
    "d(1)    6\n",
    "    d(2) = 2    max=2\n",
    "    d(3) = 3    max=3\n",
    "\n",
    "__\n",
    "root = [-10,9,20,null,null,15,7]\n",
    "\n",
    "                        -10\n",
    "                9                   20\n",
    "                                15      7\n",
    "\n",
    " d(-10)=-10+9+42    41\n",
    "    d(9)=9          15\n",
    "    d(20)=15+7+20   42   \n",
    "        d(15)=15    15\n",
    "        d(7)=7      15       \n",
    "__\n",
    "root=[2,-1]\n",
    "        2\n",
    "    -1\n",
    "\n",
    "d(2)=2+-1+0     1\n",
    "    d(-1)=-1    -1"
   ]
  }
 ],
 "metadata": {
  "kernelspec": {
   "display_name": "Python 3",
   "language": "python",
   "name": "python3"
  },
  "language_info": {
   "codemirror_mode": {
    "name": "ipython",
    "version": 3
   },
   "file_extension": ".py",
   "mimetype": "text/x-python",
   "name": "python",
   "nbconvert_exporter": "python",
   "pygments_lexer": "ipython3",
   "version": "3.12.9"
  }
 },
 "nbformat": 4,
 "nbformat_minor": 5
}
