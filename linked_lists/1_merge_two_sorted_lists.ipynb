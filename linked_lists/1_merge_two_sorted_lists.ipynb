{
 "cells": [
  {
   "cell_type": "markdown",
   "id": "9a7ce382",
   "metadata": {},
   "source": [
    "SortingMerge Two Sorted Lists\n",
    "Easy\n",
    "You are given the heads of two sorted linked lists list1 and list2.\n",
    "Merge the two lists into one sorted list. The list should be made by splicing together the nodes of the first two lists.\n",
    "Return the head of the merged linked list.\n",
    "\n",
    "Example 1:\n",
    "Input: list1 = [1,2,4], list2 = [1,3,4]\n",
    "Output: [1,1,2,3,4,4]\n",
    "Example 2:\n",
    "Input: list1 = [], list2 = []\n",
    "Output: []\n",
    "Example 3:\n",
    "Input: list1 = [], list2 = [0]\n",
    "Output: [0]\n",
    "\n",
    "Constraints:\n",
    "The number of nodes in both lists is in the range [0, 50].\n",
    "-100 <= Node.val <= 100\n",
    "Both list1 and list2 are sorted in non-decreasing order."
   ]
  },
  {
   "cell_type": "code",
   "execution_count": 5,
   "id": "c72f5a37",
   "metadata": {},
   "outputs": [
    {
     "name": "stdout",
     "output_type": "stream",
     "text": [
      "[1, 1, 2, 3, 4, 4]\n"
     ]
    }
   ],
   "source": [
    "from typing import Optional, List\n",
    "\n",
    "class ListNode:\n",
    "    def __init__(self, val=0, next=None):\n",
    "        self.val = val\n",
    "        self.next = next\n",
    "        \n",
    "class Solution:\n",
    "    def mergeTwoLists(self, list1: Optional[ListNode], list2: Optional[ListNode]):\n",
    "        dummy = ListNode(-1)\n",
    "        current = dummy\n",
    "        \n",
    "        while list1 and list2:\n",
    "            if list1.val <= list2.val:\n",
    "                current.next = list1\n",
    "                list1 = list1.next\n",
    "            else:\n",
    "                current.next = list2\n",
    "                list2 = list2.next\n",
    "            current = current.next\n",
    "        \n",
    "        current.next = list1 if list1 else list2\n",
    "        return dummy.next\n",
    "    \n",
    "    def build_linked_list(self, values: List) -> Optional[ListNode]:\n",
    "        dummy = ListNode(-1)\n",
    "        current = dummy\n",
    "        for val in values:\n",
    "            current.next = ListNode(val)\n",
    "            current = current.next\n",
    "        return dummy.next\n",
    "        \n",
    "    def linked_list_to_list(self, head: Optional[ListNode]):\n",
    "        result = []\n",
    "        while head:\n",
    "            result.append(head.val)\n",
    "            head = head.next\n",
    "        return result\n",
    "                    \n",
    "    \n",
    "if __name__ == \"__main__\":\n",
    "    list1 = [1,2,4]\n",
    "    list2 = [1,3,4]\n",
    "    solver = Solution()\n",
    "    List1 = solver.build_linked_list(list1)\n",
    "    List2 = solver.build_linked_list(list2)\n",
    "    result = solver.mergeTwoLists(List1, List2)\n",
    "    print(solver.linked_list_to_list(result))"
   ]
  },
  {
   "cell_type": "markdown",
   "id": "fa99e54c",
   "metadata": {},
   "source": []
  }
 ],
 "metadata": {
  "kernelspec": {
   "display_name": "Python 3",
   "language": "python",
   "name": "python3"
  },
  "language_info": {
   "codemirror_mode": {
    "name": "ipython",
    "version": 3
   },
   "file_extension": ".py",
   "mimetype": "text/x-python",
   "name": "python",
   "nbconvert_exporter": "python",
   "pygments_lexer": "ipython3",
   "version": "3.12.9"
  }
 },
 "nbformat": 4,
 "nbformat_minor": 5
}
