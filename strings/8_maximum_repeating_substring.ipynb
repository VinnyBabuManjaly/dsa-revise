{
 "cells": [
  {
   "cell_type": "markdown",
   "id": "cffd1aa5",
   "metadata": {},
   "source": [
    "Maximum Repeating Substring\n",
    "\n",
    "Easy\n",
    "For a string sequence, a string word is k-repeating if word concatenated k times is a substring of sequence. The word's maximum k-repeating value is the highest value k where word is k-repeating in sequence. If word is not a substring of sequence, word's maximum k-repeating value is 0.\n",
    "\n",
    "Given strings sequence and word, return the maximum k-repeating value of word in sequence.\n",
    "\n",
    " \n",
    "Example 1:\n",
    "\n",
    "Input: sequence = \"ababc\", word = \"ab\"\n",
    "Output: 2\n",
    "Explanation: \"abab\" is a substring in \"ababc\".\n",
    "Example 2:\n",
    "\n",
    "Input: sequence = \"ababc\", word = \"ba\"\n",
    "Output: 1\n",
    "Explanation: \"ba\" is a substring in \"ababc\". \"baba\" is not a substring in \"ababc\".\n",
    "Example 3:\n",
    "\n",
    "Input: sequence = \"ababc\", word = \"ac\"\n",
    "Output: 0\n",
    "Explanation: \"ac\" is not a substring in \"ababc\". \n",
    " \n",
    "Constraints:\n",
    "1 <= sequence.length <= 100\n",
    "1 <= word.length <= 100\n",
    "sequence and word contains only lowercase English letters."
   ]
  },
  {
   "cell_type": "code",
   "execution_count": null,
   "id": "395d6aea",
   "metadata": {},
   "outputs": [],
   "source": [
    "def maxReapeating(sequence: str, word: str) -> int:\n",
    "    if not sequence or not word or word not in sequence:\n",
    "        return 0\n",
    "\n",
    "    max_possible = len(sequence) // len(word)\n",
    "    left, right = 1, max_possible\n",
    "    ans = 0\n",
    "    \n",
    "    while left <= right:\n",
    "        mid = left + right // 2\n",
    "        if word*mid in sequence:\n",
    "            ans = mid\n",
    "            left = mid + 1\n",
    "        else:\n",
    "            right = mid - 1\n",
    "        \n",
    "    return ans"
   ]
  },
  {
   "cell_type": "markdown",
   "id": "2b385125",
   "metadata": {},
   "source": [
    "       01234567890123\n",
    "abc in abcabcabcdabcd\n",
    "right=14/3=4\n",
    "\n",
    "left   right  mid    ans  \n",
    "1      4      2      2\n",
    "2      4      3      3\n",
    "3      4      3      3\n",
    "4      4      4      -"
   ]
  },
  {
   "cell_type": "code",
   "execution_count": null,
   "id": "c3614741",
   "metadata": {},
   "outputs": [],
   "source": [
    "def maxRepeating(sequence: str, word: str) -> int:\n",
    "    max_count = 0\n",
    "    n, m = len(sequence), len(word)\n",
    "\n",
    "    for i in range(n - m + 1):  # slide over long_str\n",
    "        count = 0\n",
    "        while sequence[i + count*m : i + (count+1)*m] == word:\n",
    "            count += 1\n",
    "        max_count = max(max_count, count)\n",
    "\n",
    "    return max_count"
   ]
  }
 ],
 "metadata": {
  "kernelspec": {
   "display_name": "Python 3",
   "language": "python",
   "name": "python3"
  },
  "language_info": {
   "name": "python",
   "version": "3.12.9"
  }
 },
 "nbformat": 4,
 "nbformat_minor": 5
}
