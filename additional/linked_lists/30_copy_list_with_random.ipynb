{
 "cells": [
  {
   "cell_type": "markdown",
   "id": "cea59f2e",
   "metadata": {},
   "source": [
    "Copy List with Random Pointer\n",
    "Medium\n",
    "A linked list of length n is given such that each node contains an additional random pointer, which could point to any node in the list, or null.\n",
    "Construct a deep copy of the list. The deep copy should consist of exactly n brand new nodes, where each new node has its value set to the value of its corresponding original node. Both the next and random pointer of the new nodes should point to new nodes in the copied list such that the pointers in the original list and copied list represent the same list state. None of the pointers in the new list should point to nodes in the original list.\n",
    "For example, if there are two nodes X and Y in the original list, where X.random --> Y, then for the corresponding two nodes x and y in the copied list, x.random --> y.\n",
    "Return the head of the copied linked list.\n",
    "The linked list is represented in the input/output as a list of n nodes. Each node is represented as a pair of [val, random_index] where:\n",
    "val: an integer representing Node.val\n",
    "random_index: the index of the node (range from 0 to n-1) that the random pointer points to, or null if it does not point to any node.\n",
    "Your code will only be given the head of the original linked list.\n",
    "\n",
    "Example 1:\n",
    "Input: head = [[7,null],[13,0],[11,4],[10,2],[1,0]]\n",
    "Output: [[7,null],[13,0],[11,4],[10,2],[1,0]]\n",
    "Example 2:\n",
    "Input: head = [[1,1],[2,1]]\n",
    "Output: [[1,1],[2,1]]\n",
    "Example 3:\n",
    "Input: head = [[3,null],[3,0],[3,null]]\n",
    "Output: [[3,null],[3,0],[3,null]]\n",
    "\n",
    "Constraints:\n",
    "0 <= n <= 1000\n",
    "-104 <= Node.val <= 104\n",
    "Node.random is null or is pointing to some node in the linked list."
   ]
  },
  {
   "cell_type": "code",
   "execution_count": null,
   "id": "684714d1",
   "metadata": {},
   "outputs": [],
   "source": [
    "from typing import Optional\n",
    "class ListNode:\n",
    "    def __init__(self, val, next=None, random=None):\n",
    "        self.val = val\n",
    "        self.next = next\n",
    "        self.random = random\n",
    "        \n",
    "def copyListWithRandom(head: Optional[ListNode]) -> Optional[ListNode]:\n",
    "    if not head:\n",
    "        return None\n",
    "    \n",
    "    # Adding a copy of each node to next to it\n",
    "    current = head\n",
    "    while current:\n",
    "        copy = ListNode(current.val)\n",
    "        copy.next = current.next\n",
    "        current.next = copy\n",
    "        current = copy.next\n",
    "        \n",
    "    # Copying random of each node as random to the copy node\n",
    "    current = head\n",
    "    while current:\n",
    "        if current.random:\n",
    "            current.next.random = current.random.next      \n",
    "        current = current.next.next \n",
    "        \n",
    "    # Seperating two linked lists\n",
    "    # head1-head1'-n1-n1'-n2-n2'-n3-n3'-None\n",
    "    current, copy_head = head, head.next\n",
    "    while current:\n",
    "         copy = current.next\n",
    "         current.next = copy.next if copy else None\n",
    "         copy.next = copy.next.next if copy.next else None\n",
    "         current = current.next\n",
    "    \n",
    "    return copy_head\n",
    "         "
   ]
  },
  {
   "cell_type": "markdown",
   "id": "211eae58",
   "metadata": {},
   "source": [
    "Step 3\n",
    "cuco\n",
    "h-h'-n1-n1'-n2-n2'-None\n",
    "\n",
    "current copy    current.next    copy.next   \n",
    "h       h'      h->n1           h'->n1'\n",
    "n1      n1'     n1->n2          n1'->n2'\n",
    "n2      n2'     n2->None        n2'->None\n",
    "  \n",
    "\n"
   ]
  }
 ],
 "metadata": {
  "kernelspec": {
   "display_name": "Python 3",
   "language": "python",
   "name": "python3"
  },
  "language_info": {
   "name": "python",
   "version": "3.12.9"
  }
 },
 "nbformat": 4,
 "nbformat_minor": 5
}
