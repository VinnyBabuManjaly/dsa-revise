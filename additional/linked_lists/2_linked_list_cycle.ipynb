{
 "cells": [
  {
   "cell_type": "markdown",
   "id": "2b0c6d8e",
   "metadata": {},
   "source": [
    "Linked List Cycle\n",
    "Easy\n",
    "Given head, the head of a linked list, determine if the linked list has a cycle in it.\n",
    "There is a cycle in a linked list if there is some node in the list that can be reached again by continuously following the next pointer. Internally, pos is used to denote the index of the node that tail's next pointer is connected to. Note that pos is not passed as a parameter.\n",
    "Return true if there is a cycle in the linked list. Otherwise, return false.\n",
    "\n",
    "Example 1:\n",
    "Input: head = [3,2,0,-4], pos = 1\n",
    "Output: true\n",
    "Explanation: There is a cycle in the linked list, where the tail connects to the 1st node (0-indexed).\n",
    "Example 2:\n",
    "Input: head = [1,2], pos = 0\n",
    "Output: true\n",
    "Explanation: There is a cycle in the linked list, where the tail connects to the 0th node.\n",
    "Example 3:\n",
    "Input: head = [1], pos = -1\n",
    "Output: false\n",
    "Explanation: There is no cycle in the linked list.\n",
    " \n",
    "Constraints:\n",
    "The number of the nodes in the list is in the range [0, 104].\n",
    "-105 <= Node.val <= 105\n",
    "pos is -1 or a valid index in the linked-list.\n",
    "\n",
    "[3,2,0,4]\n",
    "3,2,0,4,3,2,0,4,3,2,0,4,3,2,0,4,3,2,0,4,3,2,0,4\n",
    "3,0,3,0,"
   ]
  },
  {
   "cell_type": "code",
   "execution_count": 6,
   "id": "be0cc9a9",
   "metadata": {},
   "outputs": [
    {
     "name": "stdout",
     "output_type": "stream",
     "text": [
      "False\n"
     ]
    }
   ],
   "source": [
    "from typing import Optional\n",
    "\n",
    "class ListNode:\n",
    "    def __init__(self, val, next=None):\n",
    "        self.val = val\n",
    "        self.next = next\n",
    "        \n",
    "class Solution:\n",
    "    def hasCycle(self, head:ListNode) -> bool:\n",
    "        slow = fast = head\n",
    "        \n",
    "        while fast and fast.next:\n",
    "            slow = slow.next\n",
    "            fast = fast.next.next\n",
    "            if slow == fast:\n",
    "                return True\n",
    "        \n",
    "        return False\n",
    "    \n",
    "    def buildCyclicLinkedList(self, head: list, pos:int) -> Optional[ListNode]:\n",
    "        nodes = []\n",
    "        for val in head:\n",
    "            nodes.append(ListNode(val))\n",
    "        for i in range(len(nodes)-1):\n",
    "            nodes[i].next = nodes[i+1]\n",
    "        \n",
    "        if pos != -1:\n",
    "            nodes[-1].next = nodes[pos]\n",
    "        return nodes[0] if nodes else None    \n",
    "    \n",
    "    \n",
    "solution = Solution()\n",
    "head = solution.buildCyclicLinkedList([], -1)\n",
    "print(solution.hasCycle(head))  # Output: True\n",
    "    \n",
    "    \n",
    "        \n",
    "        \n",
    "        "
   ]
  }
 ],
 "metadata": {
  "kernelspec": {
   "display_name": "Python 3",
   "language": "python",
   "name": "python3"
  },
  "language_info": {
   "codemirror_mode": {
    "name": "ipython",
    "version": 3
   },
   "file_extension": ".py",
   "mimetype": "text/x-python",
   "name": "python",
   "nbconvert_exporter": "python",
   "pygments_lexer": "ipython3",
   "version": "3.12.9"
  }
 },
 "nbformat": 4,
 "nbformat_minor": 5
}
