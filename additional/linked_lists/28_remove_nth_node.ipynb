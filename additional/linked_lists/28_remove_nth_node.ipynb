{
 "cells": [
  {
   "cell_type": "markdown",
   "id": "d2f487c4",
   "metadata": {},
   "source": [
    "Remove Nth Node From End of List \n",
    "Medium  \n",
    "Given the head of a linked list, remove the nth node from the end of the list and return its head. \n",
    "\n",
    "Example 1: \n",
    "Input: head = [1,2,3,4,5], n = 2 \n",
    "Output: [1,2,3,5] \n",
    "Example 2: \n",
    "Input: head = [1], n = 1 \n",
    "Output: [] \n",
    "Example 3: \n",
    "Input: head = [1,2], n = 1 \n",
    "Output: [1] \n",
    " \n",
    "Constraints: \n",
    "The number of nodes in the list is sz. \n",
    "1 <= sz <= 30 \n",
    "0 <= Node.val <= 100  \n",
    "1 <= n <= sz \n",
    "\n",
    "              0 1 2 3 4 \n",
    "head = [dummy,1,2,3,4,5], n = 2 \n",
    "slow    fast    slow.next \n",
    "dummy   dummy   - \n",
    "-       1 \n",
    "-       2 \n",
    "1       3 \n",
    "2       4 \n",
    "3       5        \n",
    "\n",
    "3.next = 5 "
   ]
  },
  {
   "cell_type": "code",
   "execution_count": 2,
   "id": "2e69cda6",
   "metadata": {},
   "outputs": [
    {
     "name": "stdout",
     "output_type": "stream",
     "text": [
      "[1, 2, 4]\n"
     ]
    }
   ],
   "source": [
    "from typing import Optional, List\n",
    "\n",
    "class ListNode():\n",
    "    def __init__(self, val, next=None):\n",
    "        self.val = val\n",
    "        self.next = next\n",
    "\n",
    "def removeNthFromEnd(head: Optional[ListNode], n:int) -> Optional[ListNode]:\n",
    "    dummy = ListNode(-1, head)\n",
    "    \n",
    "    slow, fast = dummy, dummy\n",
    "    for _ in range(n):\n",
    "        fast = fast.next\n",
    "    while fast.next:\n",
    "        slow, fast = slow.next, fast.next\n",
    "    slow.next = slow.next.next\n",
    "    return dummy.next \n",
    "\n",
    "def buildLinkedList(head: List[int]) -> Optional[ListNode]:\n",
    "    dummy = ListNode(-1)\n",
    "    current = dummy\n",
    "    for val in head:\n",
    "        current.next = ListNode(val)\n",
    "        current = current.next\n",
    "    return dummy.next\n",
    "\n",
    "def linkedListtoList(head: Optional[ListNode]) -> List[int]:\n",
    "    result = []\n",
    "    while head:\n",
    "        result.append(head.val)\n",
    "        head = head.next\n",
    "    return result\n",
    "\n",
    "head = buildLinkedList([1,2,3,4])\n",
    "new_head = removeNthFromEnd(head, n=2)\n",
    "print(linkedListtoList(new_head))"
   ]
  }
 ],
 "metadata": {
  "kernelspec": {
   "display_name": "Python 3",
   "language": "python",
   "name": "python3"
  },
  "language_info": {
   "codemirror_mode": {
    "name": "ipython",
    "version": 3
   },
   "file_extension": ".py",
   "mimetype": "text/x-python",
   "name": "python",
   "nbconvert_exporter": "python",
   "pygments_lexer": "ipython3",
   "version": "3.12.9"
  }
 },
 "nbformat": 4,
 "nbformat_minor": 5
}
