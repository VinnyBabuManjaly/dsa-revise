{
 "cells": [
  {
   "cell_type": "markdown",
   "id": "123b9f79",
   "metadata": {},
   "source": [
    "Same Tree\n",
    "Easy\n",
    "Given the roots of two binary trees p and q, write a function to check if they are the same or not.\n",
    "Two binary trees are considered the same if they are structurally identical, and the nodes have the same value.\n",
    "\n",
    "Example 1:\n",
    "Input: p = [1,2,3], q = [1,2,3]\n",
    "Output: true\n",
    "Example 2:\n",
    "Input: p = [1,2], q = [1,null,2]\n",
    "Output: false\n",
    "Example 3:\n",
    "Input: p = [1,2,1], q = [1,1,2]\n",
    "Output: false\n",
    " \n",
    "Constraints:\n",
    "The number of nodes in both trees is in the range [0, 100].\n",
    "-104 <= Node.val <= 104"
   ]
  },
  {
   "cell_type": "code",
   "execution_count": null,
   "id": "a037e6a7",
   "metadata": {},
   "outputs": [],
   "source": [
    "from typing import Optional\n",
    "from collections import deque\n",
    "\n",
    "class TreeNode:\n",
    "    def __init__(self, val=0, left=None, right=None):\n",
    "        self.val = val\n",
    "        self.left = left\n",
    "        self.right = right\n",
    "\n",
    "def sameTreeRecursive(p: Optional[TreeNode], q: Optional[TreeNode]) -> bool:\n",
    "    if not p and not q:\n",
    "        return True\n",
    "    \n",
    "    if not p or not q or p.val != q.val:\n",
    "        return False\n",
    "    \n",
    "    return sameTreeRecursive(p.left, q.left) and sameTreeRecursive(p.right, q.right)\n",
    "\n",
    "def sameTreeIterative(p: Optional[TreeNode], q: Optional[TreeNode]) -> bool:\n",
    "    queue = deque([(p,q)])\n",
    "    \n",
    "    while queue:\n",
    "        node1, node2 = queue.popleft()\n",
    "        \n",
    "        if not node1 and not node2:\n",
    "            continue\n",
    "        if not node1 or not node2 or node1.val != node2.val:\n",
    "            return False\n",
    "        \n",
    "        queue.append((node1.left, node2.left))\n",
    "        queue.append((node1.right, node2.right))\n",
    "        \n",
    "    return True\n",
    "        "
   ]
  },
  {
   "cell_type": "markdown",
   "id": "30452d2a",
   "metadata": {},
   "source": [
    " p = [1,2,3], q = [1,2,3]\n",
    "\n",
    "\n",
    " s(1,1) -> True\n",
    "            s(2,2)  \n",
    "                    s(None, None) and s(None, None)     ->  True\n",
    "            s(3,3)\n",
    "                    s(None, None) and s(None, None)     ->  True"
   ]
  }
 ],
 "metadata": {
  "kernelspec": {
   "display_name": "Python 3",
   "language": "python",
   "name": "python3"
  },
  "language_info": {
   "name": "python",
   "version": "3.12.9"
  }
 },
 "nbformat": 4,
 "nbformat_minor": 5
}
