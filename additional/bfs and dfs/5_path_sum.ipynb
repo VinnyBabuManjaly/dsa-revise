{
 "cells": [
  {
   "cell_type": "markdown",
   "id": "4be8ec89",
   "metadata": {},
   "source": [
    "Path Sum\n",
    "Easy\n",
    "Given the root of a binary tree and an integer targetSum, return true if the tree has a root-to-leaf path such that adding up all the values along the path equals targetSum.\n",
    "A leaf is a node with no children.\n",
    "\n",
    "Example 1:\n",
    "Input: root = [5,4,8,11,null,13,4,7,2,null,null,null,1], targetSum = 22\n",
    "Output: true\n",
    "Explanation: The root-to-leaf path with the target sum is shown.\n",
    "Example 2:\n",
    "Input: root = [1,2,3], targetSum = 5\n",
    "Output: false\n",
    "Explanation: There are two root-to-leaf paths in the tree:\n",
    "(1 --> 2): The sum is 3.\n",
    "(1 --> 3): The sum is 4.\n",
    "There is no root-to-leaf path with sum = 5.\n",
    "Example 3:\n",
    "Input: root = [], targetSum = 0\n",
    "Output: false\n",
    "Explanation: Since the tree is empty, there are no root-to-leaf paths.\n",
    " \n",
    "Constraints:\n",
    "The number of nodes in the tree is in the range [0, 5000].\n",
    "-1000 <= Node.val <= 1000\n",
    "-1000 <= targetSum <= 1000"
   ]
  },
  {
   "cell_type": "code",
   "execution_count": null,
   "id": "2dfa7e03",
   "metadata": {},
   "outputs": [],
   "source": [
    "from typing import Optional\n",
    "\n",
    "class TreeNode:\n",
    "    def __init__(self, val=0, left=None, right=None):\n",
    "        self.val = val\n",
    "        self.left = left\n",
    "        self.right = right\n",
    "\n",
    "def hasPathSum(root: Optional[TreeNode], targetSum: int) -> bool:\n",
    "    if not root:\n",
    "        return False\n",
    "    stack = [(root, root.val)]\n",
    "    \n",
    "    while stack:\n",
    "        node, sum = stack.pop()\n",
    "        \n",
    "        if not node.right and not node.left and sum == targetSum:\n",
    "            return True\n",
    "        \n",
    "        if node.right:\n",
    "            stack.append((node.right, node.right.val+sum))\n",
    "        if node.left:\n",
    "            stack.append((node.left, node.left.val+sum))\n",
    "    \n",
    "    return False\n",
    "\n",
    "\n",
    "def hasPathSumRecursive(root: Optional[TreeNode], targetSum: int) -> bool:\n",
    "    if not root:\n",
    "        return False\n",
    "    \n",
    "    if not root.left and not root.right and root.val == targetSum:\n",
    "        return True\n",
    "    \n",
    "    return hasPathSumRecursive(root.left, targetSum-root.val) or hasPathSumRecursive(root.right, targetSum-root.val)\n",
    "    "
   ]
  },
  {
   "cell_type": "markdown",
   "id": "7b6933eb",
   "metadata": {},
   "source": [
    "Iterative:\n",
    "\n",
    "root = [1,2,3], targetSum = 5\n",
    "        1\n",
    "    2       3\n",
    "\n",
    "node    sum left    right   stack\n",
    "                            (1,1)\n",
    "1       1   2       3       (2,3),(3,4)\n",
    "2       3   n       n       (3,4)\n",
    "3       4   n       n       -\n",
    "\n",
    "\n",
    "\n",
    "Time: O(n) – visit each node once.\n",
    "Space: O(h) – stack can grow with tree height (h)."
   ]
  },
  {
   "cell_type": "markdown",
   "id": "4d690ff3",
   "metadata": {},
   "source": [
    "Recursive\n",
    "\n",
    "r(1,5)\n",
    "    r(2,3)  False    \n",
    "    r(3,2)  False\n",
    "\n",
    "\n",
    "Time: O(n) — must visit all nodes in worst case.\n",
    "Space: O(h) — height of tree for recursive calls."
   ]
  }
 ],
 "metadata": {
  "kernelspec": {
   "display_name": "Python 3",
   "language": "python",
   "name": "python3"
  },
  "language_info": {
   "codemirror_mode": {
    "name": "ipython",
    "version": 3
   },
   "file_extension": ".py",
   "mimetype": "text/x-python",
   "name": "python",
   "nbconvert_exporter": "python",
   "pygments_lexer": "ipython3",
   "version": "3.12.9"
  }
 },
 "nbformat": 4,
 "nbformat_minor": 5
}
