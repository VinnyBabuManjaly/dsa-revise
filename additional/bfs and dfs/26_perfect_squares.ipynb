{
 "cells": [
  {
   "cell_type": "markdown",
   "id": "2c6783f5",
   "metadata": {},
   "source": [
    "Perfect Squares\n",
    "Medium\n",
    "Given an integer n, return the least number of perfect square numbers that sum to n.\n",
    "A perfect square is an integer that is the square of an integer; in other words, it is the product of some integer with itself. For example, 1, 4, 9, and 16 are perfect squares while 3 and 11 are not.\n",
    "\n",
    "Example 1:\n",
    "Input: n = 12\n",
    "Output: 3\n",
    "Explanation: 12 = 4 + 4 + 4.\n",
    "Example 2:\n",
    "Input: n = 13\n",
    "Output: 2\n",
    "Explanation: 13 = 4 + 9.\n",
    "\n",
    "Constraints:\n",
    "1 <= n <= 104"
   ]
  },
  {
   "cell_type": "code",
   "execution_count": null,
   "id": "729f5960",
   "metadata": {},
   "outputs": [],
   "source": [
    "from collections import deque\n",
    "import math\n",
    "\n",
    "def perfectSquares(n: int) -> int:\n",
    "    queue = deque([(0,0)])\n",
    "    visited = set()\n",
    "\n",
    "    squares = [i*i for i in range(1, int(math.sqrt(n))+1)]\n",
    "\n",
    "    while queue:\n",
    "        val, steps = queue.popleft()\n",
    "        for square in squares:\n",
    "            next_val = val + square\n",
    "            if next_val  == n:\n",
    "                return steps+1\n",
    "            if next_val < n and next_val not in visited:\n",
    "                queue.append((next_val, steps+1))\n",
    "                visited.add(next_val)\n",
    "\n",
    "    return -1"
   ]
  },
  {
   "cell_type": "markdown",
   "id": "b218c336",
   "metadata": {},
   "source": [
    "queue   [(0,0)]\n",
    "set     {}\n",
    "n=6\n",
    "squares =[1,4]\n",
    "\n",
    "0->1->1->2\n",
    "1+1+4=6\n",
    "val steps   square  next    queue   visited\n",
    "0   0       1       1       1,1     1\n",
    "            4       4       4,1     4\n",
    "\n",
    "1   1       1       2       2,2     2\n",
    "            4       5       5,2     5\n",
    "\n",
    "4   1       1       5       -       -\n",
    "            4       8       -       -\n",
    "\n",
    "2   2       1       3       3,3     3\n",
    "            4       6       \n",
    "                    3"
   ]
  },
  {
   "cell_type": "markdown",
   "id": "46e7b599",
   "metadata": {},
   "source": [
    "Time: O(n*sqrt(n))\n",
    "    O(n) nodes  \n",
    "    ×  \n",
    "    O(√n) children per node (due to trying all perfect squares)    \n",
    "\n",
    "     \n",
    "Space: O(n)  \n",
    "    We use:  \n",
    "        A visited set to avoid processing the same number twice → size O(n)  \n",
    "        A queue for BFS → in worst case, can also hold up to O(n) elements  \n",
    "        A list of perfect squares → size O(√n)  "
   ]
  }
 ],
 "metadata": {
  "kernelspec": {
   "display_name": "Python 3",
   "language": "python",
   "name": "python3"
  },
  "language_info": {
   "name": "python",
   "version": "3.12.9"
  }
 },
 "nbformat": 4,
 "nbformat_minor": 5
}
