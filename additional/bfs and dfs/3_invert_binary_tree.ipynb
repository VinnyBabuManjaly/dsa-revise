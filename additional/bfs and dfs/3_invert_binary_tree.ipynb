{
 "cells": [
  {
   "cell_type": "markdown",
   "id": "b014711a",
   "metadata": {},
   "source": [
    "Invert Binary Tree\n",
    "Easy\n",
    "Given the root of a binary tree, invert the tree, and return its root.\n",
    "\n",
    "Example 1:\n",
    "Input: root = [4,2,7,1,3,6,9]\n",
    "Output: [4,7,2,9,6,3,1]\n",
    "Example 2:\n",
    "Input: root = [2,1,3]\n",
    "Output: [2,3,1]\n",
    "Example 3:\n",
    "Input: root = []\n",
    "Output: []\n",
    "\n",
    "Constraints:\n",
    "The number of nodes in the tree is in the range [0, 100].\n",
    "-100 <= Node.val <= 100"
   ]
  },
  {
   "cell_type": "code",
   "execution_count": null,
   "id": "461b8f2d",
   "metadata": {},
   "outputs": [],
   "source": [
    "from collections import deque\n",
    "from typing import Optional\n",
    "\n",
    "class TreeNode:\n",
    "    def __init__(self, val=0, left=None, right=None):\n",
    "        self.val = val\n",
    "        self.left = left\n",
    "        self.right = right\n",
    "\n",
    "def invertTreeRecursive(root: Optional[TreeNode]) -> Optional[TreeNode]:\n",
    "    if not root:\n",
    "        return None\n",
    "\n",
    "    root.left, root.right = root.right, root.left\n",
    "\n",
    "    invertTreeRecursive(root.left)\n",
    "    invertTreeRecursive(root.right)\n",
    "\n",
    "    return root\n",
    "\n",
    "def invertTreeIterative(root: Optional[TreeNode]) -> Optional[TreeNode]:\n",
    "    if not root:\n",
    "        return None\n",
    "\n",
    "    queue = deque([root])\n",
    "    while queue:\n",
    "        node = queue.popleft()\n",
    "        node.left, node.right = node.right, node.left\n",
    "        if node.left:\n",
    "            queue.append(node.left)\n",
    "        if node.right:\n",
    "            queue.append(node.right)\n",
    "    \n",
    "    return root"
   ]
  },
  {
   "cell_type": "markdown",
   "id": "050e760f",
   "metadata": {},
   "source": [
    "Recursive iteration:\n",
    "root = [2,1,3]\n",
    "\n",
    "r(2)    l,r = 3,1                   2\n",
    "        r(3)    l,r=None,None       3\n",
    "            r(None)                 None\n",
    "        r(1)    l,r=None,None       1\n",
    "            r(None)                 None"
   ]
  },
  {
   "cell_type": "markdown",
   "id": "e97b0272",
   "metadata": {},
   "source": [
    "Iterative iteration:\n",
    "root = [2,1,3]\n",
    "queue=[2]\n",
    "\n",
    "node    left   right   queue\n",
    "2       3       1       3,1\n",
    "3       None    None    1\n",
    "1       None    None    -"
   ]
  },
  {
   "cell_type": "markdown",
   "id": "39b3676f",
   "metadata": {},
   "source": [
    "✅ Time and Space Complexity\n",
    "Time: O(n) – each node is visited once.\n",
    "\n",
    "Space: O(h) for recursion (h is tree height), or O(n) in worst case for queue (BFS)."
   ]
  }
 ],
 "metadata": {
  "kernelspec": {
   "display_name": "Python 3",
   "language": "python",
   "name": "python3"
  },
  "language_info": {
   "codemirror_mode": {
    "name": "ipython",
    "version": 3
   },
   "file_extension": ".py",
   "mimetype": "text/x-python",
   "name": "python",
   "nbconvert_exporter": "python",
   "pygments_lexer": "ipython3",
   "version": "3.12.9"
  }
 },
 "nbformat": 4,
 "nbformat_minor": 5
}
