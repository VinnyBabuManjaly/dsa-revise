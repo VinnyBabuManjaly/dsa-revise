{
 "cells": [
  {
   "cell_type": "markdown",
   "id": "b319e2ce",
   "metadata": {},
   "source": [
    "Validate Binary Search Tree\n",
    "Medium\n",
    "Given the root of a binary tree, determine if it is a valid binary search tree (BST).\n",
    "A valid BST is defined as follows:\n",
    "The left subtree of a node contains only nodes with keys strictly less than the node's key.\n",
    "The right subtree of a node contains only nodes with keys strictly greater than the node's key.\n",
    "Both the left and right subtrees must also be binary search trees.\n",
    " \n",
    "Example 1:\n",
    "Input: root = [2,1,3]\n",
    "Output: true\n",
    "Example 2:\n",
    "Input: root = [5,1,4,null,null,3,6]\n",
    "Output: false\n",
    "Explanation: The root node's value is 5 but its right child's value is 4.\n",
    " \n",
    "Constraints:\n",
    "The number of nodes in the tree is in the range [1, 104].\n",
    "-231 <= Node.val <= 231 - 1"
   ]
  },
  {
   "cell_type": "code",
   "execution_count": null,
   "id": "f7383821",
   "metadata": {},
   "outputs": [],
   "source": [
    "from typing import Optional\n",
    "\n",
    "class TreeNode:\n",
    "    def __init__(self, val=0, left=None, right=None):\n",
    "        self.val = val\n",
    "        self.left = left\n",
    "        self.right = right\n",
    "        \n",
    "class Solution:\n",
    "    def isValidBSTIterative(self, root: Optional[TreeNode]):\n",
    "        stack = []\n",
    "        current = root\n",
    "        prev = float('-inf')\n",
    "        \n",
    "        while stack or current:\n",
    "            while current:\n",
    "                stack.append(current)\n",
    "                current = current.left\n",
    "                \n",
    "            current = stack.pop()\n",
    "            if current.val < prev:\n",
    "                return False\n",
    "            prev = current.val\n",
    "            current = current.right\n",
    "            \n",
    "        return True\n",
    "    \n",
    "    def isValidBSTRecursive(self, root: Optional[TreeNode]) -> bool:\n",
    "        def validate(node, low, high):\n",
    "            if not node:\n",
    "                return True\n",
    "            \n",
    "            if not low < node.val < high:\n",
    "                return False\n",
    "            \n",
    "            return validate(node.left, low, node.val) and validate(node.right, node.val, high)\n",
    "\n",
    "        return validate(root, float('-inf'), float('inf'))\n",
    "            "
   ]
  },
  {
   "cell_type": "markdown",
   "id": "df761310",
   "metadata": {},
   "source": [
    "Time and Space Complexity\n",
    "Time: O(n) – visits each node once\n",
    "\n",
    "Space: O(h) – recursion depth = height of tree (h)\n",
    "Space: O(h) — Stack size = tree height(iterative)\n"
   ]
  }
 ],
 "metadata": {
  "kernelspec": {
   "display_name": "Python 3",
   "language": "python",
   "name": "python3"
  },
  "language_info": {
   "codemirror_mode": {
    "name": "ipython",
    "version": 3
   },
   "file_extension": ".py",
   "mimetype": "text/x-python",
   "name": "python",
   "nbconvert_exporter": "python",
   "pygments_lexer": "ipython3",
   "version": "3.12.9"
  }
 },
 "nbformat": 4,
 "nbformat_minor": 5
}
