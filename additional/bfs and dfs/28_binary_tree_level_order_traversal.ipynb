{
 "cells": [
  {
   "cell_type": "markdown",
   "id": "d70b5cde",
   "metadata": {},
   "source": [
    "Binary Tree Level Order Traversal\n",
    "Medium\n",
    "Given the root of a binary tree, return the level order traversal of its nodes' values. (i.e., from left to right, level by level).\n",
    "\n",
    "Example 1:\n",
    "Input: root = [3,9,20,null,null,15,7]\n",
    "Output: [[3],[9,20],[15,7]]\n",
    "Example 2:\n",
    "Input: root = [1]\n",
    "Output: [[1]]\n",
    "Example 3:\n",
    "Input: root = []\n",
    "Output: []\n",
    " \n",
    "Constraints:\n",
    "The number of nodes in the tree is in the range [0, 2000].\n",
    "-1000 <= Node.val <= 1000"
   ]
  },
  {
   "cell_type": "code",
   "execution_count": null,
   "id": "25a7ddd8",
   "metadata": {},
   "outputs": [],
   "source": [
    "from collections import deque\n",
    "from typing import Optional, List\n",
    "\n",
    "class TreeNode:\n",
    "    def __init__(self, val=0, left=None, right=None):\n",
    "        self.val = val\n",
    "        self.left = left\n",
    "        self.right = right\n",
    "\n",
    "def levelOrder(root: Optional[TreeNode]) -> Optional[List[List[int]]]:\n",
    "    if not root:\n",
    "        return []\n",
    "    queue = deque([root])\n",
    "    result = []\n",
    "    \n",
    "    while queue:\n",
    "        level_size = len(queue)\n",
    "        list = []\n",
    "        \n",
    "        for _ in range(level_size):\n",
    "            node = queue.popleft()\n",
    "            list.append(node.val)\n",
    "            if node.left:\n",
    "                queue.append(node.left)\n",
    "            if node.right:\n",
    "                queue.append(node.right)\n",
    "                \n",
    "        result.append(list)\n",
    "        \n",
    "    return result\n",
    "\n",
    "def levelOrderRecursive(root: Optional[TreeNode]) -> Optional[List[List[int]]]:\n",
    "    result = []\n",
    "    \n",
    "    def dfs(node, level):\n",
    "        if not node:\n",
    "            return\n",
    "        \n",
    "        if level == len(result):\n",
    "            result.append([])\n",
    "            \n",
    "        if node: \n",
    "            result[level].append(node.val)\n",
    "            \n",
    "        dfs(node.left, level+1)\n",
    "        dfs(node.right, level+1)\n",
    "        \n",
    "    dfs(root, 0)\n",
    "    return result"
   ]
  },
  {
   "cell_type": "markdown",
   "id": "ed876764",
   "metadata": {},
   "source": [
    "Recursive:\n",
    "\n",
    "[3,9,20,null,null,15,7]\n",
    "                3\n",
    "        9               20\n",
    "                    15      7\n",
    "\n",
    "d(3,0)                  [3]\n",
    "    d(9,1)              [9]                                \n",
    "    d(20,1)             [9,20]\n",
    "        d(15,2)\n",
    "        d(7,2)"
   ]
  },
  {
   "cell_type": "markdown",
   "id": "483c4c4b",
   "metadata": {},
   "source": [
    "✅ Time and Space Complexity\n",
    "Time: O(n) — visit every node once.\n",
    "\n",
    "Space: O(h) for recursion stack (h = tree height) + result list.\n",
    "\n",
    "Time and Space Complexity Iterative\n",
    "Time: O(n) — each node is visited once.\n",
    "\n",
    "Space: O(n) — space for queue and result list."
   ]
  }
 ],
 "metadata": {
  "kernelspec": {
   "display_name": "Python 3",
   "language": "python",
   "name": "python3"
  },
  "language_info": {
   "name": "python",
   "version": "3.12.9"
  }
 },
 "nbformat": 4,
 "nbformat_minor": 5
}
