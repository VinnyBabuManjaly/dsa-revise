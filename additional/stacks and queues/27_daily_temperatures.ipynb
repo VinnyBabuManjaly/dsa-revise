{
 "cells": [
  {
   "cell_type": "markdown",
   "id": "687cc121",
   "metadata": {},
   "source": [
    "Daily Temperatures  \n",
    "Medium  \n",
    "Given an array of integers temperatures represents the daily temperatures, return an array answer such that answer[i] is the number of days you have to wait after the ith day to get a warmer temperature. If there is no future day for which this is possible, keep answer[i] == 0 instead.  \n",
    "\n",
    "Example 1:  \n",
    "Input: temperatures = [73,74,75,71,69,72,76,73]  \n",
    "Output: [1,1,4,2,1,1,0,0]  \n",
    "Example 2:  \n",
    "Input: temperatures = [30,40,50,60]  \n",
    "Output: [1,1,1,0]  \n",
    "Example 3:  \n",
    "Input: temperatures = [30,60,90]  \n",
    "Output: [1,1,0]  \n",
    "   \n",
    "Constraints:  \n",
    "1 <= temperatures.length <= 105  \n",
    "30 <= temperatures[i] <= 100  "
   ]
  },
  {
   "cell_type": "code",
   "execution_count": null,
   "id": "fa2d1436",
   "metadata": {},
   "outputs": [],
   "source": [
    "from typing import List\n",
    "\n",
    "def daily_temperatures(temperatures: List[int]) -> List[int]:\n",
    "    result = [0] * len(temperatures)\n",
    "    stack = []\n",
    "\n",
    "    for i, temp in enumerate(temperatures):\n",
    "        while stack and temp > temperatures[stack[-1]]:\n",
    "            prev = stack.pop()\n",
    "            result[prev] = i - prev\n",
    "        stack.append(i)\n",
    "    \n",
    "    return result"
   ]
  },
  {
   "cell_type": "markdown",
   "id": "7928a8f1",
   "metadata": {},
   "source": [
    "  0  1  2  3  4  5  6  7   \n",
    "[73,74,75,71,69,72,76,73]    \n",
    "\n",
    "i   temp    prev    temp[prev]  stack   res    \n",
    "0   73      -       -           0       -     \n",
    "1   74      0       73          1       1....    \n",
    "2   75      1       74          2       1,1....    \n",
    "3   71      -       -           2,3     -    \n",
    "4   69      -       -           2,3,4   -   \n",
    "5   72      4       69          2,3,5   1,1,0,0,3,...  \n",
    "6   76      5       72          2,3,    1,1,0,0,3,4,..  \n",
    "6   76      3       71          2,      1,1,0,5,3,4  \n",
    "6   76      2       75                  1,1,1,5,3,4  \n",
    "\n",
    "\n"
   ]
  }
 ],
 "metadata": {
  "kernelspec": {
   "display_name": "Python 3",
   "language": "python",
   "name": "python3"
  },
  "language_info": {
   "name": "python",
   "version": "3.12.9"
  }
 },
 "nbformat": 4,
 "nbformat_minor": 5
}
