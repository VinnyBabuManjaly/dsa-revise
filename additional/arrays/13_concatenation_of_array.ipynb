{
 "cells": [
  {
   "cell_type": "markdown",
   "id": "3af4895f",
   "metadata": {},
   "source": [
    "Concatenation of Array\n",
    "Easy\n",
    "Given an integer array nums of length n, you want to create an array ans of length 2n where ans[i] == nums[i] and ans[i + n] == nums[i] for 0 <= i < n (0-indexed).\n",
    "\n",
    "Specifically, ans is the concatenation of two nums arrays.\n",
    "\n",
    "Return the array ans.\n",
    "\n",
    " \n",
    "\n",
    "Example 1:\n",
    "\n",
    "Input: nums = [1,2,1]\n",
    "Output: [1,2,1,1,2,1]\n",
    "Explanation: The array ans is formed as follows:\n",
    "- ans = [nums[0],nums[1],nums[2],nums[0],nums[1],nums[2]]\n",
    "- ans = [1,2,1,1,2,1]\n",
    "Example 2:\n",
    "\n",
    "Input: nums = [1,3,2,1]\n",
    "Output: [1,3,2,1,1,3,2,1]\n",
    "Explanation: The array ans is formed as follows:\n",
    "- ans = [nums[0],nums[1],nums[2],nums[3],nums[0],nums[1],nums[2],nums[3]]\n",
    "- ans = [1,3,2,1,1,3,2,1]\n",
    " \n",
    "Constraints:\n",
    "n == nums.length\n",
    "1 <= n <= 1000\n",
    "1 <= nums[i] <= 1000"
   ]
  },
  {
   "cell_type": "markdown",
   "id": "8360c70e",
   "metadata": {},
   "source": [
    "[1,12,24,30,31,48]\n",
    "[1,12,24,30,31,48,1,12,24,30,31,48]\n",
    "\n"
   ]
  },
  {
   "cell_type": "code",
   "execution_count": null,
   "id": "4fe6205e",
   "metadata": {
    "vscode": {
     "languageId": "plaintext"
    }
   },
   "outputs": [],
   "source": [
    "from typing import List\n",
    "\n",
    "def concatenate(nums: List[int]) -> List[int]:\n",
    "    res = []\n",
    "\n",
    "    for i in range(2):\n",
    "        for num in nums:\n",
    "            res.append(num)\n",
    "    \n",
    "    return result"
   ]
  }
 ],
 "metadata": {
  "language_info": {
   "name": "python"
  }
 },
 "nbformat": 4,
 "nbformat_minor": 5
}
