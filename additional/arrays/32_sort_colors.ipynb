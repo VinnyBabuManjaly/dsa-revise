{
 "cells": [
  {
   "cell_type": "markdown",
   "id": "692ab20a",
   "metadata": {},
   "source": [
    "Sort Colors\n",
    "\n",
    "Medium\n",
    "Given an array nums with n objects colored red, white, or blue, sort them in-place so that objects of the same color are adjacent, with the colors in the order red, white, and blue.\n",
    "We will use the integers 0, 1, and 2 to represent the color red, white, and blue, respectively.\n",
    "You must solve this problem without using the library's sort function.\n",
    "\n",
    "\n",
    "Example 1:\n",
    "Input: nums = [2,0,2,1,1,0]\n",
    "Output: [0,0,1,1,2,2]\n",
    "Example 2:\n",
    "Input: nums = [2,0,1]\n",
    "Output: [0,1,2]\n",
    " \n",
    "\n",
    "Constraints:\n",
    "n == nums.length\n",
    "1 <= n <= 300\n",
    "nums[i] is either 0, 1, or 2."
   ]
  },
  {
   "cell_type": "markdown",
   "id": "c550d340",
   "metadata": {},
   "source": [
    " 0 1 2 3 4 5 6 7 8 9 0\n",
    "    [0,0,1,1,1,1,2,2,2,2,2]\n",
    "m              ^\n",
    "l        ^                 \n",
    "r               ^                        \n",
    "\n",
    "[1,1,1,0,2,0,2,1,2,2,2]\n",
    "\n",
    "\n",
    "start: l=0, r=10, m=1\n",
    "\n",
    "if nums[m] == 0 and nums[l] != 0:\n",
    "    nums[m], nums[l] = nums[l], nums[m]\n",
    "    l += 1\n",
    "elif nums[l] == 0:\n",
    "    l += 1\n",
    "if nums[m] == 2 and nums[r] != 2:\n",
    "    nums[m], nums[r] = nums[r], nums[m]\n",
    "    r -= 1\n",
    "elif nums[r] == 2:\n",
    "    r -= 1"
   ]
  },
  {
   "cell_type": "code",
   "execution_count": null,
   "id": "1ab14b32",
   "metadata": {},
   "outputs": [],
   "source": [
    "\n",
    "\n",
    "def sortColors(nums: list[int]) -> None:\n",
    "    left, right, mid = 0, len(nums) -1, 0\n",
    "    \n",
    "    while mid <= right:\n",
    "        if nums[mid] == 0:\n",
    "            nums[left], nums[mid] = nums[mid], nums[left]\n",
    "            mid += 1\n",
    "            left += 1\n",
    "        elif nums[mid] == 1:\n",
    "            mid += 1\n",
    "        else:   # nums[mid] == 2\n",
    "            nums[right], nums[mid] = nums[mid], nums[right]\n",
    "            right -= 1\n",
    "    \n",
    "        \n",
    "    \n",
    "\n",
    "\n",
    "\"\"\"\n",
    "[2,0,2,1,1,0]\n",
    "\n",
    "    [0,0,1,1,2,2]\n",
    "m            ^\n",
    "l        ^\n",
    "r          ^\n",
    "\n",
    "[2,0,1]\n",
    "\n",
    "    [0,1,2]\n",
    "m        ^\n",
    "l      ^\n",
    "r      ^\n",
    "\"\"\""
   ]
  }
 ],
 "metadata": {
  "kernelspec": {
   "display_name": "Python 3",
   "language": "python",
   "name": "python3"
  },
  "language_info": {
   "name": "python",
   "version": "3.12.9"
  }
 },
 "nbformat": 4,
 "nbformat_minor": 5
}
