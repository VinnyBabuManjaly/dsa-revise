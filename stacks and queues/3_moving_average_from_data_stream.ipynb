{
 "cells": [
  {
   "cell_type": "markdown",
   "id": "348e289b",
   "metadata": {},
   "source": [
    "Moving Average from Data Stream  \n",
    "Easy   \n",
    "Given a stream of integers and a window size, calculate the moving average of all integers in the sliding window.\n",
    "Implement the MovingAverage class:\n",
    "MovingAverage(int size) Initializes the object with the size of the window size.\n",
    "double next(int val) Returns the moving average of the last size values of the stream.\n",
    "\n",
    "Example 1:   \n",
    "Input   \n",
    "[\"MovingAverage\", \"next\", \"next\", \"next\", \"next\"]   \n",
    "[[3], [1], [10], [3], [5]]   \n",
    "Output   \n",
    "[null, 1.0, 5.5, 4.66667, 6.0]   \n",
    "Explanation   \n",
    "MovingAverage movingAverage = new MovingAverage(3);   \n",
    "movingAverage.next(1); // return 1.0 = 1 / 1   \n",
    "movingAverage.next(10); // return 5.5 = (1 + 10) / 2   \n",
    "movingAverage.next(3); // return 4.66667 = (1 + 10 + 3) / 3   \n",
    "movingAverage.next(5); // return 6.0 = (10 + 3 + 5) / 3   "
   ]
  },
  {
   "cell_type": "code",
   "execution_count": null,
   "id": "9c2db6cd",
   "metadata": {},
   "outputs": [],
   "source": [
    "from collections import deque\n",
    "\n",
    "class MovingAverage:\n",
    "    def __init__(self, size: int) -> None:\n",
    "        self.window = deque()\n",
    "        self.window_sum = 0\n",
    "        self.size = size\n",
    "\n",
    "    def next(self, val:int) -> float:\n",
    "        self.window.append(val)\n",
    "        self.window_sum += val\n",
    "\n",
    "        if len(self.window) > self.size:\n",
    "            self.window_sum -= self.window.popleft()\n",
    "        \n",
    "        return self.window_sum / len(self.window)\n"
   ]
  },
  {
   "cell_type": "markdown",
   "id": "b677d427",
   "metadata": {},
   "source": [
    "[\"MovingAverage\", \"next\", \"next\", \"next\", \"next\"]   \n",
    "[[3], [1], [10], [3], [5]]  \n",
    "\n",
    "size=3  \n",
    "val window      sum avg  \n",
    "1   1           1   1  \n",
    "10  1,10        11  11/2  \n",
    "3   1,10,3      14  14/3  \n",
    "5   1,10,3,5    19-1    18/3  \n"
   ]
  }
 ],
 "metadata": {
  "kernelspec": {
   "display_name": "Python 3",
   "language": "python",
   "name": "python3"
  },
  "language_info": {
   "name": "python",
   "version": "3.12.9"
  }
 },
 "nbformat": 4,
 "nbformat_minor": 5
}
