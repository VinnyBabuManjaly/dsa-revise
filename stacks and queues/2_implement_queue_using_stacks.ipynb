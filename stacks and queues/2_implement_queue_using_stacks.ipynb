{
 "cells": [
  {
   "cell_type": "markdown",
   "id": "df6a1373",
   "metadata": {},
   "source": [
    "Implement Queue using Stacks    \n",
    "\n",
    "Easy  \n",
    "\n",
    "Implement a first in first out (FIFO) queue using only two stacks. The implemented queue should support all the functions of a normal queue (push, peek, pop, and empty).  \n",
    "Implement the MyQueue class:  \n",
    "void push(int x) Pushes element x to the back of the queue.   \n",
    "int pop() Removes the element from the front of the queue and returns it.  \n",
    "int peek() Returns the element at the front of the queue.    \n",
    "boolean empty() Returns true if the queue is empty, false otherwise.   \n",
    "Notes:  \n",
    "You must use only standard operations of a stack, which means only push to top, peek/pop from top, size, and is empty operations are valid.  \n",
    "Depending on your language, the stack may not be supported natively. You may simulate a stack using a list or deque (double-ended queue) as long as you use only a stack's standard operations.  \n",
    "\n",
    "Example 1:\n",
    "Input\n",
    "[\"MyQueue\", \"push\", \"push\", \"peek\", \"pop\", \"empty\"]\n",
    "[[], [1], [2], [], [], []]\n",
    "Output\n",
    "[null, null, null, 1, 1, false]\n",
    "Explanation\n",
    "MyQueue myQueue = new MyQueue();\n",
    "myQueue.push(1); // queue is: [1]\n",
    "myQueue.push(2); // queue is: [1, 2] (leftmost is front of the queue)\n",
    "myQueue.peek(); // return 1\n",
    "myQueue.pop(); // return 1, queue is [2]\n",
    "myQueue.empty(); // return false\n",
    "\n",
    "Constraints:\n",
    "1 <= x <= 9\n",
    "At most 100 calls will be made to push, pop, peek, and empty.\n",
    "All the calls to pop and peek are valid."
   ]
  },
  {
   "cell_type": "code",
   "execution_count": null,
   "id": "d1fa5807",
   "metadata": {},
   "outputs": [],
   "source": [
    "class MyQueue:\n",
    "    def __init__(self):\n",
    "        self.in_stack = []\n",
    "        self.out_stack = []\n",
    "\n",
    "    def push(self, val:int) -> None:\n",
    "        self.in_stack.append(val)\n",
    "\n",
    "    def peek(self) -> int:\n",
    "        self._transfer()\n",
    "        return self.out_stack[-1]\n",
    "\n",
    "    def pop(self) -> int:\n",
    "        self._transfer()\n",
    "        return self.out_stack.pop()\n",
    "\n",
    "    def empty(self) -> bool:\n",
    "        return not self.in_stack and not self.out_stack\n",
    "\n",
    "    def _transfer(self):\n",
    "        if not self.out_stack:\n",
    "            while self.in_stack:\n",
    "                self.out_stack.append(self.in_stack.pop())"
   ]
  },
  {
   "cell_type": "markdown",
   "id": "09b37f9a",
   "metadata": {},
   "source": [
    "[\"MyQueue\", \"push\", \"push\", \"peek\", \"pop\", \"empty\"]\n",
    "[[], [1], [2], [], [], []]\n",
    "\n",
    "push\n",
    "in=[1]  out=[]\n",
    "\n",
    "peek\n",
    "in=[]   out[1]\n",
    "\n",
    "pop\n",
    "in=[]   out=[]\n",
    "\n"
   ]
  }
 ],
 "metadata": {
  "kernelspec": {
   "display_name": "Python 3",
   "language": "python",
   "name": "python3"
  },
  "language_info": {
   "name": "python",
   "version": "3.12.9"
  }
 },
 "nbformat": 4,
 "nbformat_minor": 5
}
