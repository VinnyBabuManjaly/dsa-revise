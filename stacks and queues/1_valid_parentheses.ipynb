{
 "cells": [
  {
   "cell_type": "markdown",
   "id": "f1835841",
   "metadata": {},
   "source": [
    "Valid Parentheses  \n",
    "\n",
    "Easy  \n",
    "\n",
    "Given a string s containing just the characters '(', ')', '{', '}', '[' and ']', determine if the input string is valid.  \n",
    "An input string is valid if:  \n",
    "Open brackets must be closed by the same type of brackets.  \n",
    "Open brackets must be closed in the correct order.  \n",
    "Every close bracket has a corresponding open bracket of the same type.  \n",
    "\n",
    "Example 1:  \n",
    "Input: s = \"()\"  \n",
    "Output: true  \n",
    "Example 2:  \n",
    "Input: s = \"()[]{}\"  \n",
    "Output: true  \n",
    "Example 3:   \n",
    "Input: s = \"(]\"  \n",
    "Output: false  \n",
    "Example 4:  \n",
    "Input: s = \"([])\"  \n",
    "Output: true  \n",
    "Example 5:  \n",
    "Input: s = \"([)]\"  \n",
    "Output: false  \n",
    "\n",
    "Constraints:  \n",
    "1 <= s.length <= 104  \n",
    "s consists of parentheses only '()[]{}'.  "
   ]
  },
  {
   "cell_type": "code",
   "execution_count": null,
   "id": "4eaad983",
   "metadata": {},
   "outputs": [],
   "source": [
    "def validParentheses(s:str) -> bool:\n",
    "    stack = []\n",
    "    mapping = {')': '(', ']': '[', '}': '{'}\n",
    "    \n",
    "    for char in s:\n",
    "        if char in mapping:\n",
    "            top = stack.pop() if stack else '#'\n",
    "            if top != mapping[char]:\n",
    "                return False\n",
    "        else:\n",
    "            stack.append(char)\n",
    "    \n",
    "    return not stack"
   ]
  },
  {
   "cell_type": "markdown",
   "id": "408ae817",
   "metadata": {},
   "source": [
    "mapping = {')': '(', ']': '[', '}': '{'}\n",
    "\n",
    "s = \"()[]{}\"\n",
    "char    map[char]   top stack\n",
    "(       -           -   (\n",
    ")       (           (   -\n",
    "[       -           -   [\n",
    "\n",
    "    \n",
    "s = \"([])\"   \n",
    "char    map[char]   top stack\n",
    "(       -           -   (\n",
    "[       -           -   ([\n",
    "]       [           [   (\n",
    ")       (           (   -\n"
   ]
  }
 ],
 "metadata": {
  "kernelspec": {
   "display_name": "Python 3",
   "language": "python",
   "name": "python3"
  },
  "language_info": {
   "name": "python",
   "version": "3.12.9"
  }
 },
 "nbformat": 4,
 "nbformat_minor": 5
}
