{
 "cells": [
  {
   "cell_type": "markdown",
   "id": "eb0188d0",
   "metadata": {},
   "source": [
    "Sliding Window Maximum\n",
    "Hard\n",
    "You are given an array of integers nums, there is a sliding window of size k which is moving from the very left of the array to the very right. You can only see the k numbers in the window. Each time the sliding window moves right by one position.\n",
    "Return the max sliding window.\n",
    "\n",
    "Example 1:\n",
    "Input: nums = [1,3,-1,-3,5,3,6,7], k = 3\n",
    "Output: [3,3,5,5,6,7]\n",
    "Explanation: \n",
    "Window position                Max\n",
    "---------------               -----\n",
    "[1  3  -1] -3  5  3  6  7       3\n",
    " 1 [3  -1  -3] 5  3  6  7       3\n",
    " 1  3 [-1  -3  5] 3  6  7       5\n",
    " 1  3  -1 [-3  5  3] 6  7       5\n",
    " 1  3  -1  -3 [5  3  6] 7       6\n",
    " 1  3  -1  -3  5 [3  6  7]      7\n",
    "Example 2:\n",
    "Input: nums = [1], k = 1\n",
    "Output: [1]\n",
    "\n",
    "Constraints:\n",
    "1 <= nums.length <= 105\n",
    "-104 <= nums[i] <= 104\n",
    "1 <= k <= nums.length"
   ]
  },
  {
   "cell_type": "code",
   "execution_count": null,
   "id": "c3506b86",
   "metadata": {},
   "outputs": [],
   "source": [
    "from collections import deque\n",
    "\n",
    "def maxSlidingWindow(nums: list, k: int) -> list:\n",
    "    dq = deque()\n",
    "    result = []\n",
    "\n",
    "    for i in range(len(nums)):\n",
    "        while dq and nums[i] > nums[dq[-1]]:\n",
    "            dq.pop()\n",
    "        dq.append(i)\n",
    "\n",
    "        if dq[0] <= i - k:\n",
    "            dq.popleft()\n",
    "\n",
    "        if i >= k-1:\n",
    "            result.append(nums[dq[0]])\n",
    "\n",
    "    return result"
   ]
  },
  {
   "cell_type": "markdown",
   "id": "db076166",
   "metadata": {},
   "source": [
    " 0 1  2  3 4 5 6 7\n",
    "[1,3,-1,-3,5,3,6,7], k = 3\n",
    "i   nums[i] dq      i-k result\n",
    "0   1       0       -3  -\n",
    "1   3       1       -2  -\n",
    "2   -1      1,2     -1  3\n",
    "3   -3      1,2,3   0   3\n",
    "4   5       4       1   4"
   ]
  }
 ],
 "metadata": {
  "kernelspec": {
   "display_name": "Python 3",
   "language": "python",
   "name": "python3"
  },
  "language_info": {
   "name": "python",
   "version": "3.12.9"
  }
 },
 "nbformat": 4,
 "nbformat_minor": 5
}
