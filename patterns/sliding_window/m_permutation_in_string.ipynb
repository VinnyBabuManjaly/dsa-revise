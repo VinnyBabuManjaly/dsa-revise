{
 "cells": [
  {
   "cell_type": "markdown",
   "id": "3d5cf8cb",
   "metadata": {},
   "source": [
    "## Permutation in String  \n",
    "Medium   \n",
    "\n",
    "Given two strings s1 and s2, return true if s2 contains a permutation of s1, or false otherwise.  \n",
    "In other words, return true if one of s1's permutations is the substring of s2.  \n",
    "\n",
    "Example 1:  \n",
    "Input: s1 = \"ab\", s2 = \"eidbaooo\"  \n",
    "Output: true  \n",
    "Explanation: s2 contains one permutation of s1 (\"ba\").  \n",
    "\n",
    "Example 2:  \n",
    "Input: s1 = \"ab\", s2 = \"eidboaoo\"  \n",
    "Output: false  \n",
    "\n",
    "Constraints:  \n",
    "1 <= s1.length, s2.length <= 104  \n",
    "s1 and s2 consist of lowercase English letters.  "
   ]
  },
  {
   "cell_type": "code",
   "execution_count": null,
   "id": "5fbd087b",
   "metadata": {},
   "outputs": [],
   "source": [
    "from collections import Counter\n",
    "\n",
    "class Solution:\n",
    "    def stringPermutation(s1: str, s2: str) -> bool:\n",
    "        l1 = len(s1)\n",
    "\n",
    "        targetMap = Counter(s1)\n",
    "        # OR s1Map = {c:s1.count(c) for c in s1}, but less efficient\n",
    "        # OR s1Map = {}\n",
    "        #    for c in s1:\n",
    "        #       s1Map[c] = s1Map.get(c, 0) + 1\n",
    "\n",
    "        windowMap = Counter(s2[:l1])\n",
    "        for i in range(len(s2)-l1+1):\n",
    "            if windowMap == targetMap:\n",
    "                return True\n",
    "            windowMap[s2[i]] -= 1\n",
    "            if i+l1 < len(s2):\n",
    "                windowMap[s2[i+l1]] += 1\n",
    "            if windowMap[s2[i]] == 0:\n",
    "                del windowMap[s2[i]]\n",
    "            \n",
    "        return False\n",
    "\n"
   ]
  },
  {
   "cell_type": "markdown",
   "id": "7a86c1c6",
   "metadata": {},
   "source": [
    "**Approach**: Sliding window + Hashmap\n",
    "\n",
    "- Create a Counter (or frequency map) for s1. Let’s call it targetMap.\n",
    "- Initialize a Counter for the first window of s2 with length len(s1). Let’s call it windowMap.\n",
    "- Compare windowMap == targetMap. If equal → the window is a permutation.\n",
    "- Slide the window through s2:\n",
    "    - Remove the count of the character leaving the window (s2[start]).\n",
    "    - Add the count of the new character entering (s2[end]).\n",
    "    - After each slide, compare windowMap with targetMap."
   ]
  },
  {
   "cell_type": "markdown",
   "id": "a05c1176",
   "metadata": {},
   "source": [
    "**Time Complexity**: O(n) — build initial counters and update in O(1) per step.\n",
    "**Space Complexity**: O(1) — counters use constant space (fixed alphabet)."
   ]
  },
  {
   "cell_type": "markdown",
   "id": "e63d6616",
   "metadata": {},
   "source": [
    "| Problem               | Permutation in String |\n",
    "|------------------------|-----------------------|\n",
    "| LeetCode Problem       | 567                   |\n",
    "| Approach               | Sliding window + Counter updates |\n",
    "| When to apply          | When checking if one string’s permutation exists as a substring in another |\n",
    "| Clues                  | Fixed-length window equal to smaller string’s length |\n",
    "| Lessons learned        | Update counts incrementally; remove zero-frequency chars; avoid rebuilding Counter each time |\n",
    "| Hidden pattern         | Substring permutation check reduces to frequency matching |\n",
    "| To recognize earlier   | “Check if s2 contains permutation of s1” = substring + anagram |\n",
    "| Signal words           | “Permutation”, “Anagram”, “Substring of length k” |\n"
   ]
  }
 ],
 "metadata": {
  "kernelspec": {
   "display_name": "base",
   "language": "python",
   "name": "python3"
  },
  "language_info": {
   "codemirror_mode": {
    "name": "ipython",
    "version": 3
   },
   "file_extension": ".py",
   "mimetype": "text/x-python",
   "name": "python",
   "nbconvert_exporter": "python",
   "pygments_lexer": "ipython3",
   "version": "3.13.5"
  }
 },
 "nbformat": 4,
 "nbformat_minor": 5
}
