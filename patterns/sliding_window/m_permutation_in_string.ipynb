{
 "cells": [
  {
   "cell_type": "markdown",
   "id": "3d5cf8cb",
   "metadata": {},
   "source": [
    "## Permutation in String  \n",
    "Medium   \n",
    "\n",
    "Given two strings s1 and s2, return true if s2 contains a permutation of s1, or false otherwise.  \n",
    "In other words, return true if one of s1's permutations is the substring of s2.  \n",
    "\n",
    "Example 1:  \n",
    "Input: s1 = \"ab\", s2 = \"eidbaooo\"  \n",
    "Output: true  \n",
    "Explanation: s2 contains one permutation of s1 (\"ba\").  \n",
    "\n",
    "Example 2:  \n",
    "Input: s1 = \"ab\", s2 = \"eidboaoo\"  \n",
    "Output: false  \n",
    "\n",
    "Constraints:  \n",
    "1 <= s1.length, s2.length <= 104  \n",
    "s1 and s2 consist of lowercase English letters.  \n"
   ]
  },
  {
   "cell_type": "code",
   "execution_count": null,
   "id": "5fbd087b",
   "metadata": {},
   "outputs": [],
   "source": [
    "from collections import Counter\n",
    "\n",
    "class Solution:\n",
    "    def stringPermutation(s1: str, s2: str) -> bool:\n",
    "        start = 0\n",
    "\n",
    "        s1Map = Counter(s1)\n",
    "        # OR s1Map = {c:s1.count(c) for c in s1}, but less efficient\n",
    "        # OR s1Map = {}\n",
    "        #    for c in s1:\n",
    "        #       s1Map[c] = s1Map.get(c, 0) + 1\n",
    "\n",
    "        for end in range(len(s2)):\n",
    "            if s2[end] in s1Map:\n",
    "                if end-start+1 == len(s1) and Counter(s2[start:end+1]) == s1Map:\n",
    "                    return True\n",
    "            else:\n",
    "                start += 1\n",
    "            \n",
    "        return False\n",
    "\n"
   ]
  },
  {
   "cell_type": "markdown",
   "id": "7a86c1c6",
   "metadata": {},
   "source": [
    "ab in eidboaoo\n",
    "\n",
    "start, end=0\n",
    "e\n",
    "i\n",
    "d\n",
    "b\n",
    "bo\n",
    "o\n",
    "a\n",
    "\n",
    "ab in eidbaooo\n",
    "e\n",
    "i\n",
    "d\n",
    "b\n",
    "ba\n"
   ]
  }
 ],
 "metadata": {
  "kernelspec": {
   "display_name": "base",
   "language": "python",
   "name": "python3"
  },
  "language_info": {
   "name": "python",
   "version": "3.13.5"
  }
 },
 "nbformat": 4,
 "nbformat_minor": 5
}
