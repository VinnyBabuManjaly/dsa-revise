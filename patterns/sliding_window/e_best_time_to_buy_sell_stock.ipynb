{
 "cells": [
  {
   "cell_type": "markdown",
   "id": "2ce3d47f",
   "metadata": {},
   "source": [
    "## Best Time to Buy and Sell Stock  \n",
    "Easy  \n",
    "\n",
    "Problem   \n",
    "You are given an array `prices` where `prices[i]` is the price of a given stock on the *i-th* day.   \n",
    "You want to maximize your profit by choosing a single day to buy one stock and choosing a different day in the future to sell that stock.   \n",
    "Return the maximum profit you can achieve from this transaction. If you cannot achieve any profit, return `0`.  \n",
    "\n",
    "Example 1  \n",
    "Input: `prices = [7,1,5,3,6,4]`  \n",
    "Output: `5`  \n",
    "Explanation: Buy on day 2 (price = 1) and sell on day 5 (price = 6), profit = `6 - 1 = 5`.  \n",
    "Note: buying on day 2 and selling on day 1 is not allowed because you must buy before you sell.  \n",
    "\n",
    "Example 2    \n",
    "Input: `prices = [7,6,4,3,1]`  \n",
    "Output: `0`  \n",
    "Explanation: In this case, no transactions are done and the max profit = 0.  \n",
    "\n",
    "Constraints  \n",
    "- `1 <= prices.length <= 10^5`  \n",
    "- `0 <= prices[i] <= 10^4`  \n"
   ]
  },
  {
   "cell_type": "code",
   "execution_count": null,
   "id": "bf826ccb",
   "metadata": {},
   "outputs": [],
   "source": [
    "class Solution:\n",
    "    def bestTime(prices: list[int]) -> int:\n",
    "        maxProfit = 0\n",
    "        minPrice = float('inf')\n",
    "\n",
    "        for price in prices:\n",
    "            if price < minPrice:\n",
    "                minPrice = price\n",
    "            elif price-minPrice > maxProfit:\n",
    "                maxProfit = price-minPrice\n",
    "\n",
    "        return maxProfit"
   ]
  },
  {
   "cell_type": "markdown",
   "id": "332abcc9",
   "metadata": {},
   "source": [
    "**Approach**: Keeping track of smallest price seen and best profit so far\n",
    "- Start with no profit and very high minimum price.\n",
    "- Walk through each price:\n",
    "    - Update the minimum price if the current price is lower.\n",
    "    - Otherwise, calculate profit if sold today and update max profit.\n",
    "- Return the maximum profit found."
   ]
  },
  {
   "cell_type": "markdown",
   "id": "56261bb5",
   "metadata": {},
   "source": [
    "**Time Complexity**: O(n) → single pass through prices.  \n",
    "\n",
    "**Space Complexity**: O(1) → only a few variables stored.  "
   ]
  },
  {
   "cell_type": "markdown",
   "id": "237c6126",
   "metadata": {},
   "source": [
    "| Problem                        | Best Time to Buy and Sell Stock                   |\n",
    "|--------------------------------|--------------------------------------------------|\n",
    "| LeetCode Problem                | 121                                              |\n",
    "| Approach                        | Track the minimum price seen so far and calculate profit at each step; update max profit when higher profit found |\n",
    "| When to apply                   | When asked to maximize difference between two elements with order constraint |\n",
    "| Clues                           | “Maximum profit”, “Buy and sell once”, “Prices over time” |\n",
    "| Lessons learned                 | Single-pass greedy approach; no need for nested loops; not sliding window; track running min and max difference |\n",
    "| Hidden pattern                  | Always compare current value with minimum so far to find max difference |\n",
    "| To recognize earlier            | When problem involves “max profit from a sequence of values” |\n",
    "| Signal words                     | “Maximum profit”, “Buy low, sell high”, “Once” |\n"
   ]
  }
 ],
 "metadata": {
  "kernelspec": {
   "display_name": "base",
   "language": "python",
   "name": "python3"
  },
  "language_info": {
   "name": "python",
   "version": "3.13.5"
  }
 },
 "nbformat": 4,
 "nbformat_minor": 5
}
