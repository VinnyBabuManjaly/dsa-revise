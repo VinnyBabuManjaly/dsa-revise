{
 "cells": [
  {
   "cell_type": "markdown",
   "id": "36392ee5",
   "metadata": {},
   "source": [
    "## Sliding Window Maximum   \n",
    "Hard  \n",
    "\n",
    "You are given an array of integers nums, there is a sliding window of size k which is moving from the very left of the array to the very right. You can only see the k numbers in the window. Each time the sliding window moves right by one position.   \n",
    "Return the max sliding window.   \n",
    "\n",
    "Example 1:  \n",
    "Input: nums = [1,3,-1,-3,5,3,6,7], k = 3   \n",
    "Output: [3,3,5,5,6,7]  \n",
    "Explanation:  \n",
    "Window position Max  \n",
    "[1 3 -1] -3 5 3 6 7 3  \n",
    "1 [3 -1 -3] 5 3 6 7 3  \n",
    "1 3 [-1 -3 5] 3 6 7 5  \n",
    "1 3 -1 [-3 5 3] 6 7 5  \n",
    "1 3 -1 -3 [5 3 6] 7 6  \n",
    "1 3 -1 -3 5 [3 6 7] 7  \n",
    "\n",
    "Example 2:  \n",
    "Input: nums = [1], k = 1   \n",
    "Output: [1]  \n",
    "\n",
    "Constraints:  \n",
    "1 <= nums.length <= 10^5  \n",
    "-10^4 <= nums[i] <= 10^4   \n",
    "1 <= k <= nums.length  "
   ]
  },
  {
   "cell_type": "code",
   "execution_count": null,
   "id": "bcbe40ba",
   "metadata": {},
   "outputs": [],
   "source": [
    "from collections import deque\n",
    "\n",
    "class Solution:\n",
    "    def slidingMax(self, nums: list, k: int) -> list:\n",
    "        dq = deque()\n",
    "        left = 0 \n",
    "        result = []\n",
    "\n",
    "        for right in range(len(nums)):\n",
    "            while dq and nums[dq[-1]] < nums[right]:\n",
    "                dq.pop()\n",
    "            dq.append(right)\n",
    "\n",
    "            if dq[0] < left:\n",
    "                dq.popleft()\n",
    "\n",
    "            if right+1 >= k:\n",
    "                result.append(nums[dq[0]])\n",
    "                left += 1\n",
    "\n",
    "        return result\n"
   ]
  },
  {
   "cell_type": "markdown",
   "id": "94019839",
   "metadata": {},
   "source": [
    "**Approach**: Sliding window + Monotonic deque\n",
    "\n",
    "A deque of indices whose values are in descending order.\n",
    "- The front of the deque always holds the index of the current maximum for the window.\n",
    "- When you move the window, you:\n",
    "    - pop from the back if the new number is bigger (to maintain descending order).\n",
    "    - pop from the front if that index is no longer inside the window.\n",
    "\n",
    "Queue operations:\n",
    "- Use dq.append(i) to push new indices at the back.\n",
    "- Use dq.popleft() to remove indices from the front if they’re out of the window.\n",
    "- Use dq.pop() to remove indices from the back if the incoming value is larger.\n"
   ]
  },
  {
   "cell_type": "markdown",
   "id": "52f2e28d",
   "metadata": {},
   "source": [
    "**Time complexity**: O(n) because each index is pushed and popped at most once.\n",
    "\n",
    "**Space complexity**: O(k) for the deque."
   ]
  },
  {
   "cell_type": "markdown",
   "id": "c07b4772",
   "metadata": {},
   "source": [
    "| Problem                | Sliding Window Maximum  |\n",
    "|------------------------|----------------------------------------|\n",
    "| LeetCode Problem       | 239 | \n",
    "| Approach               | Use a monotonic deque to maintain indices of elements in descending order, enabling O(1) max lookup per window. |\n",
    "| When to apply           | When you need to find max/min in every subarray or sliding window efficiently. |\n",
    "| Clues                  | Keywords like \"sliding window\", \"subarray of size k\", \"maximum/minimum\". |\n",
    "| Lessons learned         | Maintain a deque of indices; pop smaller elements from the back; remove out-of-window indices from the front. |\n",
    "| Hidden pattern          | Monotonic queue pattern (descending for max, ascending for min). |\n",
    "| To recognize earlier    | If problem asks for repeated range max/min with overlapping ranges, think monotonic deque. |\n",
    "| Signal words            | “For each window…”, “maximum in subarray…”, “efficiently” (implies O(n) rather than O(nk)). |\n"
   ]
  }
 ],
 "metadata": {
  "kernelspec": {
   "display_name": "base",
   "language": "python",
   "name": "python3"
  },
  "language_info": {
   "name": "python",
   "version": "3.13.5"
  }
 },
 "nbformat": 4,
 "nbformat_minor": 5
}
