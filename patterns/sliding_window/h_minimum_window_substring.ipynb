{
 "cells": [
  {
   "cell_type": "markdown",
   "id": "483a6bf0",
   "metadata": {},
   "source": [
    "## Minimum Window Substring  \n",
    "Hard  \n",
    "\n",
    "Given two strings s and t of lengths m and n respectively, return the minimum window substring of s such that every character in t (including duplicates) is included in the window. If there is no such substring, return the empty string \"\".  \n",
    "The testcases will be generated such that the answer is unique.  \n",
    "\n",
    "Example 1:  \n",
    "Input: s = \"ADOBECODEBANC\", t = \"ABC\"  \n",
    "Output: \"BANC\"  \n",
    "Explanation: The minimum window substring \"BANC\" includes 'A', 'B', and 'C' from string t.  \n",
    "\n",
    "Example 2:  \n",
    "Input: s = \"a\", t = \"a\"  \n",
    "Output: \"a\"  \n",
    "Explanation: The entire string s is the minimum window.  \n",
    "\n",
    "Example 3:  \n",
    "Input: s = \"a\", t = \"aa\"  \n",
    "Output: \"\"  \n",
    "Explanation: Both 'a's from t must be included in the window.  \n",
    "Since the largest window of s only has one 'a', return empty string.  \n",
    "\n",
    "Constraints:  \n",
    "m == s.length  \n",
    "n == t.length  \n",
    "1 <= m, n <= 105  \n",
    "s and t consist of uppercase and lowercase English letters.  \n"
   ]
  }
 ],
 "metadata": {
  "language_info": {
   "name": "python"
  }
 },
 "nbformat": 4,
 "nbformat_minor": 5
}
