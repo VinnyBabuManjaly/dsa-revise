{
 "cells": [
  {
   "cell_type": "markdown",
   "id": "f07d3641",
   "metadata": {},
   "source": [
    "## Time Based Key-Value Store  \n",
    "\n",
    "Medium  \n",
    "\n",
    "Design a time-based key-value data structure that can store multiple values for the same key at different time stamps and retrieve the key's value at a certain timestamp.\n",
    "\n",
    "Implement the TimeMap class:\n",
    "\n",
    "- TimeMap()  \n",
    "  Initializes the object of the data structure.  \n",
    "\n",
    "- void set(String key, String value, int timestamp)  \n",
    "  Stores the key with the value at the given timestamp.  \n",
    "\n",
    "- String get(String key, int timestamp)  \n",
    "  Returns a value such that set was called previously, with timestamp_prev <= timestamp.  \n",
    "  If there are multiple such values, it returns the value associated with the largest timestamp_prev.  \n",
    "  If there are no values, it returns \"\".\n",
    "\n",
    "Example 1:  \n",
    "\n",
    "Input  \n",
    "[\"TimeMap\", \"set\", \"get\", \"get\", \"set\", \"get\", \"get\"]  \n",
    "[[], [\"foo\", \"bar\", 1], [\"foo\", 1], [\"foo\", 3], [\"foo\", \"bar2\", 4], [\"foo\", 4], [\"foo\", 5]]  \n",
    "\n",
    "Output  \n",
    "[null, null, \"bar\", \"bar\", null, \"bar2\", \"bar2\"]  \n",
    "\n",
    "Explanation  \n",
    "TimeMap timeMap = new TimeMap();  \n",
    "timeMap.set(\"foo\", \"bar\", 1); // store the key \"foo\" and value \"bar\" along with timestamp = 1.  \n",
    "timeMap.get(\"foo\", 1); // return \"bar\"  \n",
    "timeMap.get(\"foo\", 3); // return \"bar\", since there is no value corresponding to foo at timestamp 3 and timestamp 2, then the only value is at timestamp 1.  \n",
    "timeMap.set(\"foo\", \"bar2\", 4); // store the key \"foo\" and value \"bar2\" along with timestamp = 4.  \n",
    "timeMap.get(\"foo\", 4); // return \"bar2\"  \n",
    "timeMap.get(\"foo\", 5); // return \"bar2\"  \n",
    "\n",
    "Constraints:  \n",
    "- 1 <= key.length, value.length <= 100  \n",
    "- key and value consist of lowercase English letters and digits  \n",
    "- 1 <= timestamp <= 10^7  \n",
    "- All timestamps of set are strictly increasing  \n",
    "- At most 2 * 10^5 calls will be made to set and get"
   ]
  },
  {
   "cell_type": "code",
   "execution_count": null,
   "id": "cb45e2fc",
   "metadata": {},
   "outputs": [],
   "source": [
    "from collections import defaultdict\n",
    "\n",
    "class TimeMap:\n",
    "    def __init__(self):\n",
    "        self.map = defaultdict(list)\n",
    "\n",
    "    def set(self, key: str, value: str, timestamp: int) -> None:\n",
    "        self.map[key].append(((timestamp, value)))\n",
    "\n",
    "    def get(self, key: str, timestamp: int) -> str:\n",
    "        if key not in self.map:\n",
    "            return \"\"\n",
    "        \n",
    "        keyList = self.map[key]\n",
    "        left, right = 0, len(keyList)-1\n",
    "        while left <= right:\n",
    "            mid = (left+right)//2\n",
    "            if keyList[mid][0] == timestamp:\n",
    "                return keyList[mid][1]\n",
    "            elif keyList[mid][0] < timestamp:\n",
    "                left = mid + 1\n",
    "            else:\n",
    "                right = mid - 1\n",
    "\n",
    "        # Prevents index errors when all stored timestamps are greater than the query.\n",
    "        if right >= 0:\n",
    "            return keyList[right][1]\n",
    "        else:\n",
    "            return \"\"\n",
    " "
   ]
  },
  {
   "cell_type": "markdown",
   "id": "71132c5f",
   "metadata": {},
   "source": [
    "**Approach**: hashmap + binary search on list\n",
    "\n",
    "- Keep a map where each key stores a list of (timestamp, value) pairs.\n",
    "- When setting a value, append the pair to the list (timestamps are always increasing).\n",
    "- When getting a value:\n",
    "    - Look up the list for that key.\n",
    "    - Use binary search to find the closest timestamp less than or equal to the query.\n",
    "    - Return its value (or empty string if none)."
   ]
  },
  {
   "cell_type": "markdown",
   "id": "16571576",
   "metadata": {},
   "source": [
    "**Time Complexity**  \n",
    "- set: O(1) → just append to the list.\n",
    "- get: O(log n) → binary search over timestamps for a given key.\n",
    "\n",
    "**Space Complexity**  \n",
    "O(n) → storing all (timestamp, value) pairs across all keys."
   ]
  },
  {
   "cell_type": "markdown",
   "id": "74c128df",
   "metadata": {},
   "source": [
    "| Problem              | Time Based Key-Value Store |\n",
    "|-----------------------|----------------------------|\n",
    "| LeetCode Problem      | 981                        |\n",
    "| Approach              | Hashmap stores lists of (timestamp, value); binary search to find closest earlier timestamp |\n",
    "| When to apply         | When keys can have multiple values over time and queries ask for \"latest value before or at t\" |\n",
    "| Clues                 | Query wants \"value at or before a given timestamp\" |\n",
    "| Lessons learned       | Combine hashmap for fast access with binary search for efficient timestamp lookup; if exact timestamp isn’t found, right points to largest smaller timestamp; check right >= 0 to avoid index errors |\n",
    "| Hidden pattern        | Multiple values per key suggest hashmap of lists; sorted timestamps enable binary search |\n",
    "| To recognize earlier  | Queries asking for \"latest before t\" → signals binary search on history |\n",
    "| Signal words          | “Set with timestamp”, “Get by time”, “Latest value before/at” |\n"
   ]
  }
 ],
 "metadata": {
  "kernelspec": {
   "display_name": "base",
   "language": "python",
   "name": "python3"
  },
  "language_info": {
   "codemirror_mode": {
    "name": "ipython",
    "version": 3
   },
   "file_extension": ".py",
   "mimetype": "text/x-python",
   "name": "python",
   "nbconvert_exporter": "python",
   "pygments_lexer": "ipython3",
   "version": "3.13.5"
  }
 },
 "nbformat": 4,
 "nbformat_minor": 5
}
