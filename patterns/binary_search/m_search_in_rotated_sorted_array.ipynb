{
 "cells": [
  {
   "cell_type": "markdown",
   "id": "5f8bef9b",
   "metadata": {},
   "source": [
    "## Search in Rotated Sorted Array  \n",
    "\n",
    "There is an integer array nums sorted in ascending order (with distinct values).  \n",
    "\n",
    "Prior to being passed to your function, nums is possibly left rotated at an unknown index k (1 <= k < nums.length) such that the resulting array is [nums[k], nums[k+1], ..., nums[n-1], nums[0], nums[1], ..., nums[k-1]] (0-indexed).\n",
    "\n",
    "For example, [0,1,2,4,5,6,7] might be left rotated by 3 indices and become [4,5,6,7,0,1,2].  \n",
    "\n",
    "Given the array nums after the possible rotation and an integer target, return the index of target if it is in nums, or -1 if it is not in nums.  \n",
    "\n",
    "You must write an algorithm with O(log n) runtime complexity.    \n",
    "\n",
    "Example 1  \n",
    "Input: nums = [4,5,6,7,0,1,2], target = 0  \n",
    "Output: 4  \n",
    "\n",
    "Example 2  \n",
    "Input: nums = [4,5,6,7,0,1,2], target = 3  \n",
    "Output: -1  \n",
    "Example 3  \n",
    "Input: nums = [1], target = 0  \n",
    "Output: -1  \n",
    "\n",
    "Constraints  \n",
    "1 <= nums.length <= 5000  \n",
    "-10^4 <= nums[i] <= 10^4  \n",
    "All values of nums are unique  \n",
    "nums is an ascending array that is possibly rotated  \n",
    "-10^4 <= target <= 10^4  "
   ]
  },
  {
   "cell_type": "code",
   "execution_count": null,
   "id": "9f6d1424",
   "metadata": {},
   "outputs": [],
   "source": [
    "class Solution:\n",
    "    def searchArray(self, nums: list[int], target: int) -> int:\n",
    "        left, right = 0, len(nums)-1\n",
    "\n",
    "        while left <= right:\n",
    "            mid = (left+right)//2\n",
    "\n",
    "            if nums[mid] == target:\n",
    "                return mid\n",
    "\n",
    "            if nums[left] <= nums[mid]:\n",
    "                if nums[left] <= target < nums[mid]:\n",
    "                    right = mid - 1\n",
    "                else:\n",
    "                    left = mid + 1\n",
    "\n",
    "            else:\n",
    "                if nums[mid] < target <= nums[right]:\n",
    "                    left = mid + 1\n",
    "                else:\n",
    "                    right = mid - 1\n",
    "\n",
    "        return -1"
   ]
  },
  {
   "cell_type": "markdown",
   "id": "1b5452ff",
   "metadata": {},
   "source": [
    "**Approach**: Binary search.\n",
    "\n",
    "- At every step, check if the left half of the array is sorted.\n",
    "    - If left half is sorted, see if the target lies inside it → if yes, search there, else go right.\n",
    "- Otherwise, the right half must be sorted.\n",
    "    - If right half is sorted, see if the target lies inside it → if yes, search there, else go left.\n",
    "- Keep narrowing down until the target is found or search space is empty."
   ]
  },
  {
   "cell_type": "markdown",
   "id": "4ef93f7d",
   "metadata": {},
   "source": [
    "**Time Complexity**: O(log n)  \n",
    "Because we cut the search space in half each step, just like normal binary search.\n",
    "\n",
    "**Space Complexity**: O(1)  \n",
    "We only use a few variables (left, right, mid) → constant extra space."
   ]
  },
  {
   "cell_type": "markdown",
   "id": "449da90b",
   "metadata": {},
   "source": [
    "| Problem               | Search in Rotated Sorted Array |\n",
    "|-----------------------|--------------------------------|\n",
    "| LeetCode Problem      | 33                             |\n",
    "| Approach              | Modified binary search; decide which half is sorted and check if target lies there |\n",
    "| When to apply         | Searching in rotated or shifted sorted arrays |\n",
    "| Clues                 | Array is sorted but rotated; must locate target in correct half |\n",
    "| Lessons learned       | Always check which half is sorted; adjust left/right accordingly; still achieves O(log n) |\n",
    "| Hidden pattern        | Rotation preserves sorted order in at least one half at every step |\n",
    "| To recognize earlier  | “Rotated sorted array” or “find element in shifted sorted array” |\n",
    "| Signal words          | “Rotated”, “Shifted”, “Search target” |\n"
   ]
  }
 ],
 "metadata": {
  "kernelspec": {
   "display_name": "Python 3",
   "language": "python",
   "name": "python3"
  },
  "language_info": {
   "name": "python",
   "version": "3.12.3"
  }
 },
 "nbformat": 4,
 "nbformat_minor": 5
}
