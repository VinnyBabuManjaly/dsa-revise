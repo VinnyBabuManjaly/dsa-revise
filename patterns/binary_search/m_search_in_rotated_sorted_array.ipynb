{
 "cells": [
  {
   "cell_type": "markdown",
   "id": "5f8bef9b",
   "metadata": {},
   "source": [
    "## Search in Rotated Sorted Array  \n",
    "\n",
    "There is an integer array nums sorted in ascending order (with distinct values).  \n",
    "\n",
    "Prior to being passed to your function, nums is possibly left rotated at an unknown index k (1 <= k < nums.length) such that the resulting array is [nums[k], nums[k+1], ..., nums[n-1], nums[0], nums[1], ..., nums[k-1]] (0-indexed).\n",
    "\n",
    "For example, [0,1,2,4,5,6,7] might be left rotated by 3 indices and become [4,5,6,7,0,1,2].  \n",
    "\n",
    "Given the array nums after the possible rotation and an integer target, return the index of target if it is in nums, or -1 if it is not in nums.  \n",
    "\n",
    "You must write an algorithm with O(log n) runtime complexity.    \n",
    "\n",
    "Example 1  \n",
    "Input: nums = [4,5,6,7,0,1,2], target = 0  \n",
    "Output: 4  \n",
    "\n",
    "Example 2  \n",
    "Input: nums = [4,5,6,7,0,1,2], target = 3  \n",
    "Output: -1  \n",
    "Example 3  \n",
    "Input: nums = [1], target = 0  \n",
    "Output: -1  \n",
    "\n",
    "Constraints  \n",
    "1 <= nums.length <= 5000  \n",
    "-10^4 <= nums[i] <= 10^4  \n",
    "All values of nums are unique  \n",
    "nums is an ascending array that is possibly rotated  \n",
    "-10^4 <= target <= 10^4  "
   ]
  },
  {
   "cell_type": "code",
   "execution_count": null,
   "id": "9f6d1424",
   "metadata": {},
   "outputs": [],
   "source": [
    "class Solution:\n",
    "    def searchArray(self, nums: list[int], target: int) -> int:\n",
    "        left, right = 0, len(nums)-1\n",
    "\n",
    "        while left <= right:\n",
    "            mid = (left+right)//2\n",
    "\n",
    "            if nums[mid] == target:\n",
    "                return mid\n",
    "\n",
    "            if nums[left] <= nums[mid]:\n",
    "                if nums[left] <= target < nums[mid]:\n",
    "                    right = mid - 1\n",
    "                else:\n",
    "                    left = mid + 1\n",
    "\n",
    "            else:\n",
    "                if nums[mid] < target <= nums[right]:\n",
    "                    left = mid + 1\n",
    "                else:\n",
    "                    right = mid - 1\n",
    "\n",
    "        return -1"
   ]
  }
 ],
 "metadata": {
  "kernelspec": {
   "display_name": "Python 3",
   "language": "python",
   "name": "python3"
  },
  "language_info": {
   "name": "python",
   "version": "3.12.3"
  }
 },
 "nbformat": 4,
 "nbformat_minor": 5
}
