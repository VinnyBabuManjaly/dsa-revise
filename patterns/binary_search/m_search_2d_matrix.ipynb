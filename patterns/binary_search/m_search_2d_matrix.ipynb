{
 "cells": [
  {
   "cell_type": "markdown",
   "id": "3cab38fb",
   "metadata": {},
   "source": [
    "Search a 2D Matrix\n",
    "\n",
    "You are given an m x n integer matrix with the following properties:\n",
    "\n",
    "- Each row is sorted in non-decreasing order.\n",
    "- The first integer of each row is greater than the last integer of the previous row.\n",
    "\n",
    "Given an integer target, return true if target is in the matrix or false otherwise.\n",
    "\n",
    "You must write a solution in O(log(m * n)) time complexity.\n",
    "\n",
    "Example 1:\n",
    "Input: matrix = [[1,3,5,7],[10,11,16,20],[23,30,34,60]], target = 3  \n",
    "Output: true  \n",
    "\n",
    "Example 2:\n",
    "Input: matrix = [[1,3,5,7],[10,11,16,20],[23,30,34,60]], target = 13  \n",
    "Output: false  \n",
    "\n",
    "Constraints:\n",
    "- m == matrix.length  \n",
    "- n == matrix[i].length  \n",
    "- 1 <= m, n <= 100  \n",
    "- -10^4 <= matrix[i][j], target <= 10^4\n"
   ]
  },
  {
   "cell_type": "code",
   "execution_count": null,
   "id": "bd2ca3e9",
   "metadata": {},
   "outputs": [],
   "source": [
    "class Solution:\n",
    "    def searchMatrix(matrix: list[list[int]], target: int) -> bool:\n",
    "\n",
    "        m, n = len(matrix), len(matrix[0])\n",
    "        left, right = 0, m*n-1\n",
    "\n",
    "        while left <= right:\n",
    "            mid = (left + right)//2\n",
    "            num = matrix[mid//n][mid%n]\n",
    "            if num == target:\n",
    "                return True\n",
    "            elif num < target:\n",
    "                left = mid + 1\n",
    "            else:\n",
    "                right = mid - 1\n",
    "\n",
    "        return False"
   ]
  },
  {
   "cell_type": "markdown",
   "id": "517773dc",
   "metadata": {},
   "source": [
    "**Approach**: Binary Search (Virtual Flattening Approach)\n",
    "\n",
    "- Pretend the 2D matrix is already flattened into a single sorted list, since \"the first element of each row is greater than the last element of the previous row”\n",
    "- Do a normal binary search on this imaginary list. Whenever you check a position, you figure out which row and column it belongs to and compare the value with\n",
    "\n",
    "        (row, col)=(mid//n, mid%n) using division and modulo"
   ]
  },
  {
   "cell_type": "markdown",
   "id": "c47aee94",
   "metadata": {},
   "source": [
    "**Time Complexity**: O(log(m*n)) → same as O(log m + log n)   \n",
    "Because binary search runs over the entire range of m × n elements\n",
    "\n",
    "**Space Complexity**: O(1)   \n",
    "No extra data structures are used; only variables for indices."
   ]
  },
  {
   "cell_type": "markdown",
   "id": "e39b99cd",
   "metadata": {},
   "source": [
    "| Problem | Search a 2D Matrix |\n",
    "|------------------------|-------|\n",
    "| LeetCode Problem | 74 |\n",
    "| Approach | Two possible methods:<br>1. **2-step binary search** → first find the candidate row, then binary search within it.<br>2. **Virtual flattening** → treat the matrix as one long sorted array and binary search directly. |\n",
    "| When to apply | When rows are sorted and each row’s first element > previous row’s last element |\n",
    "| Clues | The matrix behaves like consecutive chunks of a sorted list |\n",
    "| Lessons learned | You can map 1D index → (row, col)=(mid//n, mid%n) using division and modulo; |\n",
    "| Hidden pattern | A sorted matrix can be virtually flattened into a 1D sorted array |\n",
    "| To recognize earlier | Check if first element of each row > last element of previous row |\n",
    "| Signal words | “Each row is sorted” and “the first element of each row is greater than the last element of the previous row” |\n"
   ]
  }
 ],
 "metadata": {
  "kernelspec": {
   "display_name": "Python 3",
   "language": "python",
   "name": "python3"
  },
  "language_info": {
   "name": "python",
   "version": "3.12.3"
  }
 },
 "nbformat": 4,
 "nbformat_minor": 5
}
