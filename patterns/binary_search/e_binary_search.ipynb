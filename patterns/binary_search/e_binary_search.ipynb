{
 "cells": [
  {
   "cell_type": "code",
   "execution_count": null,
   "id": "8425beff",
   "metadata": {},
   "outputs": [],
   "source": [
    "# Binary Search\n",
    "\n",
    "# You are given an array of integers called nums, which is sorted in ascending order, \n",
    "# and an integer target. The task is to search for target in nums. If target exists, return its index. \n",
    "# If it does not exist, return -1.\n",
    "\n",
    "# The algorithm must run with O(log n) time complexity.\n",
    "\n",
    "# Example 1:\n",
    "# Input: nums = [-1, 0, 3, 5, 9, 12], target = 9\n",
    "# Output: 4\n",
    "# Explanation: 9 exists in nums and its index is 4.\n",
    "\n",
    "# Example 2:\n",
    "# Input: nums = [-1, 0, 3, 5, 9, 12], target = 2\n",
    "# Output: -1\n",
    "# Explanation: 2 does not exist in nums, so the output is -1.\n",
    "\n",
    "# Constraints:\n",
    "# 1 <= nums.length <= 10^4\n",
    "# -10^4 < nums[i], target < 10^4\n",
    "# All integers in nums are unique.\n",
    "# nums is sorted in ascending order."
   ]
  },
  {
   "cell_type": "code",
   "execution_count": null,
   "id": "6d9ceec5",
   "metadata": {},
   "outputs": [],
   "source": [
    "class Solution:\n",
    "    def binarySearch(nums: list[int], target: int) -> int:\n",
    "        left, right = 0, len(nums)-1\n",
    "\n",
    "        while left <= right:\n",
    "            mid = (left + right) // 2\n",
    "            if nums[mid] == target:\n",
    "                return mid\n",
    "            elif nums[mid] < target:\n",
    "                left = mid + 1\n",
    "            else:\n",
    "                right = mid -1\n",
    "\n",
    "        return -1"
   ]
  },
  {
   "cell_type": "markdown",
   "id": "1ddc263f",
   "metadata": {},
   "source": [
    "**Approach**: Use divide-and-conquer on a sorted array with two pointers\n",
    "\n",
    "- Start with the whole sorted array.\n",
    "- Repeatedly look at the middle element.\n",
    "- If the middle is the target → done.\n",
    "- If the middle is too small → search the right half.\n",
    "- If the middle is too big → search the left half.\n",
    "- Stop when the range is empty → target not found."
   ]
  },
  {
   "cell_type": "markdown",
   "id": "2c1e9a88",
   "metadata": {},
   "source": [
    "**Time Complexity**: O(log n)\n",
    "\n",
    "**Space Complexity**: O(1) (constant space)"
   ]
  },
  {
   "cell_type": "markdown",
   "id": "87812117",
   "metadata": {},
   "source": [
    "**Time complexity Explanation:**\n",
    "\n",
    "- Each step looks at the middle element and cuts the search space in half.\n",
    "- So from n elements → n/2 → n/4 → n/8 … until only 1 element is left.\n",
    "- The question is: how many times can you divide n by 2 before reaching 1?\n",
    "- That number is about log₂(n).\n",
    "\n",
    "Example: If n = 16, you divide at most 4 times → log₂(16) = 4.\n",
    "\n",
    "So the time complexity is O(log n).  \n",
    "In short: Binary Search works fast because the problem size shrinks by half each step."
   ]
  },
  {
   "cell_type": "markdown",
   "id": "802d46d7",
   "metadata": {},
   "source": [
    "| Problem              | Binary Search |\n",
    "|-----------------------|----------------------|\n",
    "| LeetCode Question     | 704                 |\n",
    "| Approach              | Divide-and-conquer by halving search space |\n",
    "| When to apply         | When array is sorted and exact target search |\n",
    "| Clues                 | \"Sorted array\", \"O(log n)\" |\n",
    "| Lessons learned       | Halving reduces work; Left <= Right Significance-Ensures last element is checked; prevents missing edge cases |\n",
    "| Hidden pattern        | Repeatedly narrowing interval until one element remains |\n",
    "| To recognize earlier  | Anytime problem mentions \"sorted\" with search requirement |\n",
    "| Signal words          | \"Sorted\", \"Search\", \"Logarithmic time\" |\n"
   ]
  }
 ],
 "metadata": {
  "language_info": {
   "name": "python"
  }
 },
 "nbformat": 4,
 "nbformat_minor": 5
}
