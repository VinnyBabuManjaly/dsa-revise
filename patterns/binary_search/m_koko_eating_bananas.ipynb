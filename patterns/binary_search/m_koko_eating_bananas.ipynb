{
 "cells": [
  {
   "cell_type": "markdown",
   "id": "fe819ecc",
   "metadata": {},
   "source": [
    "Koko Eating Bananas\n",
    "\n",
    "Koko loves to eat bananas. There are n piles of bananas, the ith pile has piles[i] bananas. The guards have gone and will come back in h hours.\n",
    "\n",
    "Koko can decide her bananas-per-hour eating speed of k. Each hour, she chooses some pile of bananas and eats k bananas from that pile. If the pile has less than k bananas, she eats all of them instead and will not eat any more bananas during this hour.\n",
    "\n",
    "Koko likes to eat slowly but still wants to finish eating all the bananas before the guards return.\n",
    "\n",
    "Return the minimum integer k such that she can eat all the bananas within h hours.\n",
    "\n",
    "Example 1:\n",
    "Input: piles = [3,6,7,11], h = 8  \n",
    "Output: 4  \n",
    "\n",
    "Example 2:\n",
    "Input: piles = [30,11,23,4,20], h = 5  \n",
    "Output: 30  \n",
    "\n",
    "Example 3:\n",
    "Input: piles = [30,11,23,4,20], h = 6  \n",
    "Output: 23  \n",
    "\n",
    "Constraints:\n",
    "- 1 <= piles.length <= 10^4  \n",
    "- piles.length <= h <= 10^9  \n",
    "- 1 <= piles[i] <= 10^9\n"
   ]
  },
  {
   "cell_type": "code",
   "execution_count": null,
   "id": "43de4baf",
   "metadata": {},
   "outputs": [],
   "source": [
    "class Solution:\n",
    "    def minKForKoko(piles: list[int], h: int) -> int:\n",
    "        left, right = 1, max(piles)\n",
    "\n",
    "        while left <= right:\n",
    "            mid = (left+right)//2\n",
    "            hours = 0\n",
    "            for pile in piles:\n",
    "                hours += ((pile+mid-1)//mid)\n",
    "            \n",
    "            if hours <= h:\n",
    "                right = mid - 1  # try slower speed\n",
    "            else:\n",
    "                left = mid + 1   # need faster speed\n",
    "\n",
    "        return left"
   ]
  },
  {
   "cell_type": "markdown",
   "id": "3a1d31bb",
   "metadata": {},
   "source": [
    "**Approach**: Binary search\n",
    "\n",
    "- Think of the problem as finding the minimum speed that allows Koko to finish all bananas within the given hours.\n",
    "- The speed must lie between 1 (slowest) and the maximum pile size (fastest needed to finish a big pile in 1 hour).\n",
    "- Use binary search on this speed range.\n",
    "- For each candidate speed, check if Koko can finish all piles in the allowed time.\n",
    "- If she can, try a slower speed; if not, try a faster speed.\n",
    "- Continue narrowing the range until you find the minimum feasible speed."
   ]
  },
  {
   "cell_type": "markdown",
   "id": "8f159f1e",
   "metadata": {},
   "source": [
    "**Case 1: hours <= h**  \n",
    "Koko finishes in time or faster.  \n",
    "Goal: Find the minimum speed that still allows her to finish.\n",
    "Observation: If she can finish at mid, maybe she can also finish at a slower speed.  \n",
    "So we move the right pointer left to check smaller speeds:  \n",
    "\n",
    "        right = mid - 1 # try slower speed\n",
    "\n",
    "**Case 2: hours > h**  \n",
    "Koko takes too long at this speed.  \n",
    "Goal: Need to finish in ≤ h hours.  \n",
    "Observation: We must try a faster speed to reduce the time.  \n",
    "So we move the left pointer right:  \n",
    "\n",
    "        left = mid + 1 # need faster   \n",
    "        "
   ]
  },
  {
   "cell_type": "markdown",
   "id": "6cf76a78",
   "metadata": {},
   "source": [
    "**Time Complexity**: O(n × log(max_pile))\n",
    "- Binary search runs over the range [1, max_pile] → this gives O(log max_pile) iterations.  \n",
    "- For each candidate speed k, you check all piles to calculate total hours → O(n).\n",
    "\n",
    "**Space Complexity**: O(1)  \n",
    "- Constant space"
   ]
  },
  {
   "cell_type": "markdown",
   "id": "5f202e59",
   "metadata": {},
   "source": [
    "| Problem               | Koko Eating Bananas |\n",
    "|-----------------------|-------------------|\n",
    "| LeetCode Problem      | 875               |\n",
    "| Approach              | Binary search on possible eating speeds; for each speed, calculate hours needed using ceil division (hours += (pile + mid - 1)//mid); adjust search to find minimum feasible speed |\n",
    "| When to apply         | When searching for a minimum or maximum value that satisfies a condition over a range |\n",
    "| Clues                 | Problem asks for “minimum speed” or “least value” to achieve a goal within constraints |\n",
    "| Lessons learned       | Hours calculation needs ceil division; binary search on answer space; always return left after the loop for minimum feasible speed |\n",
    "| Hidden pattern        | Optimization problems can often be solved by binary search on feasible solution range |\n",
    "| To recognize earlier  | Phrases like “minimum X to finish Y within Z” or “smallest/largest value that works” |\n",
    "| Signal words          | “Minimum”, “Finish in given time”, “Feasible speed”, “Least value satisfying condition” |\n"
   ]
  }
 ],
 "metadata": {
  "kernelspec": {
   "display_name": "Python 3",
   "language": "python",
   "name": "python3"
  },
  "language_info": {
   "name": "python",
   "version": "3.12.3"
  }
 },
 "nbformat": 4,
 "nbformat_minor": 5
}
