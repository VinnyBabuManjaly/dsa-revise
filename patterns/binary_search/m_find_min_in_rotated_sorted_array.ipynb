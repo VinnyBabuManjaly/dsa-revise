{
 "cells": [
  {
   "cell_type": "markdown",
   "id": "0b21a150",
   "metadata": {},
   "source": [
    "## Find Minimum in Rotated Sorted Array\n",
    "Medium\n",
    "\n",
    "Suppose an array of length n sorted in ascending order is rotated between 1 and n times. For example, the array nums = [0,1,2,4,5,6,7] might become:\n",
    "\n",
    "[4,5,6,7,0,1,2] if it was rotated 4 times.\n",
    "[0,1,2,4,5,6,7] if it was rotated 7 times.\n",
    "\n",
    "Notice that rotating an array [a[0], a[1], a[2], ..., a[n-1]] 1 time results in the array [a[n-1], a[0], a[1], a[2], ..., a[n-2]].\n",
    "\n",
    "Given the sorted rotated array nums of unique elements, return the minimum element of this array.\n",
    "\n",
    "You must write an algorithm that runs in O(log n) time.\n",
    "\n",
    "Example 1:\n",
    "Input: nums = [3,4,5,1,2]\n",
    "Output: 1\n",
    "Explanation: The original array was [1,2,3,4,5] rotated 3 times.\n",
    "\n",
    "Example 2:\n",
    "Input: nums = [4,5,6,7,0,1,2]\n",
    "Output: 0\n",
    "Explanation: The original array was [0,1,2,4,5,6,7] and it was rotated 4 times.\n",
    "\n",
    "Example 3:\n",
    "Input: nums = [11,13,15,17]\n",
    "Output: 11\n",
    "Explanation: The original array was [11,13,15,17] and it was rotated 4 times.\n",
    "\n",
    "Constraints:\n",
    "n == nums.length\n",
    "1 <= n <= 5000\n",
    "-5000 <= nums[i] <= 5000\n",
    "All the integers of nums are unique.\n",
    "nums is sorted and rotated between 1 and n times."
   ]
  },
  {
   "cell_type": "code",
   "execution_count": null,
   "id": "5a087a77",
   "metadata": {},
   "outputs": [],
   "source": [
    "class Solution:\n",
    "    def findMin(self, nums: list[int]) -> int:\n",
    "        left, right = 0, len(nums) - 1\n",
    "\n",
    "        while left < right:\n",
    "            mid = left + (right - left) // 2\n",
    "\n",
    "            if nums[mid] <= nums[right]:\n",
    "                right = mid\n",
    "            else:\n",
    "                left = mid + 1\n",
    "\n",
    "        return nums[left]\n",
    "        "
   ]
  }
 ],
 "metadata": {
  "kernelspec": {
   "display_name": "Python 3",
   "language": "python",
   "name": "python3"
  },
  "language_info": {
   "name": "python",
   "version": "3.12.3"
  }
 },
 "nbformat": 4,
 "nbformat_minor": 5
}
