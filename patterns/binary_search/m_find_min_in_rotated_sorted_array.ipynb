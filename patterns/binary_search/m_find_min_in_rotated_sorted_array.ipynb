{
 "cells": [
  {
   "cell_type": "markdown",
   "id": "0b21a150",
   "metadata": {},
   "source": [
    "## Find Minimum in Rotated Sorted Array\n",
    "Medium\n",
    "\n",
    "Suppose an array of length n sorted in ascending order is rotated between 1 and n times. For example, the array nums = [0,1,2,4,5,6,7] might become:\n",
    "\n",
    "[4,5,6,7,0,1,2] if it was rotated 4 times.\n",
    "[0,1,2,4,5,6,7] if it was rotated 7 times.\n",
    "\n",
    "Notice that rotating an array [a[0], a[1], a[2], ..., a[n-1]] 1 time results in the array [a[n-1], a[0], a[1], a[2], ..., a[n-2]].\n",
    "\n",
    "Given the sorted rotated array nums of unique elements, return the minimum element of this array.\n",
    "\n",
    "You must write an algorithm that runs in O(log n) time.\n",
    "\n",
    "Example 1:\n",
    "Input: nums = [3,4,5,1,2]\n",
    "Output: 1\n",
    "Explanation: The original array was [1,2,3,4,5] rotated 3 times.\n",
    "\n",
    "Example 2:\n",
    "Input: nums = [4,5,6,7,0,1,2]\n",
    "Output: 0\n",
    "Explanation: The original array was [0,1,2,4,5,6,7] and it was rotated 4 times.\n",
    "\n",
    "Example 3:\n",
    "Input: nums = [11,13,15,17]\n",
    "Output: 11\n",
    "Explanation: The original array was [11,13,15,17] and it was rotated 4 times.\n",
    "\n",
    "Constraints:\n",
    "n == nums.length\n",
    "1 <= n <= 5000\n",
    "-5000 <= nums[i] <= 5000\n",
    "All the integers of nums are unique.\n",
    "nums is sorted and rotated between 1 and n times."
   ]
  },
  {
   "cell_type": "code",
   "execution_count": null,
   "id": "5a087a77",
   "metadata": {},
   "outputs": [],
   "source": [
    "class Solution:\n",
    "    def findMin(self, nums: list[int]) -> int:\n",
    "        left, right = 0, len(nums)-1\n",
    "\n",
    "        while left < right:\n",
    "            mid = (left+right)//2\n",
    "            \n",
    "            if nums[mid] > nums[right]:\n",
    "                left = mid + 1\n",
    "            else:\n",
    "                right = mid\n",
    "\n",
    "        return nums[left]"
   ]
  },
  {
   "cell_type": "markdown",
   "id": "6adaf9bc",
   "metadata": {},
   "source": [
    "**Approach**: Binary search\n",
    "\n",
    "We know the array is sorted but rotated — so the minimum is the “pivot” point where the rotation happened.\n",
    "Use binary search to narrow the search instead of scanning all elements.\n",
    "\n",
    "- Compare the middle element with the rightmost element:\n",
    "    - If the middle is greater, the minimum must lie on the right half.\n",
    "    - Otherwise, the minimum is on the left half (including mid).\n",
    "- Keep shrinking the search space until only one element remains.  \n",
    "    - That element is the minimum."
   ]
  },
  {
   "cell_type": "markdown",
   "id": "0e79d874",
   "metadata": {},
   "source": [
    "**Time Complexity**: O(log n)   \n",
    "Because we halve the search space each step using binary search.\n",
    "\n",
    "**Space Complexity**: O(1)   \n",
    "Only a few variables (left, right, mid), no extra data structures."
   ]
  },
  {
   "cell_type": "markdown",
   "id": "51fc24fa",
   "metadata": {},
   "source": [
    "| Problem                   | Find Minimum in Rotated Sorted Array |\n",
    "|----------------------------|--------------------------------------|\n",
    "| LeetCode Problem           | 153                                  |\n",
    "| Approach                   | Binary search with mid vs right      |\n",
    "| When to apply              | Sorted array with rotation           |\n",
    "| Clues                      | Sorted segments, pivot element       |\n",
    "| Lessons learned            | Use `left < right` to avoid over-convergence; set `right = mid` (not `mid-1`) since mid can still be the minimum |\n",
    "| Hidden pattern             | Pivot is always in the unsorted half |\n",
    "| To recognize earlier       | If `nums[mid] > nums[right]`, pivot is right side; else left side |\n",
    "| Signal words               | \"rotated sorted array\", \"find minimum\" |\n"
   ]
  }
 ],
 "metadata": {
  "kernelspec": {
   "display_name": "Python 3",
   "language": "python",
   "name": "python3"
  },
  "language_info": {
   "name": "python",
   "version": "3.12.3"
  }
 },
 "nbformat": 4,
 "nbformat_minor": 5
}
