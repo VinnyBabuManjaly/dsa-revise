{
 "cells": [
  {
   "cell_type": "markdown",
   "id": "60cb3672",
   "metadata": {},
   "source": [
    "## Search in Rotated Sorted Array II\n",
    "\n",
    "There is an integer array nums sorted in non-decreasing order (not necessarily with distinct values).\n",
    "\n",
    "Before being passed to your function, nums is rotated at an unknown pivot index k (0 <= k < nums.length) such that the resulting array is [nums[k], nums[k+1], ..., nums[n-1], nums[0], nums[1], ..., nums[k-1]] (0-indexed).\n",
    "\n",
    "For example, [0,1,2,4,4,4,5,6,6,7] might be rotated at pivot index 5 and become [4,5,6,6,7,0,1,2,4,4].\n",
    "\n",
    "Given the array nums after the rotation and an integer target, return true if target is in nums, or false if it is not in nums.\n",
    "\n",
    "You must decrease the overall operation steps as much as possible.\n",
    "\n",
    "Example 1  \n",
    "Input: nums = [2,5,6,0,0,1,2], target = 0  \n",
    "Output: true  \n",
    "\n",
    "Example 2    \n",
    "Input: nums = [2,5,6,0,0,1,2], target = 3    \n",
    "Output: false    \n",
    "\n",
    "Constraints   \n",
    "1 <= nums.length <= 5000  \n",
    "-10^4 <= nums[i] <= 10^4  \n",
    "nums is guaranteed to be rotated at some pivot  \n",
    "-10^4 <= target <= 10^4  "
   ]
  },
  {
   "cell_type": "code",
   "execution_count": null,
   "id": "d6173145",
   "metadata": {},
   "outputs": [],
   "source": [
    "class Solution:\n",
    "    def searchArray(self, nums: list[int], target: int) -> bool:\n",
    "        left, right = 0, len(nums)-1\n",
    "\n",
    "        while left <= right:\n",
    "            mid = (left+right)//2\n",
    "\n",
    "            if nums[mid] == target:\n",
    "                return True\n",
    "            elif nums[mid] == nums[left] == nums[right]:\n",
    "                left += 1\n",
    "                right -= 1\n",
    "            elif nums[mid] >= nums[left]:\n",
    "                if nums[left] <= target < nums[mid]:\n",
    "                    right = mid - 1\n",
    "                else:\n",
    "                    left = mid + 1\n",
    "            else:\n",
    "                if nums[mid] < target <= nums[right]:\n",
    "                    left = mid + 1\n",
    "                else:\n",
    "                    right = mid - 1\n",
    "\n",
    "        return False"
   ]
  },
  {
   "cell_type": "markdown",
   "id": "3ff6dbd8",
   "metadata": {},
   "source": [
    "**Approach**: Binary Search\n",
    "\n",
    "- Start with two pointers: left and right at the ends.\n",
    "- Keep checking the middle element.\n",
    "- If the middle matches the target → return True.\n",
    "- If the left, mid, and right are the same → shrink both ends (to skip duplicates).\n",
    "- Otherwise, decide which half is sorted:\n",
    "    - If left to mid is sorted → check if target lies inside, else go right.\n",
    "    - If mid to right is sorted → check if target lies inside, else go left.\n",
    "- Continue until left crosses right.\n",
    "- If not found, return False."
   ]
  },
  {
   "cell_type": "markdown",
   "id": "44eb57ac",
   "metadata": {},
   "source": [
    "**Time Complexity**:   \n",
    "Worst case O(n), because duplicates may force linear shrinking (e.g., all elements same).  \n",
    "Average case still closer to O(log n) when duplicates are limited.  \n",
    "\n",
    "**Space Complexity**:  \n",
    "O(1), since only pointers/variables are used.  "
   ]
  },
  {
   "cell_type": "markdown",
   "id": "43550057",
   "metadata": {},
   "source": [
    "| Problem               | Search in Rotated Sorted Array II |\n",
    "|-----------------------|-----------------------------------|\n",
    "| LeetCode Problem      | 81                                |\n",
    "| Approach              | Modified binary search; skip duplicates when left, mid, right are same; then use sorted-half logic |\n",
    "| When to apply         | When searching in rotated arrays with duplicates |\n",
    "| Clues                 | Rotated + may contain duplicates |\n",
    "| Lessons learned       | Need extra step to handle duplicates; duplicates can break sorted-half checks |\n",
    "| Hidden pattern        | Duplicates shrink boundaries until binary search logic works again |\n",
    "| To recognize earlier  | Mentions of \"rotated sorted array\" with duplicates |\n",
    "| Signal words          | \"Rotated\", \"Duplicates allowed\", \"Return true/false if exists\" |"
   ]
  }
 ],
 "metadata": {
  "kernelspec": {
   "display_name": "Python 3",
   "language": "python",
   "name": "python3"
  },
  "language_info": {
   "name": "python",
   "version": "3.12.3"
  }
 },
 "nbformat": 4,
 "nbformat_minor": 5
}
