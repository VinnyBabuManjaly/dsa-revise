{
 "cells": [
  {
   "cell_type": "markdown",
   "id": "663f592b",
   "metadata": {},
   "source": [
    "## Median of Two Sorted Arrays    \n",
    "**Hard**    \n",
    "\n",
    "Problem\n",
    "Given two sorted arrays `nums1` and `nums2` of size `m` and `n` respectively, return the median of the two sorted arrays.  \n",
    "\n",
    "The overall run time complexity should be **O(log (m+n))**.  \n",
    "\n",
    "Example 1  \n",
    "**Input:** `nums1 = [1,3]`, `nums2 = [2]`  \n",
    "**Output:** `2.00000`  \n",
    "**Explanation:** Merged array = `[1,2,3]` and median is 2.  \n",
    "\n",
    "Example 2  \n",
    "**Input:** `nums1 = [1,2]`, `nums2 = [3,4]`  \n",
    "**Output:** `2.50000`  \n",
    "**Explanation:** Merged array = `[1,2,3,4]` and median is `(2 + 3) / 2 = 2.5`.  \n",
    "\n",
    "Constraints\n",
    "- `nums1.length == m`  \n",
    "- `nums2.length == n`  \n",
    "- `0 <= m <= 1000`  \n",
    "- `0 <= n <= 1000`  \n",
    "- `1 <= m + n <= 2000`  \n",
    "- `-10^6 <= nums1[i], nums2[i] <= 10^6`  \n"
   ]
  },
  {
   "cell_type": "code",
   "execution_count": null,
   "id": "7b0f170b",
   "metadata": {},
   "outputs": [],
   "source": [
    "class Solution:\n",
    "    def median(nums1: list[int], nums2: list[int]) -> float:\n",
    "        total = len(nums1)+len(nums2)\n",
    "\n",
    "        low, high = 0, len(nums1)\n",
    "        while low <= high:\n",
    "            i = (low+high)//2\n",
    "            j = (total+1)//2 - i\n",
    "\n",
    "            if nums1[i-1] > nums2[j]:\n",
    "                high = i - 1\n",
    "            if nums2[j-1] > nums1[i]:\n",
    "                low = i + 1\n",
    "\n",
    "# To complete soon\n"
   ]
  }
 ],
 "metadata": {
  "kernelspec": {
   "display_name": "base",
   "language": "python",
   "name": "python3"
  },
  "language_info": {
   "name": "python",
   "version": "3.13.5"
  }
 },
 "nbformat": 4,
 "nbformat_minor": 5
}
