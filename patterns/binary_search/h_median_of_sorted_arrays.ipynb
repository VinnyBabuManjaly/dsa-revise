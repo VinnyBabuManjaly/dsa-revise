{
 "cells": [
  {
   "cell_type": "markdown",
   "id": "663f592b",
   "metadata": {},
   "source": [
    "## Median of Two Sorted Arrays    \n",
    "**Hard**    \n",
    "\n",
    "Problem\n",
    "Given two sorted arrays `nums1` and `nums2` of size `m` and `n` respectively, return the median of the two sorted arrays.  \n",
    "\n",
    "The overall run time complexity should be **O(log (m+n))**.  \n",
    "\n",
    "Example 1  \n",
    "**Input:** `nums1 = [1,3]`, `nums2 = [2]`  \n",
    "**Output:** `2.00000`  \n",
    "**Explanation:** Merged array = `[1,2,3]` and median is 2.  \n",
    "\n",
    "Example 2  \n",
    "**Input:** `nums1 = [1,2]`, `nums2 = [3,4]`  \n",
    "**Output:** `2.50000`  \n",
    "**Explanation:** Merged array = `[1,2,3,4]` and median is `(2 + 3) / 2 = 2.5`.  \n",
    "\n",
    "Constraints\n",
    "- `nums1.length == m`  \n",
    "- `nums2.length == n`  \n",
    "- `0 <= m <= 1000`  \n",
    "- `0 <= n <= 1000`  \n",
    "- `1 <= m + n <= 2000`  \n",
    "- `-10^6 <= nums1[i], nums2[i] <= 10^6`  \n"
   ]
  },
  {
   "cell_type": "code",
   "execution_count": null,
   "id": "7b0f170b",
   "metadata": {},
   "outputs": [],
   "source": [
    "class Solution:\n",
    "    def findMedianSortedArrays(self, nums1: list[int], nums2: list[int]) -> float:\n",
    "        if len(nums1) > len(nums2):\n",
    "            nums1, nums2 = nums2, nums1\n",
    "            \n",
    "        total = len(nums1)+len(nums2)\n",
    "\n",
    "        low, high = 0, len(nums1)\n",
    "        while low <= high:\n",
    "            i = (low+high)//2\n",
    "            j = (total+1)//2 - i\n",
    "\n",
    "            left1 = nums1[i-1] if i >= 1 else float('-inf')\n",
    "            left2 = nums2[j-1] if j >= 1 else float('-inf')\n",
    "            right1 = nums1[i] if i < len(nums1) else float('inf')\n",
    "            right2 = nums2[j] if j < len(nums2) else float('inf')\n",
    "\n",
    "            if left1 <= right2 and left2 <= right1:\n",
    "                if total%2==0:\n",
    "                    return (max(left1, left2)+min(right1, right2))/2\n",
    "                else: \n",
    "                    return max (left1, left2)\n",
    "\n",
    "            elif left1 > right2:\n",
    "                high = i - 1\n",
    "            else:\n",
    "                low = i + 1"
   ]
  },
  {
   "cell_type": "markdown",
   "id": "0deba92a",
   "metadata": {},
   "source": [
    "**Approach**: Binary search on smaller array for exact partition\n",
    "- Always binary search the smaller array.\n",
    "- Partition both arrays so that:\n",
    "- Everything left of partition ≤ everything right of partition.\n",
    "- Use -inf and +inf to handle edges cleanly.\n",
    "- Once partition is valid:\n",
    "- If total length is odd → median is max(left1, left2)\n",
    "- If total length is even → median is average of max(left1, left2) and min(right1, right2)"
   ]
  },
  {
   "cell_type": "markdown",
   "id": "af2bfd6c",
   "metadata": {},
   "source": [
    "**Time Complexity**: O(log(min(m, n)))  \n",
    "- Binary search only on the smaller array (nums1), so the search space is at most min(m, n).\n",
    "- Each step halves the search space → logarithmic.\n",
    "\n",
    "**Space Complexity**: O(1)  \n",
    "- Only a few variables (i, j, left1, right1, ...) are used, no extra data structures."
   ]
  },
  {
   "cell_type": "markdown",
   "id": "86eb4c3f",
   "metadata": {},
   "source": [
    "| Problem                | Median of Two Sorted Arrays |\n",
    "|-------------------------|-----------------------------|\n",
    "| LeetCode Problem        | 4                            |\n",
    "| Approach                | Binary search on the smaller array to partition arrays. |\n",
    "| When to apply           | When merging two sorted arrays but O(m+n) is too slow. |\n",
    "| Clues                   | Mention of O(log(m+n)) → signals binary search. |\n",
    "| Lessons learned         | - Always binary search on the smaller array.<br>- Use `-inf`/`inf` as boundaries.<br>- Median formula differs for odd/even total length `total%2==0`.<br>- Careful with integer division and off-by-one `(max(left1, left2)+min(right1, right2))/2`.<br>- `low, high = 0, len(nums1)` not one less than length, because with empty nums1 array, high=-1 and loop won't start. |\n",
    "| Hidden pattern          | Balanced partition: `i + j = (total+1)//2`. |\n",
    "| To recognize earlier    | If problem asks median in **logarithmic time**, direct merge is not acceptable. |\n",
    "| Signal words            | \"Median\", \"two sorted arrays\", \"O(log(m+n))\". |\n"
   ]
  }
 ],
 "metadata": {
  "kernelspec": {
   "display_name": "base",
   "language": "python",
   "name": "python3"
  },
  "language_info": {
   "name": "python",
   "version": "3.13.5"
  }
 },
 "nbformat": 4,
 "nbformat_minor": 5
}
