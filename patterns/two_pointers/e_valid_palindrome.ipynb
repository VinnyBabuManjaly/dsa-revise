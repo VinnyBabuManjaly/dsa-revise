{
 "cells": [
  {
   "cell_type": "markdown",
   "id": "fc94f097",
   "metadata": {},
   "source": [
    "Valid Palindrome\n",
    "\n",
    "A phrase is a palindrome if, after converting all uppercase letters into lowercase letters and removing all non-alphanumeric characters, it reads the same forward and backward. Alphanumeric characters include letters and numbers.\n",
    "\n",
    "Given a string s, return true if it is a palindrome, or false otherwise.\n",
    "\n",
    "Example 1\n",
    "Input: s = \"A man, a plan, a canal: Panama\"\n",
    "Output: true\n",
    "Explanation: \"amanaplanacanalpanama\" is a palindrome.\n",
    "\n",
    "Example 2\n",
    "Input: s = \"race a car\"\n",
    "Output: false\n",
    "Explanation: \"raceacar\" is not a palindrome.\n",
    "\n",
    "Example 3\n",
    "Input: s = \" \"\n",
    "Output: true\n",
    "Explanation: s is an empty string \"\" after removing non-alphanumeric characters.\n",
    "Since an empty string reads the same forward and backward, it is a palindrome.\n",
    "\n",
    "Constraints\n",
    "1 <= s.length <= 2 * 10^5\n",
    "s consists only of printable ASCII characters."
   ]
  },
  {
   "cell_type": "code",
   "execution_count": 4,
   "id": "16272722",
   "metadata": {},
   "outputs": [
    {
     "name": "stdout",
     "output_type": "stream",
     "text": [
      "amanaplanacanalpanama\n",
      "True\n"
     ]
    }
   ],
   "source": [
    "class Solution:\n",
    "    def validPalindrome(self, s: str) -> bool:\n",
    "        left, right = 0, len(s) - 1\n",
    "        \n",
    "        while left < right:\n",
    "            while left < right and not s[left].isalnum():\n",
    "                left += 1\n",
    "            while left < right and not s[right].isalnum():\n",
    "                right -= 1\n",
    "            \n",
    "            if s[left].lower() != s[right].lower():\n",
    "                return False\n",
    "            left += 1\n",
    "            right -= 1\n",
    "            \n",
    "        return True\n",
    "    \n",
    "    def validPalindromeNew(self, s: str) -> bool:\n",
    "        cleanedString = \"\".join(i.lower() for i in s if i.isalnum())\n",
    "        print(cleanedString)\n",
    "        return cleanedString == cleanedString[::-1]\n",
    "    \n",
    "solve = Solution()\n",
    "print(solve.validPalindromeNew(\"A man, a plan, a canal: Panama\"))"
   ]
  },
  {
   "cell_type": "code",
   "execution_count": null,
   "id": "5a883ec0",
   "metadata": {},
   "outputs": [],
   "source": [
    "# The Approach (Two-Pointer Technique)\n",
    "\n",
    "# This problem checks if a string is a palindrome (same forward and backward) but with two rules:\n",
    "    # Ignore non-alphanumeric characters (spaces, punctuation, etc.).\n",
    "    # Ignore case (treat uppercase and lowercase as the same)."
   ]
  },
  {
   "cell_type": "code",
   "execution_count": null,
   "id": "c4ed06df",
   "metadata": {},
   "outputs": [],
   "source": [
    "# Steps:\n",
    "\n",
    "# Use two pointers:\n",
    "    # left starts from the beginning.\n",
    "    # right starts from the end.\n",
    "\n",
    "# Skip characters that are not letters or numbers (isalnum()).\n",
    "\n",
    "# Compare the characters at left and right:\n",
    "    # If they don’t match → return False.\n",
    "    # If they match → move inward (left += 1, right -= 1).\n",
    "\n",
    "# If all characters match, return True."
   ]
  },
  {
   "cell_type": "code",
   "execution_count": null,
   "id": "07f2a2d5",
   "metadata": {},
   "outputs": [],
   "source": [
    "# Time Complexity: O(n)\n",
    "# Each character in the string is checked at most once.\n",
    "# That makes the runtime O(n), where n is the length of the string.\n",
    "\n",
    "# Space Complexity: O(1)\n",
    "# Only two pointers (left, right) and a few variables are used.\n",
    "# That means O(1) extra space."
   ]
  }
 ],
 "metadata": {
  "kernelspec": {
   "display_name": "Python 3",
   "language": "python",
   "name": "python3"
  },
  "language_info": {
   "codemirror_mode": {
    "name": "ipython",
    "version": 3
   },
   "file_extension": ".py",
   "mimetype": "text/x-python",
   "name": "python",
   "nbconvert_exporter": "python",
   "pygments_lexer": "ipython3",
   "version": "3.12.9"
  }
 },
 "nbformat": 4,
 "nbformat_minor": 5
}
