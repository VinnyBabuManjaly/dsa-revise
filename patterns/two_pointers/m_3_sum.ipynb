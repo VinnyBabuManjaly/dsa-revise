{
 "cells": [
  {
   "cell_type": "markdown",
   "id": "6baee290",
   "metadata": {},
   "source": [
    "3Sum\n",
    "\n",
    "Given an integer array nums, return all the triplets [nums[i], nums[j], nums[k]] such that i != j, i != k, and j != k, and nums[i] + nums[j] + nums[k] == 0.\n",
    "\n",
    "The solution set must not contain duplicate triplets.\n",
    "\n",
    "Example 1:\n",
    "Input: nums = [-1,0,1,2,-1,-4]\n",
    "Output: [[-1,-1,2],[-1,0,1]]\n",
    "Explanation:\n",
    "nums[0] + nums[1] + nums[2] = (-1) + 0 + 1 = 0.\n",
    "nums[1] + nums[2] + nums[4] = 0 + 1 + (-1) = 0.\n",
    "nums[0] + nums[3] + nums[4] = (-1) + 2 + (-1) = 0.\n",
    "The distinct triplets are [-1,0,1] and [-1,-1,2].\n",
    "\n",
    "Example 2:\n",
    "Input: nums = [0,1,1]\n",
    "Output: []\n",
    "Explanation: The only possible triplet does not sum up to 0.\n",
    "\n",
    "Example 3:\n",
    "Input: nums = [0,0,0]\n",
    "Output: [[0,0,0]]\n",
    "Explanation: The only possible triplet sums up to 0.\n",
    "\n",
    "Constraints:\n",
    "3 <= nums.length <= 3000\n",
    "-105 <= nums[i] <= 105"
   ]
  },
  {
   "cell_type": "code",
   "execution_count": null,
   "id": "f23e9426",
   "metadata": {},
   "outputs": [],
   "source": [
    "class Solution:\n",
    "    def threeSum(nums: list[int]) -> list[list[int]]:\n",
    "        result = set()\n",
    "        i = 0\n",
    "        n = len(nums)\n",
    "\n",
    "        nums.sort()\n",
    "\n",
    "        for i in range(len(nums)):\n",
    "            if i > 0 and nums[i] == nums[i-1]:\n",
    "                continue\n",
    "            \n",
    "            left, right = i+1, n-1\n",
    "            while left < right:\n",
    "\n",
    "                sum = nums[i] + nums[left] + nums[right]\n",
    "                if sum == 0:\n",
    "                    triplet = tuple(sorted([nums[i], nums[left], nums[right]]))\n",
    "                    result.add(triplet)\n",
    "\n",
    "                    while left < right and nums[left] == nums[left+1]:\n",
    "                        left += 1\n",
    "                    while left < right and nums[right] == nums[right-1]:\n",
    "                        right -= 1\n",
    "                    left += 1\n",
    "                    right -= 1\n",
    "\n",
    "                elif sum < 0:\n",
    "                    left += 1\n",
    "                else:\n",
    "                    right -= 1\n",
    "\n",
    "        return list(result)\n"
   ]
  },
  {
   "cell_type": "code",
   "execution_count": null,
   "id": "f31e595d",
   "metadata": {},
   "outputs": [],
   "source": [
    "# Approach: Sorting and Two Pointer technique\n",
    "\n",
    "# Sort the array \n",
    "# For each number fix it as the first element of a triplet.\n",
    "# Using two pointers (one at the start, one at the end), we look for two other numbers that make the total sum zero.\n",
    "    # If the sum is too small, move the left pointer right.\n",
    "    # If too big, move the right pointer left. \n",
    "    # Skip duplicates along the way \n",
    "# Store triplets in a set to keep only unique ones. \n",
    "# Finally, return all the unique triplets found."
   ]
  },
  {
   "cell_type": "markdown",
   "id": "ce27837b",
   "metadata": {},
   "source": [
    "Time complexity:  \n",
    "Sorting takes O(n log n)   \n",
    "The two-pointer search for each number takes O(n) → combined O(n^2)   \n",
    "So total = O(n^2), which is the best possible for this problem.   \n",
    "\n",
    "Space complexity:  \n",
    "O(n) for storing the results (if you're using a list to store the triplets)"
   ]
  }
 ],
 "metadata": {
  "kernelspec": {
   "display_name": "Python 3",
   "language": "python",
   "name": "python3"
  },
  "language_info": {
   "name": "python",
   "version": "3.12.3"
  }
 },
 "nbformat": 4,
 "nbformat_minor": 5
}
