{
 "cells": [
  {
   "cell_type": "code",
   "execution_count": null,
   "id": "7156a38a",
   "metadata": {},
   "outputs": [],
   "source": [
    "# Remove Duplicates from Sorted Array\n",
    "\n",
    "# You are given an integer array nums sorted in non-decreasing order. \n",
    "# The task is to remove duplicates in-place so that each unique element appears only once. \n",
    "# The relative order of the elements should remain the same. \n",
    "# You then return the number of unique elements in nums.\n",
    "# Let k be the number of unique elements. To solve the problem, you need to: \n",
    "# Modify nums so that the first k elements contain the unique elements in their original order.\n",
    "# The remaining elements of nums do not matter.\n",
    "# Return k.\n",
    "\n",
    "# Custom Judge:\n",
    "# The solution will be tested with code that checks whether the returned value matches the expected length and that the first k elements of nums are correct. If all checks pass, the solution is accepted.\n",
    "\n",
    "# Example 1:\n",
    "# Input: nums = [1,1,2]\n",
    "# Output: 2, nums = [1,2,_]\n",
    "# Explanation: The function should return k = 2, with the first two elements being 1 and 2. \n",
    "# The remaining elements can be anything.\n",
    "\n",
    "# Example 2:\n",
    "# Input: nums = [0,0,1,1,1,2,2,3,3,4]\n",
    "# Output: 5, nums = [0,1,2,3,4,,,,,_]\n",
    "# Explanation: The function should return k = 5, with the first five elements being 0, 1, 2, 3, and 4. The remaining elements do not matter.\n",
    "\n",
    "# Constraints:\n",
    "# 1 <= nums.length <= 30,000\n",
    "# -100 <= nums[i] <= 100\n",
    "# nums is sorted in non-decreasing order."
   ]
  },
  {
   "cell_type": "code",
   "execution_count": null,
   "id": "13814984",
   "metadata": {},
   "outputs": [],
   "source": [
    "class Solution:\n",
    "    def removeDuplicates(nums: list[int]) -> int:\n",
    "        \n",
    "        write = 1\n",
    "        for read in range(1, len(nums)):\n",
    "            if nums[read] != nums[read-1]:\n",
    "                nums[write] = nums[read]\n",
    "                write += 1\n",
    "\n",
    "        return write"
   ]
  },
  {
   "cell_type": "markdown",
   "id": "1e1f58b0",
   "metadata": {},
   "source": [
    "Approach: Two-Pointer Technique\n",
    "- Use two pointers: read (to scan) and write (to place unique values).\n",
    "- Start with write = 1 since the first element is always unique.\n",
    "- For each element, compare with the previous one.\n",
    "- If different, place it at nums[write] and move write forward.\n",
    "- Return write as the new length of unique elements."
   ]
  },
  {
   "cell_type": "markdown",
   "id": "0953df8f",
   "metadata": {},
   "source": [
    "| Problem              | Remove Duplicates from Sorted Array |\n",
    "|-----------------------|--------------------------------------|\n",
    "| LeetCode Question     | Yes                                 |\n",
    "| Approach              | Two pointers (read & write) to overwrite duplicates |\n",
    "| When to apply         | When array is sorted and needs in-place deduplication |\n",
    "| Clues                 | \"Sorted array\", \"in-place\", \"return new length\" |\n",
    "| Lessons learned       | Sorted property simplifies duplicate detection |\n",
    "| Hidden pattern        | Fast-slow pointer technique          |\n",
    "| To recognize earlier  | When order is sorted and duplicates may exist |\n",
    "| Signal words          | \"In-place\", \"remove duplicates\", \"sorted\" |\n"
   ]
  },
  {
   "cell_type": "markdown",
   "id": "ffd333c2",
   "metadata": {},
   "source": [
    "Time Complexity: O(n) → single pass through the array.\n",
    "\n",
    "Space Complexity: O(1) → done in-place without extra memory."
   ]
  }
 ],
 "metadata": {
  "language_info": {
   "name": "python"
  }
 },
 "nbformat": 4,
 "nbformat_minor": 5
}
