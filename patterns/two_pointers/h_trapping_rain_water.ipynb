{
 "cells": [
  {
   "cell_type": "markdown",
   "id": "9ac6ff6c",
   "metadata": {},
   "source": [
    "## Trapping Rain Water  \n",
    "Hard\n",
    "\n",
    "Given n non-negative integers representing an elevation map where the width of each bar is 1, compute how much water it can trap after raining.\n",
    "\n",
    "Example 1:  \n",
    "Input: height = [0,1,0,2,1,0,1,3,2,1,2,1]  \n",
    "Output: 6  \n",
    "Explanation: The above elevation map (black section) is represented by array [0,1,0,2,1,0,1,3,2,1,2,1]. In this case, 6 units of rain water (blue section) are being trapped.\n",
    "\n",
    "Example 2:  \n",
    "Input: height = [4,2,0,3,2,5]  \n",
    "Output: 9\n",
    "\n",
    "Constraints:  \n",
    "n == height.length  \n",
    "1 <= n <= 2 * 104  \n",
    "0 <= height[i] <= 105  "
   ]
  },
  {
   "cell_type": "code",
   "execution_count": null,
   "id": "a53a30b7",
   "metadata": {},
   "outputs": [],
   "source": [
    "class Solution:\n",
    "    def trappedWater(height: list) -> int:\n",
    "        trapped = 0 \n",
    "        left, right = 0, len(height)-1\n",
    "        leftMax = rightMax = 0\n",
    "\n",
    "        while left < right:\n",
    "            if height[left] <= height[right]:\n",
    "                if height[left] >= leftMax:\n",
    "                    leftMax = height[left]\n",
    "                else:\n",
    "                    trapped += leftMax - height[left]\n",
    "                left += 1\n",
    "            else:\n",
    "                if height[right] >= rightMax:\n",
    "                    rightMax = height[right]\n",
    "                else:\n",
    "                    trapped += rightMax - height[right]\n",
    "                right -= 1\n",
    "\n",
    "        return trapped\n"
   ]
  },
  {
   "cell_type": "markdown",
   "id": "c82ea064",
   "metadata": {},
   "source": [
    "**Approach**: Two pointers\n",
    "\n",
    "- Use two pointers left and right starting at both ends.\n",
    "- Maintain leftMax and rightMax – the highest bars seen so far from each side.\n",
    "- Always move the side with the smaller height inward, because the trapped water at that position depends on the smaller of the two maximums.\n",
    "- Add trapped water as leftMax - height[left] or rightMax - height[right]."
   ]
  },
  {
   "cell_type": "markdown",
   "id": "2dd0f3c9",
   "metadata": {},
   "source": [
    "**Time Complexity**: O(n) (one pass of array).\n",
    "\n",
    "**Space Complexity**: O(1) (constant extra space)."
   ]
  },
  {
   "cell_type": "markdown",
   "id": "dab9be29",
   "metadata": {},
   "source": [
    "| Problem              | Trapping Rain Water |\n",
    "|----------------------|---------------------|\n",
    "| LeetCode Question     | 42                  |\n",
    "| Approach              | Two-pointer technique tracking `leftMax` and `rightMax` to compute trapped water incrementally |\n",
    "| When to apply         | When total capacity at each index depends on the minimum of max heights from both sides |\n",
    "| Clues                 | “Water trapped between bars”, heights array given, must compute total trapped volume |\n",
    "| Lessons learned       | Move the pointer at the smaller side; track running maxima to avoid extra space; O(n) time & O(1) space |\n",
    "| Hidden pattern        | Water at index i = `min(leftMax, rightMax) - height[i]` |\n",
    "| To recognize earlier  | Any problem requiring min of two running maxima across an index is a candidate for two-pointer O(1) space solution |\n",
    "| Signal words          | “Between”, “trap”, “fill”, “bars”, “left” & “right” boundaries mentioned |\n"
   ]
  }
 ],
 "metadata": {
  "kernelspec": {
   "display_name": "base",
   "language": "python",
   "name": "python3"
  },
  "language_info": {
   "name": "python",
   "version": "3.13.5"
  }
 },
 "nbformat": 4,
 "nbformat_minor": 5
}
