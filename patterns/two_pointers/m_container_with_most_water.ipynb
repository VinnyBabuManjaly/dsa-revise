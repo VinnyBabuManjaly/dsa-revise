{
 "cells": [
  {
   "cell_type": "code",
   "execution_count": null,
   "id": "0460e1cf",
   "metadata": {},
   "outputs": [],
   "source": [
    "# Container With Most Water\n",
    "\n",
    "# You are given an integer array height of length n. There are n vertical lines drawn such that the two endpoints of the ith line are (i, 0) and (i, height[i]).\n",
    "\n",
    "# Find two lines that together with the x-axis form a container, such that the container contains the most water.\n",
    "\n",
    "# Return the maximum amount of water a container can store.\n",
    "\n",
    "# Example 1:\n",
    "# Input: height = [1,8,6,2,5,4,8,3,7]\n",
    "# Output: 49\n",
    "\n",
    "# Example 2:\n",
    "# Input: height = [1,1]\n",
    "# Output: 1\n",
    "\n",
    "# Constraints:\n",
    "# n == height.length\n",
    "# 2 <= n <= 10^5\n",
    "# 0 <= height[i] <= 10^4"
   ]
  },
  {
   "cell_type": "code",
   "execution_count": null,
   "id": "b04d5391",
   "metadata": {},
   "outputs": [],
   "source": [
    "class Solution:\n",
    "    def maxArea(height: list[int]) -> int:\n",
    "        maxarea = 0\n",
    "        left, right = 0, len(height) - 1\n",
    "\n",
    "        while left <= right:\n",
    "            if height[left] < height[right]:\n",
    "                current = height[left] * (right-left+1)\n",
    "                left += 1\n",
    "            else: \n",
    "                current = height[right] * (right-left+1)\n",
    "                right -= 1\n",
    "            maxarea = max(maxarea, current)\n",
    "\n",
    "        return maxarea"
   ]
  },
  {
   "cell_type": "markdown",
   "id": "151468b6",
   "metadata": {},
   "source": [
    "Approach: Two-pointer strategy  \n",
    "\n",
    "- The area is determined by the distance between the two lines (width) and the shorter of the two heights (since water can’t rise above the shorter line).   \n",
    "- At each step, you calculate the area and update the maximum.  \n",
    "- Then, you move the pointer at the shorter line inward, because only that has a chance of finding a taller line and potentially a bigger area."
   ]
  },
  {
   "cell_type": "markdown",
   "id": "894cac25",
   "metadata": {},
   "source": [
    "| Problem                | Container With Most Water |\n",
    "|------------------------|---------------------------|\n",
    "| LeetCode Question      | 11                        ||\n",
    "| Approach               | Two-pointer, move the shorter line inward while tracking max area |\n",
    "| When to apply          | When maximizing/minimizing a value between two ends of an array |\n",
    "| Clues                  | Mentions \"maximum area\", \"two lines\", and constraints large (n up to 10^5) so brute force is too slow |\n",
    "| Lessons learned        | Optimal solutions often come from greedy two-pointer strategies instead of brute force |\n",
    "| Hidden pattern         | Width shrinks as you move inward, so only moving the shorter line can potentially improve height |\n",
    "| How to recognize earlier | If the problem involves pairs at opposite ends with a max/min goal → try two pointers |\n",
    "| Signal words           | \"Maximum\", \"two ends\", \"store water\", \"n up to 10⁵\" |\n"
   ]
  },
  {
   "cell_type": "markdown",
   "id": "8a979dc0",
   "metadata": {},
   "source": [
    "Time Complexity: O(n)  \n",
    "Each line is considered at most once as pointers move inward. \n",
    "\n",
    "Space Complexity: O(1)  \n",
    "Only a few variables are used, no extra data structures. "
   ]
  },
  {
   "cell_type": "code",
   "execution_count": null,
   "id": "dbbfb147",
   "metadata": {},
   "outputs": [],
   "source": [
    "# LeetCode Question number: 11\n",
    "\n",
    "# Problem: Find two lines that form a container holding the most water.\n",
    "\n",
    "# Approach: Two-pointer, move the shorter line inward while tracking max area.\n",
    "\n",
    "# When to apply: When maximizing/minimizing a value between two ends of an array.\n",
    "\n",
    "# Clues: Mentions \"maximum area\", \"two lines\", and constraints large enough that brute force (O(n²)) is too slow.\n",
    "\n",
    "# Lessons learned: Optimal solutions often come from greedy two-pointer strategies instead of brute force.\n",
    "\n",
    "# Hidden pattern: Width shrinks as you move inward, so only moving the shorter line can potentially improve height.\n",
    "\n",
    "# How to recognize earlier: If the problem involves pairs at opposite ends with a max/min goal → try two pointers.\n",
    "\n",
    "# Signal words: \"Maximum\", \"two ends\", \"store water\", \"n up to 10⁵\"."
   ]
  }
 ],
 "metadata": {
  "language_info": {
   "name": "python"
  }
 },
 "nbformat": 4,
 "nbformat_minor": 5
}
