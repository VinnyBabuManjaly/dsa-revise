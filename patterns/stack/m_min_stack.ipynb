{
 "cells": [
  {
   "cell_type": "markdown",
   "id": "550eee55",
   "metadata": {},
   "source": [
    "## Min Stack  \n",
    "Medium  \n",
    "\n",
    "Design a stack that supports push, pop, top, and retrieving the minimum element in constant time.  \n",
    "Implement the MinStack class:  \n",
    "MinStack() initializes the stack object.  \n",
    "void push(int val) pushes the element val onto the stack.  \n",
    "void pop() removes the element on the top of the stack.  \n",
    "int top() gets the top element of the stack.  \n",
    "int getMin() retrieves the minimum element in the stack.  \n",
    "You must implement a solution with O(1) time complexity for each function. \n",
    "\n",
    "Example 1:  \n",
    "Input  \n",
    "[\"MinStack\",\"push\",\"push\",\"push\",\"getMin\",\"pop\",\"top\",\"getMin\"]  \n",
    "[[],[-2],[0],[-3],[],[],[],[]]  \n",
    "Output  \n",
    "[null,null,null,null,-3,null,0,-2]  \n",
    "Explanation  \n",
    "MinStack minStack = new MinStack();  \n",
    "minStack.push(-2);  \n",
    "minStack.push(0);  \n",
    "minStack.push(-3);  \n",
    "minStack.getMin(); // return -3  \n",
    "minStack.pop();  \n",
    "minStack.top(); // return 0  \n",
    "minStack.getMin(); // return -2  \n",
    "\n",
    "Constraints:  \n",
    "-231 <= val <= 231 - 1  \n",
    "Methods pop, top and getMin operations will always be called on non-empty stacks.  \n",
    "At most 3 * 104 calls will be made to push, pop, top, and getMin.  "
   ]
  },
  {
   "cell_type": "code",
   "execution_count": null,
   "id": "8b760d1e",
   "metadata": {},
   "outputs": [],
   "source": [
    "class MinStack:\n",
    "    def __init__(self):\n",
    "        self.stack = []\n",
    "        self.minStack = []\n",
    "\n",
    "    def push(self, val):\n",
    "        self.stack.append(val)\n",
    "        if not self.minStack:\n",
    "            self.minStack.append(val)\n",
    "        else:\n",
    "            self.minStack.append(min(self.minStack[-1], val))\n",
    "\n",
    "    def pop(self):\n",
    "        self.stack.pop()\n",
    "        self.minStack.pop()\n",
    "\n",
    "    def top(self):\n",
    "        return self.stack[-1]\n",
    "\n",
    "    def getMin(self):\n",
    "        return self.minStack[-1]\n"
   ]
  },
  {
   "cell_type": "markdown",
   "id": "ee3407dd",
   "metadata": {},
   "source": [
    "**Approach**: Stacks\n",
    "\n",
    "- Keep two stacks:\n",
    "    - One for all values.\n",
    "    - Another to keep track of the minimum value so far at each push.\n",
    "- When you push a value, push it onto the main stack and also push the current minimum (either the new value or the previous minimum) onto the min stack.\n",
    "- When you pop, pop from both stacks so they stay in sync.\n",
    "- top() simply returns the top of the main stack.\n",
    "- getMin() simply returns the top of the min stack (which always holds the current minimum)."
   ]
  },
  {
   "cell_type": "markdown",
   "id": "7b5f138a",
   "metadata": {},
   "source": [
    "**Time Complexity**  \n",
    "push, pop, top, getMin → O(1) each (constant time operations)\n",
    "\n",
    "**Space Complexity**  \n",
    "Uses two stacks of equal size in the worst case → O(n) extra space, where n is the number of elements pushed."
   ]
  },
  {
   "cell_type": "markdown",
   "id": "c6576079",
   "metadata": {},
   "source": [
    "| Problem              | Min Stack |\n",
    "|----------------------|-----------|\n",
    "| LeetCode Problem      | 155       |\n",
    "| Approach              | Maintain two stacks: one for all values, one for current minimums |\n",
    "| When to apply         | When you need O(1) push, pop, top, and getMin operations |\n",
    "| Clues                 | “Get minimum in constant time”, “Stack operations” |\n",
    "| Lessons learned       | Using an auxiliary stack to track min keeps operations O(1) |\n",
    "| Hidden pattern        | Each stack index holds the min up to that point |\n",
    "| To recognize earlier  | Any stack problem mentioning frequent minimum retrieval |\n",
    "| Signal words          | “Min in O(1)”, “Stack with minimum”, “Track min per push” |\n"
   ]
  }
 ],
 "metadata": {
  "kernelspec": {
   "display_name": "base",
   "language": "python",
   "name": "python3"
  },
  "language_info": {
   "name": "python",
   "version": "3.13.5"
  }
 },
 "nbformat": 4,
 "nbformat_minor": 5
}
