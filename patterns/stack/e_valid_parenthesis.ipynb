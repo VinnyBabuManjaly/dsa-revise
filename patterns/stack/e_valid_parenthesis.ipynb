{
 "cells": [
  {
   "cell_type": "markdown",
   "id": "0ba13739",
   "metadata": {},
   "source": [
    "## Valid Parentheses  \n",
    "Easy\n",
    "\n",
    "Given a string s containing just the characters '(', ')', '{', '}', '[' and ']', determine if the input string is valid.  \n",
    "An input string is valid if:  \n",
    "Open brackets must be closed by the same type of brackets.  \n",
    "Open brackets must be closed in the correct order.  \n",
    "Every close bracket has a corresponding open bracket of the same type.\n",
    "\n",
    "Example 1:  \n",
    "Input: s = \"()\"  \n",
    "Output: true \n",
    "\n",
    "Example 2:  \n",
    "Input: s = \"()[]{}\"  \n",
    "Output: true\n",
    "\n",
    "Example 3:  \n",
    "Input: s = \"(]\"  \n",
    "Output: false\n",
    "\n",
    "Example 4:  \n",
    "Input: s = \"([])\"  \n",
    "Output: true  \n",
    "\n",
    "Example 5:  \n",
    "Input: s = \"([)]\"  \n",
    "Output: false  \n",
    "\n",
    "Constraints:  \n",
    "1 <= s.length <= 104  \n",
    "s consists of parentheses only '()[]{}'."
   ]
  },
  {
   "cell_type": "code",
   "execution_count": null,
   "id": "5193ae66",
   "metadata": {},
   "outputs": [
    {
     "data": {
      "text/plain": [
       "True"
      ]
     },
     "execution_count": 17,
     "metadata": {},
     "output_type": "execute_result"
    }
   ],
   "source": [
    "class Solution:\n",
    "    def validParenthesis(self, s: str) -> bool:\n",
    "        mapping = {'}': '{', ')': '(', ']': '['}\n",
    "        stack = []\n",
    "\n",
    "        for brace in s:\n",
    "            if brace in mapping:\n",
    "                if not stack or (stack and mapping[brace] != stack.pop()):\n",
    "                    return False    \n",
    "            else:\n",
    "                stack.append(brace)\n",
    "\n",
    "        return not stack\n",
    "\n",
    "solve = Solution()\n",
    "solve.validParenthesis(s=\"()\")"
   ]
  }
 ],
 "metadata": {
  "kernelspec": {
   "display_name": "base",
   "language": "python",
   "name": "python3"
  },
  "language_info": {
   "codemirror_mode": {
    "name": "ipython",
    "version": 3
   },
   "file_extension": ".py",
   "mimetype": "text/x-python",
   "name": "python",
   "nbconvert_exporter": "python",
   "pygments_lexer": "ipython3",
   "version": "3.13.5"
  }
 },
 "nbformat": 4,
 "nbformat_minor": 5
}
