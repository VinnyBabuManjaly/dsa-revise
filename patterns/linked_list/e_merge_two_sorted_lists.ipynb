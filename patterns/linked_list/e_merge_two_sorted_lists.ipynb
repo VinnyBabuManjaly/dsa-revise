{
 "cells": [
  {
   "cell_type": "markdown",
   "id": "03990a1a",
   "metadata": {},
   "source": [
    "## Merge Two Sorted Lists  \n",
    "\n",
    "Easy  \n",
    "\n",
    "You are given the heads of two sorted linked lists list1 and list2.  \n",
    "\n",
    "Merge the two lists into one sorted list. The list should be made by splicing together the nodes of the first two lists.  \n",
    "\n",
    "Return the head of the merged linked list.  \n",
    "\n",
    "Example 1:  \n",
    "\n",
    "Input: list1 = [1,2,4], list2 = [1,3,4]  \n",
    "Output: [1,1,2,3,4,4]  \n",
    "\n",
    "Example 2:  \n",
    "\n",
    "Input: list1 = [], list2 = []  \n",
    "Output: []  \n",
    "\n",
    "Example 3:  \n",
    "\n",
    "Input: list1 = [], list2 = [0]  \n",
    "Output: [0]  \n",
    "\n",
    "Constraints:  \n",
    "\n",
    "The number of nodes in both lists is in the range [0, 50].  \n",
    "-100 <= Node.val <= 100  \n",
    "Both list1 and list2 are sorted in non-decreasing order.  \n"
   ]
  },
  {
   "cell_type": "code",
   "execution_count": null,
   "id": "0a885f23",
   "metadata": {},
   "outputs": [],
   "source": [
    "from typing import Optional\n",
    "\n",
    "class ListNode:\n",
    "    def __init__(self, val=0, next=None):\n",
    "        self.val = val\n",
    "        self.next = next\n",
    "\n",
    "class Solution:\n",
    "    def mergeLists(list1: Optional[ListNode], list2: Optional[ListNode]):\n",
    "        dummy = ListNode(-1)\n",
    "        current = dummy\n",
    "\n",
    "        while list1 and list2:\n",
    "            if list1.val <= list2.val:\n",
    "                current.next = list1\n",
    "                list1 = list1.next\n",
    "            else:\n",
    "                current.next = list2\n",
    "                list2 = list2.next\n",
    "            \n",
    "            current = current.next\n",
    "\n",
    "        current.next = list1 if list1 else list2\n",
    "        return dummy.next"
   ]
  },
  {
   "cell_type": "markdown",
   "id": "f78cd576",
   "metadata": {},
   "source": [
    "Approach: Dummy node and two pointers\n",
    "\n",
    "- Start with a dummy node to build the new merged list easily.\n",
    "- Use a pointer (current) to track the end of the merged list.\n",
    "- Compare the first nodes of both lists:\n",
    "    - Attach the smaller one to current.next.\n",
    "    - Move that list’s pointer ahead.\n",
    "- Keep doing this until one list runs out of nodes.\n",
    "- Attach whatever nodes are left from the other list (since it's already sorted).\n",
    "- Return the merged list starting after the dummy node."
   ]
  },
  {
   "cell_type": "markdown",
   "id": "701f0c6a",
   "metadata": {},
   "source": [
    "**Time Complexity**: O(n + m) → traverse both lists once.\n",
    "\n",
    "**Space Complexity**: O(1) → only use pointers (no extra data structures)."
   ]
  },
  {
   "cell_type": "markdown",
   "id": "e5632d40",
   "metadata": {},
   "source": [
    "| Problem                  | Merge Two Sorted Lists                                            |\n",
    "| ------------------------ | ----------------------------------------------------------------- |\n",
    "| **LeetCode Problem**     | 21                                                               |\n",
    "| **Approach**             | Use a dummy node and two pointers to merge nodes in sorted order. |\n",
    "| **When to apply**        | When merging two already sorted linked lists.                     |\n",
    "| **Clues**                | “Merge” and “Sorted” mentioned together.                          |\n",
    "| **Lessons learned**      | Dummy nodes simplify linked list manipulation.                    |\n",
    "| **Hidden pattern**       | Two-pointer traversal pattern.                                    |\n",
    "| **To recognize earlier** | If both inputs are sorted and need to be combined.                |\n",
    "| **Signal words**         | Merge, Sorted, Linked List, Combine                               |\n"
   ]
  }
 ],
 "metadata": {
  "kernelspec": {
   "display_name": "base",
   "language": "python",
   "name": "python3"
  },
  "language_info": {
   "name": "python",
   "version": "3.13.5"
  }
 },
 "nbformat": 4,
 "nbformat_minor": 5
}
