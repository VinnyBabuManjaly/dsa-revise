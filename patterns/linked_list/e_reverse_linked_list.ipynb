{
 "cells": [
  {
   "cell_type": "markdown",
   "id": "f5fe9b50",
   "metadata": {},
   "source": [
    "## Reverse Linked List\n",
    "\n",
    "Easy\n",
    "\n",
    "Given the head of a singly linked list, reverse the list, and return the reversed list.   \n",
    "\n",
    "Example 1:   \n",
    "Input: head = [1,2,3,4,5]  \n",
    "Output: [5,4,3,2,1]\n",
    "\n",
    "Example 2:  \n",
    "Input: head = [1,2]  \n",
    "Output: [2,1]\n",
    "\n",
    "Example 3:   \n",
    "Input: head = []   \n",
    "Output: []  \n",
    "\n",
    "Constraints:  \n",
    "The number of nodes in the list is the range [0, 5000].   \n",
    "-5000 <= Node.val <= 5000  \n",
    "\n",
    "Follow up: A linked list can be reversed either iteratively or recursively. Could you implement both?"
   ]
  },
  {
   "cell_type": "code",
   "execution_count": null,
   "id": "2a343710",
   "metadata": {},
   "outputs": [],
   "source": [
    "from typing import Optional\n",
    "\n",
    "class ListNode:\n",
    "    def __init__(self, val=0, next=None):\n",
    "        self.val = val\n",
    "        self.next = next\n",
    "\n",
    "class Solution:\n",
    "    def reverseRecursive(self, head: Optional[ListNode]) -> Optional[ListNode]:\n",
    "        if not head or not head.next:\n",
    "            return head\n",
    "\n",
    "        newHead = self.reverseRecursive(head.next)\n",
    "        head.next.next = head\n",
    "        head.next = None\n",
    "\n",
    "        return newHead\n",
    "\n",
    "    def reverseIterative(self, head: Optional[ListNode]) -> Optional[ListNode]:\n",
    "        prev= None\n",
    "        curr = head\n",
    "\n",
    "        while curr:\n",
    "            next = curr.next\n",
    "            curr.next = prev\n",
    "            prev = curr\n",
    "            curr = next\n",
    "\n",
    "        return prev"
   ]
  },
  {
   "cell_type": "markdown",
   "id": "2191b39a",
   "metadata": {},
   "source": [
    "**Recursive Approach**:\n",
    "\n",
    "- Go all the way down to the last node (base case).\n",
    "- As the call stack unwinds, reverse the links one by one.\n",
    "- The last node becomes the new head.\n",
    "- Each node’s next pointer is flipped to point to its previous node.\n",
    "\n",
    "**Iterative Approach**:\n",
    "\n",
    "- Use two pointers: prev and curr.\n",
    "- Traverse through the list once.\n",
    "- For each node, reverse its link to point to the previous node.\n",
    "- Move both pointers forward until the list ends.\n",
    "- The last processed node (prev) becomes the new head."
   ]
  },
  {
   "cell_type": "markdown",
   "id": "804a856a",
   "metadata": {},
   "source": [
    "**Recursive** Approach:  \n",
    "Time Complexity: O(n) — each node is visited once.  \n",
    "Space Complexity: O(n) — due to recursive call stack.  \n",
    "\n",
    "**Iterative** Approach:  \n",
    "Time Complexity: O(n) — single traversal of all nodes.  \n",
    "Space Complexity: O(1) — only a few pointer variables used."
   ]
  },
  {
   "cell_type": "markdown",
   "id": "838174d8",
   "metadata": {},
   "source": [
    "| Problem                  | Reverse Linked List                                                           |\n",
    "| ------------------------ | ----------------------------------------------------------------------------- |\n",
    "| **LeetCode Problem**     | Reverse Linked List                                                           |\n",
    "| **Approach**             | Use recursion or iteration to reverse pointers of each node.                  |\n",
    "| **When to apply**        | When you need to reverse the direction of a singly linked list.               |\n",
    "| **Clues**                | Mentions “reverse” or “in-place reversal” of linked list.                     |\n",
    "| **Lessons learned**      | Recursion can mimic stack behavior; iterative method is more space-efficient. |\n",
    "| **Hidden pattern**       | Re-linking nodes by keeping track of previous and next pointers.              |\n",
    "| **To recognize earlier** | Any problem involving reversing or reordering linked list connections.        |\n",
    "| **Signal words**         | “Reverse the list,” “in-place,” “head to tail.”                               |\n"
   ]
  }
 ],
 "metadata": {
  "kernelspec": {
   "display_name": "base",
   "language": "python",
   "name": "python3"
  },
  "language_info": {
   "name": "python",
   "version": "3.13.5"
  }
 },
 "nbformat": 4,
 "nbformat_minor": 5
}
