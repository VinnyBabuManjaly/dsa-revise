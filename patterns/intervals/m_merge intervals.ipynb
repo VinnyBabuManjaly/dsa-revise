{
 "cells": [
  {
   "cell_type": "markdown",
   "id": "79df1f5f",
   "metadata": {},
   "source": [
    "Merge Intervals\n",
    "\n",
    "Medium\n",
    "Given an array of intervals where intervals[i] = [starti, endi], merge all overlapping intervals, and return an array of the non-overlapping intervals that cover all the intervals in the input.\n",
    "\n",
    "Example 1:\n",
    "\n",
    "Input: intervals = [[1,3],[2,6],[8,10],[15,18]]\n",
    "Output: [[1,6],[8,10],[15,18]]\n",
    "Explanation: Since intervals [1,3] and [2,6] overlap, merge them into [1,6].\n",
    "Example 2:\n",
    "\n",
    "Input: intervals = [[1,4],[4,5]]\n",
    "Output: [[1,5]]\n",
    "Explanation: Intervals [1,4] and [4,5] are considered overlapping.\n",
    "\n",
    "Constraints:\n",
    "1 <= intervals.length <= 104\n",
    "intervals[i].length == 2\n",
    "0 <= starti <= endi <= 104"
   ]
  },
  {
   "cell_type": "code",
   "execution_count": null,
   "id": "79fb685d",
   "metadata": {},
   "outputs": [],
   "source": [
    "class Solution:\n",
    "    def mergeIntervals(self, intervals: list[list[int]]):\n",
    "        result = []\n",
    "        intervals.sort()\n",
    "        mergeInterval = intervals[0]\n",
    "        \n",
    "        for i in range(1, len(intervals)):\n",
    "            if mergeInterval[1] >= intervals[i][0]:  # overlap\n",
    "                mergeInterval[0] = min(mergeInterval[0], intervals[i][0])\n",
    "                mergeInterval[1] = max(mergeInterval[1], intervals[i][1])\n",
    "            else:  # no overlap, append to result\n",
    "                result.append(mergeInterval)\n",
    "                mergeInterval = intervals[i]\n",
    "        result.append(mergeInterval)    # appending last merge interval\n",
    "            \n",
    "        return result"
   ]
  },
  {
   "cell_type": "markdown",
   "id": "37932135",
   "metadata": {},
   "source": [
    "[[1,4],[2,3]]\n",
    "\n",
    "\n",
    "_____\n",
    "[[1,3],[2,6],[8,10],[15,18]]\n",
    "\n",
    "mergeInterval=mi=1,3\n",
    "i in range 1 to 4\n",
    "\n",
    "i=1 1,3     2,6     2>3>6   overlap                 mi=1,6\n",
    "i=2 1,6     8,10    nwr     no overlap  append 1,6  mi=8,10\n",
    "i=3 15,18   8,10    nwr     no overlap  append 8,10 mi=15,18"
   ]
  }
 ],
 "metadata": {
  "kernelspec": {
   "display_name": "Python 3",
   "language": "python",
   "name": "python3"
  },
  "language_info": {
   "name": "python",
   "version": "3.12.9"
  }
 },
 "nbformat": 4,
 "nbformat_minor": 5
}
