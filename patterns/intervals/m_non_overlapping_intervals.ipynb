{
 "cells": [
  {
   "cell_type": "markdown",
   "id": "dedf80c5",
   "metadata": {},
   "source": [
    "Non-overlapping Intervals  \n",
    "\n",
    "Medium  \n",
    "\n",
    "Given an array of intervals intervals where intervals[i] = [starti, endi], return the minimum number of intervals you need to remove to make the rest of the intervals non-overlapping.  \n",
    "\n",
    "Note that intervals which only touch at a point are non-overlapping. For example, [1, 2] and [2, 3] are non-overlapping.\n",
    "\n",
    "Example 1:  \n",
    "Input: intervals = [[1,2],[2,3],[3,4],[1,3]]  \n",
    "Output: 1  \n",
    "Explanation: [1,3] can be removed and the rest of the intervals are non-overlapping.   \n",
    "Example 2:  \n",
    "Input: intervals = [[1,2],[1,2],[1,2]]  \n",
    "Output: 2    \n",
    "Explanation: You need to remove two [1,2] to make the rest of the intervals non-overlapping.  \n",
    "Example 3:  \n",
    "Input: intervals = [[1,2],[2,3]]  \n",
    "Output: 0  \n",
    "Explanation: You don't need to remove any of the intervals since they're already non-overlapping.  \n",
    " \n",
    "Constraints:\n",
    "1 <= intervals.length <= 105  \n",
    "intervals[i].length == 2  \n",
    "-5 * 104 <= starti < endi <= 5 * 104  "
   ]
  },
  {
   "cell_type": "markdown",
   "id": "38888626",
   "metadata": {},
   "source": [
    "[[1,2],[2,3],[3,4],[1,3]]\n",
    "\n",
    "sort    1,2 1,3 2,3 3,4\n",
    "i from 1 to end\n",
    "min = 0\n",
    "compare=1,2\n",
    "\n",
    "1,2     1,3     overlap     2 lt 3  more room for not overlapping   compare=1,2 min=1\n",
    "1,2     2,3     no overlap  compare=intervals[i]=2,3\n",
    "2,3     3,4     \"           compare=3,4\n",
    "\n"
   ]
  },
  {
   "cell_type": "code",
   "execution_count": null,
   "id": "1be8051d",
   "metadata": {},
   "outputs": [],
   "source": [
    "class Solution:\n",
    "    def eraseOverlapIntervals(intervals: list[list[int]]) -> int:\n",
    "        noOverlap = 1\n",
    "        \n",
    "        intervals.sort(key=lambda x:x[1])\n",
    "        compare = intervals[0][1]\n",
    "        for i in range(1, len(intervals)):\n",
    "            # check for overlap\n",
    "            if compare <= intervals[i][0]: # no overlap\n",
    "                nonOverlapping += 1\n",
    "                compare = intervals[i][1]\n",
    "                \n",
    "        return len(intervals) - noOverlap"
   ]
  },
  {
   "cell_type": "markdown",
   "id": "6655ec67",
   "metadata": {},
   "source": [
    "[[1,100],[11,22],[1,11],[2,12]]\n",
    "sort    1,11    1,100   2,12    11,22\n",
    "min=0\n",
    "compare =1,11\n",
    "\n",
    "1,11    1,100   overlap     compare=1,11    min=1\n",
    "1,11    2,12    overlap     compare=1,11    min=2\n",
    "1,11    11,22   no          compare=11,22\n",
    "\n",
    "\n",
    "\n",
    "sort by endkey: 1,11    2,12    11,22   1,100\n",
    "\n"
   ]
  },
  {
   "cell_type": "code",
   "execution_count": 3,
   "id": "a6aa9584",
   "metadata": {},
   "outputs": [
    {
     "name": "stdout",
     "output_type": "stream",
     "text": [
      "[[-73, -26], [-65, -11], [-63, 2], [-62, -49], [-52, 31], [-40, -26], [-31, 49], [30, 47], [58, 95], [66, 98], [82, 97], [95, 99]]\n",
      "12\n"
     ]
    }
   ],
   "source": [
    "intervals = [[-52,31],[-73,-26],[82,97],[-65,-11],[-62,-49],[95,99],[58,95],[-31,49],[66,98],[-63,2],[30,47],[-40,-26]]\n",
    "\n",
    "intervals.sort()\n",
    "print(intervals)\n",
    "print(len(intervals))"
   ]
  },
  {
   "cell_type": "markdown",
   "id": "05667d93",
   "metadata": {},
   "source": [
    "\n",
    "[[-52,31],[-73,-26],[82,97],[-65,-11],[-62,-49],[95,99],[58,95],[-31,49],[66,98],[-63,2],[30,47],[-40,-26]]\n",
    "sorted:\n",
    "[[-73, -26], [-65, -11], [-63, 2], [-62, -49], [-52, 31], [-40, -26], [-31, 49], [30, 47], [58, 95], [66, 98], [82, 97], [95, 99]]\n",
    "nooverlap = 1\n",
    "\n",
    "-73,-26  -65,-11     overlap\n",
    "-73 -26 -63 2       overlap\n",
    "-73 -26 -62,-49     overlap\n",
    "-73 -26 -52, 31\n",
    "        -40, -26\n",
    "        -31, 49\n",
    "-73 -26 30, 47      no overlap=2\n",
    "30,47   58, 95      no overlap=3\n",
    "58, 95  66, 98      overlap\n",
    "        82,97       overlap\n",
    "        95,99       no overlalp=4\n",
    "\n",
    "12-4=8 is wrong\n"
   ]
  },
  {
   "cell_type": "markdown",
   "id": "2fc6512a",
   "metadata": {},
   "source": [
    "[[1,10], [2,3], [3,5]]\n",
    "overlap=1\n",
    "\n",
    "sort by start time: 1,10 2,3 3,5\n",
    "1 10   2 3 overlap\n",
    "1,10   3,5 overlap\n",
    "min=> 3-1=2     wrong\n",
    "\n",
    "sort by end time: 2,3 3,5 1,10\n",
    "2,3     3,5     no overlap\n",
    "3,5     1,10    overlap\n",
    "min=3-2=1       correct\n",
    "\n"
   ]
  }
 ],
 "metadata": {
  "kernelspec": {
   "display_name": "Python 3",
   "language": "python",
   "name": "python3"
  },
  "language_info": {
   "codemirror_mode": {
    "name": "ipython",
    "version": 3
   },
   "file_extension": ".py",
   "mimetype": "text/x-python",
   "name": "python",
   "nbconvert_exporter": "python",
   "pygments_lexer": "ipython3",
   "version": "3.12.9"
  }
 },
 "nbformat": 4,
 "nbformat_minor": 5
}
