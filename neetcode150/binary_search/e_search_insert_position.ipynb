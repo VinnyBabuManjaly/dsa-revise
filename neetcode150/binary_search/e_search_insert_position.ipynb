{
 "cells": [
  {
   "cell_type": "markdown",
   "id": "b54c6f76",
   "metadata": {},
   "source": [
    "### Search Insert Position\n",
    "\n",
    "Given a sorted array of distinct integers and a target value, return the index if the target is found. If not, return the index where it would be if it were inserted in order.\n",
    "\n",
    "You must write an algorithm with O(log n) runtime complexity.\n",
    "\n",
    "Example 1:\n",
    "Input: nums = [1,3,5,6], target = 5\n",
    "Output: 2\n",
    "\n",
    "Example 2:\n",
    "Input: nums = [1,3,5,6], target = 2\n",
    "Output: 1\n",
    "\n",
    "Example 3:\n",
    "Input: nums = [1,3,5,6], target = 7\n",
    "Output: 4\n",
    "\n",
    "Constraints:\n",
    "1 <= nums.length <= 10^4\n",
    "-10^4 <= nums[i] <= 10^4\n",
    "nums contains distinct values sorted in ascending order.\n",
    "-10^4 <= target <= 10^4\n"
   ]
  },
  {
   "cell_type": "code",
   "execution_count": null,
   "id": "0f55a64a",
   "metadata": {},
   "outputs": [],
   "source": [
    "class Solution:\n",
    "    def searchInsert(nums: list[int], target: int) -> int:\n",
    "        left, right = 0, len(nums)-1\n",
    "\n",
    "        while left <= right:\n",
    "            mid = (left+right) // 2\n",
    "            if nums[mid] == target:\n",
    "                return mid\n",
    "            elif nums[mid] < target:\n",
    "                left = mid + 1\n",
    "            else:\n",
    "                right = mid - 1\n",
    "\n",
    "        return left"
   ]
  },
  {
   "cell_type": "markdown",
   "id": "a5482737",
   "metadata": {},
   "source": [
    "**Approach**: Use divide-and-conquer on a sorted array with two pointers\n",
    "\n",
    "- Start with the whole sorted array.\n",
    "- Repeatedly look at the middle element.\n",
    "- If the middle equals the target → done, return its index.\n",
    "- If the middle is smaller → search the right half.\n",
    "- If the middle is larger → search the left half.\n",
    "- If the target isn’t found, the position where your search ends (left) is the correct insertion point."
   ]
  },
  {
   "cell_type": "markdown",
   "id": "08224d4d",
   "metadata": {},
   "source": [
    "**Time Complexity**: O(log n) — because the search space is halved at each step (binary search).\n",
    "\n",
    "**Space Complexity**: O(1) — iterative approach uses only a few pointers, no extra space needed."
   ]
  },
  {
   "cell_type": "markdown",
   "id": "c8619b73",
   "metadata": {},
   "source": [
    "| Problem              | Search Insert Position |\n",
    "|----------------------|----------------------|\n",
    "| LeetCode Problem    | 35                   |\n",
    "| Approach             | Binary search with left <= right; return index if found, else left as insert position |\n",
    "| When to apply        | When searching in a sorted array and you also need the correct insertion point |\n",
    "| Clues                | \"Sorted array\", \"insert position\", \"target may not exist\" |\n",
    "| Lessons learned      | Binary search can naturally find insertion point by returning left when target not found |\n",
    "| Hidden pattern       | Similar to classic binary search; small tweak to return left for missing elements |\n",
    "| To recognize earlier | Anytime problem asks for \"position to insert\" or \"index if exists else insert\" |\n",
    "| Signal words         | \"Insert\", \"Sorted\", \"Position\", \"Target may not exist\" |\n"
   ]
  }
 ],
 "metadata": {
  "kernelspec": {
   "display_name": "Python 3",
   "language": "python",
   "name": "python3"
  },
  "language_info": {
   "name": "python",
   "version": "3.12.3"
  }
 },
 "nbformat": 4,
 "nbformat_minor": 5
}
