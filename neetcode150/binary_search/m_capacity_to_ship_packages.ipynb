{
 "cells": [
  {
   "cell_type": "markdown",
   "id": "3e4f1cc6",
   "metadata": {},
   "source": [
    "## Capacity To Ship Packages Within D Days\n",
    "Medium\n",
    "\n",
    "A conveyor belt has packages that must be shipped from one port to another within *days* days.\n",
    "\n",
    "The ith package on the conveyor belt has a weight of weights[i]. Each day, we load the ship with packages on the conveyor belt (in the order given by weights). We may not load more weight than the maximum weight capacity of the ship.\n",
    "\n",
    "Return the least weight capacity of the ship that will result in all the packages on the conveyor belt being shipped within days days.  \n",
    "\n",
    "Example 1:  \n",
    "Input: weights = [1,2,3,4,5,6,7,8,9,10], days = 5  \n",
    "Output: 15  \n",
    "Explanation:  \n",
    "A ship capacity of 15 is the minimum to ship all the packages in 5 days like this:  \n",
    "1st day: 1, 2, 3, 4, 5  \n",
    "2nd day: 6, 7  \n",
    "3rd day: 8  \n",
    "4th day: 9  \n",
    "5th day: 10  \n",
    "\n",
    "Note that the cargo must be shipped in the order given, so using a ship of capacity 14 and splitting the packages into parts like (2, 3, 4, 5), (1, 6, 7), (8), (9), (10) is not allowed.\n",
    "\n",
    "Example 2:  \n",
    "Input: weights = [3,2,2,4,1,4], days = 3  \n",
    "Output: 6  \n",
    "Explanation:  \n",
    "A ship capacity of 6 is the minimum to ship all the packages in 3 days like this:  \n",
    "1st day: 3, 2  \n",
    "2nd day: 2, 4  \n",
    "3rd day: 1, 4  \n",
    "\n",
    "Example 3:  \n",
    "Input: weights = [1,2,3,1,1], days = 4  \n",
    "Output: 3  \n",
    "Explanation:  \n",
    "1st day: 1  \n",
    "2nd day: 2  \n",
    "3rd day: 3  \n",
    "4th day: 1, 1  \n",
    "\n",
    "Constraints:\n",
    "1 <= days <= weights.length <= 5 * 10^4  \n",
    "1 <= weights[i] <= 500  "
   ]
  },
  {
   "cell_type": "code",
   "execution_count": null,
   "id": "714cefd7",
   "metadata": {},
   "outputs": [],
   "source": [
    "class Solution:\n",
    "    def minCapacity(weights: list[int], days: int) -> int:\n",
    "        left, right = max(weights), sum(weights)\n",
    "\n",
    "        while left <= right:\n",
    "            mid = (left+right)//2\n",
    "\n",
    "            dayCount, weightSum = 1, 0\n",
    "            for weight in weights:\n",
    "                weightSum += weight\n",
    "                if weightSum > mid:\n",
    "                    dayCount += 1\n",
    "                    weightSum = weight\n",
    "\n",
    "            if dayCount <= days:\n",
    "                right = mid - 1\n",
    "            else:\n",
    "                left = mid + 1\n",
    "        \n",
    "        return left"
   ]
  },
  {
   "cell_type": "markdown",
   "id": "f03fe0b7",
   "metadata": {},
   "source": [
    "**Approach**: Binary Search\n",
    "\n",
    "- Range = [max(weights), sum(weights)].\n",
    "- Each mid = possible ship capacity.\n",
    "- Simulate how many days are needed with that capacity.\n",
    "- If days > D → capacity too small → move left up.\n",
    "- If days ≤ D → capacity works, but try smaller → move right down.\n",
    "- Finally, return left → the minimum capacity that still ships in D days."
   ]
  },
  {
   "cell_type": "markdown",
   "id": "cfc3c88b",
   "metadata": {},
   "source": [
    "**Time Complexity**: O(n log(sum(weights) - max(weights))) → \n",
    "binary search over capacity range × linear scan to count days.\n",
    "\n",
    "**Space Complexity**: O(1) → \n",
    "only a few variables used, no extra arrays."
   ]
  },
  {
   "cell_type": "markdown",
   "id": "de93cfa2",
   "metadata": {},
   "source": [
    "| Problem               | Capacity To Ship Packages Within D Days |\n",
    "|-----------------------|------------------------------------------|\n",
    "| LeetCode Problem      | 1011                                     |\n",
    "| Approach              | Binary search on ship capacity; simulate loading to count days needed |\n",
    "| When to apply         | When asked for minimum/maximum feasible value that satisfies constraints |\n",
    "| Clues                 | \"Minimum capacity\", \"Ship within D days\" |\n",
    "| Lessons learned       | Range = [max(weights), sum(weights)]; check days with mid capacity; return left; start day count at 1 to correctly account for first day |\n",
    "| Hidden pattern        | Binary search on the answer (not just array elements) |\n",
    "| To recognize earlier  | Goal is to minimize or maximize a resource under constraints |\n",
    "| Signal words          | \"Minimum capacity\", \"Within D days\", \"Least value that works\" |\n"
   ]
  }
 ],
 "metadata": {
  "kernelspec": {
   "display_name": "Python 3",
   "language": "python",
   "name": "python3"
  },
  "language_info": {
   "name": "python",
   "version": "3.12.3"
  }
 },
 "nbformat": 4,
 "nbformat_minor": 5
}
