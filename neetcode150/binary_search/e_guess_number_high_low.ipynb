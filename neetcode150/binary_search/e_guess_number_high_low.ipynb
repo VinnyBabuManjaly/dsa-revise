{
 "cells": [
  {
   "cell_type": "markdown",
   "id": "4a97ba7d",
   "metadata": {},
   "source": [
    "Guess Number Higher or Lower\n",
    "\n",
    "We are playing the Guess Game. The game is as follows:\n",
    "\n",
    "I pick a number from 1 to n. You have to guess which number I picked (the number I picked stays the same throughout the game).\n",
    "\n",
    "Every time you guess wrong, I will tell you whether the number I picked is higher or lower than your guess.\n",
    "\n",
    "You call a pre-defined API int guess(int num), which returns three possible results:\n",
    "\n",
    "-1: Your guess is higher than the number I picked (i.e. num > pick).\n",
    "1: Your guess is lower than the number I picked (i.e. num < pick).\n",
    "0: your guess is equal to the number I picked (i.e. num == pick).\n",
    "\n",
    "Return the number that I picked.\n",
    "\n",
    "Example 1:\n",
    "Input: n = 10, pick = 6\n",
    "Output: 6\n",
    "\n",
    "Example 2:\n",
    "Input: n = 1, pick = 1\n",
    "Output: 1\n",
    "\n",
    "Example 3:\n",
    "Input: n = 2, pick = 1\n",
    "Output: 1\n",
    "\n",
    "Constraints:\n",
    "1 <= n <= 2^31 - 1\n",
    "1 <= pick <= n\n"
   ]
  },
  {
   "cell_type": "code",
   "execution_count": null,
   "id": "ef55f4c3",
   "metadata": {},
   "outputs": [],
   "source": [
    "def guess(num: int) -> int:\n",
    "        # already defined internally\n",
    "        pass\n",
    "\n",
    "class Solution:\n",
    "\n",
    "    \n",
    "    def guessNumber(self, n: int) -> int:\n",
    "        left, right = 1, n\n",
    "\n",
    "        while left <= right:\n",
    "            mid = (left + right) // 2\n",
    "            guessValue = guess(mid)\n",
    "            if guessValue == 0:\n",
    "                return mid\n",
    "            elif guessValue == 1:\n",
    "                left = mid + 1\n",
    "            else:\n",
    "                right = mid - 1"
   ]
  },
  {
   "cell_type": "markdown",
   "id": "2945d70a",
   "metadata": {},
   "source": [
    "**Approach**: Binary search\n",
    "\n",
    "- Start with search space → left = 1, right = n.\n",
    "- Pick middle number → mid = (left + right) // 2.\n",
    "- Call guess(mid):\n",
    "    - If result = 0 → found the number.\n",
    "    - If result = -1 → target is smaller → move right to mid - 1.\n",
    "    - If result = 1 → target is bigger → move left to mid + 1.\n",
    "- Repeat until number is found."
   ]
  },
  {
   "cell_type": "markdown",
   "id": "fe909156",
   "metadata": {},
   "source": [
    "**Time Complexity**: O(log n) (halving range each step).\n",
    "\n",
    "**Space Complexity**: O(1)."
   ]
  },
  {
   "cell_type": "markdown",
   "id": "9e63c14a",
   "metadata": {},
   "source": [
    "| Problem                | Guess Number Higher or Lower |\n",
    "|-------------------------|-----------------------------------|\n",
    "| LeetCode Question       | 374                               |\n",
    "| Approach                | Apply binary search with feedback from `guess()` API |\n",
    "| When to apply           | When you need to find a hidden number in a range with hints (higher/lower) |\n",
    "| Clues                   | The API gives direction (-1, 1, 0) → perfect for binary search |\n",
    "| Lessons learned         | Binary search isn’t just for arrays; it works for ranges too |\n",
    "| Hidden pattern          | Shrinking search space using midpoint decisions |\n",
    "| To recognize earlier    | Whenever the problem reduces possibilities by half using feedback |\n",
    "| Signal words            | \"Guess\", \"Higher or Lower\", \"Find number in range\" |\n"
   ]
  }
 ],
 "metadata": {
  "kernelspec": {
   "display_name": "Python 3",
   "language": "python",
   "name": "python3"
  },
  "language_info": {
   "name": "python",
   "version": "3.12.3"
  }
 },
 "nbformat": 4,
 "nbformat_minor": 5
}
