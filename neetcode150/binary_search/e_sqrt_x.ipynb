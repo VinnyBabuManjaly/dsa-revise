{
 "cells": [
  {
   "cell_type": "markdown",
   "id": "a267d076",
   "metadata": {},
   "source": [
    "Sqrt(x)\n",
    "\n",
    "Given a non-negative integer x, return the square root of x rounded down to the nearest integer. The returned integer should be non-negative as well.\n",
    "\n",
    "You must not use any built-in exponent function or operator.\n",
    "\n",
    "For example, do not use pow(x, 0.5) in c++ or x ** 0.5 in python.\n",
    "\n",
    "Example 1:\n",
    "Input: x = 4\n",
    "Output: 2\n",
    "Explanation: The square root of 4 is 2, so we return 2.\n",
    "\n",
    "Example 2:\n",
    "Input: x = 8\n",
    "Output: 2\n",
    "Explanation: The square root of 8 is 2.82842..., and since we round it down to the nearest integer, 2 is returned.\n",
    "\n",
    "Constraints:\n",
    "0 <= x <= 231 - 1"
   ]
  },
  {
   "cell_type": "code",
   "execution_count": null,
   "id": "2d699757",
   "metadata": {},
   "outputs": [],
   "source": [
    "class Solution:\n",
    "    def mySqrt(x: int) -> int:\n",
    "        if x <= 1: return x\n",
    "\n",
    "        left, right = 1, x//2\n",
    "        while left <= right:\n",
    "            mid = (left + right) // 2\n",
    "            sqr = mid * mid\n",
    "            if sqr == x:\n",
    "                return mid\n",
    "            elif sqr < x:\n",
    "                left = mid + 1\n",
    "            else: \n",
    "                right = mid -1\n",
    "\n",
    "        return right    "
   ]
  },
  {
   "cell_type": "markdown",
   "id": "64c5fd4f",
   "metadata": {},
   "source": [
    "**Approach**: Binary Search\n",
    "\n",
    "- Handle small numbers(0 or 1) separately.\n",
    "- Search for the square root within a limited range 1 to x//2.\n",
    "- Repeatedly pick the middle and compare its square with the target.\n",
    "- Narrow the search based on whether the middle is too big or too small.\n",
    "- When finished, the closest integer below(which is right) or equal to the root(i.e. mid) is the answer."
   ]
  },
  {
   "cell_type": "markdown",
   "id": "2df37d27",
   "metadata": {},
   "source": [
    "**Time Complexity**: O(log x) — the search space halves each step.\n",
    "\n",
    "**Space Complexity**: O(1) — only a few pointers are used, no extra space."
   ]
  },
  {
   "cell_type": "markdown",
   "id": "c3e3cb2b",
   "metadata": {},
   "source": [
    "| Problem               | Sqrt(x) |\n",
    "|-----------------------|---------|\n",
    "| LeetCode Problem      | 69      |\n",
    "| Approach              | Binary search on possible root values; return floor if exact root not found |\n",
    "| When to apply         | When finding integer square root efficiently without using built-in functions |\n",
    "| Clues                 | \"Integer square root\", \"floor value\", \"efficient search\" |\n",
    "| Lessons learned       | Limit range to 1..x//2 for efficiency; left<=right ensures perfect squares are checked and floor value is correct |\n",
    "| Hidden pattern        | Binary search can be applied to numeric ranges, not just arrays |\n",
    "| To recognize earlier  | Problem asks for integer root or floor value; target may not exist exactly |\n",
    "| Signal words           | \"Square root\", \"Integer\", \"Floor\", \"Binary search\" |\n"
   ]
  }
 ],
 "metadata": {
  "kernelspec": {
   "display_name": "Python 3",
   "language": "python",
   "name": "python3"
  },
  "language_info": {
   "name": "python",
   "version": "3.12.3"
  }
 },
 "nbformat": 4,
 "nbformat_minor": 5
}
