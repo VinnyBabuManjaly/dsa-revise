{
 "cells": [
  {
   "cell_type": "code",
   "execution_count": null,
   "id": "cc20cb65",
   "metadata": {},
   "outputs": [],
   "source": [
    "class Solution:\n",
    "    def topK(self, nums: list[int], k: int) -> list[int]:\n",
    "        count = {}\n",
    "        buckets = [[] for _ in range(len(nums)+1)]\n",
    "\n",
    "        for num in nums:\n",
    "            count[num] = 1 + count.get(num, 0)\n",
    "        for num, freq in count.items():\n",
    "            buckets[freq].append(num)\n",
    "\n",
    "        result = []\n",
    "        for i in range(len(buckets)-1, 0, -1):\n",
    "            for number in buckets[i]:\n",
    "                result.append(number)\n",
    "                if len(result) == k:\n",
    "                    return result\n"
   ]
  },
  {
   "cell_type": "markdown",
   "id": "3d7970b3",
   "metadata": {},
   "source": [
    "Bucket sort = grouping elements into frequency bins, then reading from the most filled ones first.\n",
    "You create \"buckets\" (lists) — each bucket represents a range or specific count.\n",
    "\n",
    "You place each item into the correct bucket based on its value (like its frequency).\n",
    "\n",
    "You then collect items from the buckets starting from the fullest (or highest frequency)."
   ]
  },
  {
   "cell_type": "markdown",
   "id": "47c415ae",
   "metadata": {},
   "source": [
    "Time Complexity:\n",
    "\n",
    "Count frequencies → O(n)\n",
    "\n",
    "Build buckets → O(n)\n",
    "\n",
    "Collect top k from buckets → O(n)\n",
    "✅ Total: O(n)\n",
    "\n",
    "Space Complexity:\n",
    "\n",
    "count dict → O(n)\n",
    "\n",
    "freqList buckets → O(n)\n",
    "\n",
    "result list → O(k)\n",
    "✅ Total: O(n)"
   ]
  },
  {
   "cell_type": "markdown",
   "id": "f1f359e4",
   "metadata": {},
   "source": []
  }
 ],
 "metadata": {
  "kernelspec": {
   "display_name": "base",
   "language": "python",
   "name": "python3"
  },
  "language_info": {
   "codemirror_mode": {
    "name": "ipython",
    "version": 3
   },
   "file_extension": ".py",
   "mimetype": "text/x-python",
   "name": "python",
   "nbconvert_exporter": "python",
   "pygments_lexer": "ipython3",
   "version": "3.13.5"
  }
 },
 "nbformat": 4,
 "nbformat_minor": 5
}
