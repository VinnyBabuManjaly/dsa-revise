{
 "cells": [
  {
   "cell_type": "markdown",
   "id": "95ef9997",
   "metadata": {},
   "source": [
    "## Longest Substring Without Repeating Characters  \n",
    "Medium  \n",
    "\n",
    "Given a string s, find the length of the longest substring without duplicate characters.  \n",
    "\n",
    "Example 1:  \n",
    "Input: s = \"abcabcbb\"  \n",
    "Output: 3  \n",
    "Explanation: The answer is \"abc\", with the length of 3.  \n",
    "\n",
    "Example 2:  \n",
    "Input: s = \"bbbbb\"  \n",
    "Output: 1  \n",
    "Explanation: The answer is \"b\", with the length of 1.  \n",
    "\n",
    "Example 3:  \n",
    "Input: s = \"pwwkew\"  \n",
    "Output: 3  \n",
    "Explanation: The answer is \"wke\", with the length of 3.  \n",
    "Notice that the answer must be a substring, \"pwke\" is a subsequence and not a substring.  \n",
    "\n",
    "Constraints:  \n",
    "0 <= s.length <= 5 * 10^4  \n",
    "s consists of English letters, digits, symbols, and spaces."
   ]
  },
  {
   "cell_type": "code",
   "execution_count": null,
   "id": "07399a4a",
   "metadata": {},
   "outputs": [],
   "source": [
    "class Solution:\n",
    "    def longestSubstring(s: str) -> int:\n",
    "        start = 0\n",
    "        charMap = {}\n",
    "        maxLength = 0\n",
    "\n",
    "        for end in range(len(s)):\n",
    "            char = s[end]\n",
    "            if char in charMap and charMap[char] >= start:\n",
    "                start = charMap[char] + 1\n",
    "            charMap[char] = end\n",
    "            maxLength = max(maxLength, end-start+1)\n",
    "\n",
    "        return maxLength"
   ]
  },
  {
   "cell_type": "markdown",
   "id": "6affb548",
   "metadata": {},
   "source": [
    "**Approach**: Sliding Window + Hashmap\n",
    "\n",
    "- Keep a window over the string to track the current substring without duplicates.\n",
    "- Use a hashmap to remember the last seen index of each character.\n",
    "- Expand the window by moving the right pointer forward.\n",
    "- If a character repeats inside the window, move the left pointer just past its previous occurrence.\n",
    "- Keep updating the maximum length found so far.\n",
    "- Continue until the entire string is processed."
   ]
  },
  {
   "cell_type": "markdown",
   "id": "1c4181a0",
   "metadata": {},
   "source": [
    "**Time Complexity**: O(n)   \n",
    "Each character is processed at most twice (once when added, once when skipped).\n",
    "\n",
    "**Space Complexity**: O(min(n, charset_size))   \n",
    "Storing characters in the current window."
   ]
  },
  {
   "cell_type": "markdown",
   "id": "9f5fc0e2",
   "metadata": {},
   "source": [
    "| Problem                        | Longest Substring Without Repeating Characters                                           |\n",
    "|--------------------------------|------------------------------------------------------------------------------------------|\n",
    "| LeetCode Problem                | 3                                                                                        |\n",
    "| Approach                        | Use a sliding window with a hashmap to track last seen indices of characters and dynamically adjust window to avoid duplicates |\n",
    "| When to apply                   | When finding longest/shortest substring or subarray with unique or constrained elements |\n",
    "| Clues                           | “Longest substring without repeating characters”, uniqueness constraints, need for dynamic tracking |\n",
    "| Lessons learned                 | Sliding window + hashmap efficiently tracks elements; <br>Window can expand and shrink; update max length dynamically. <br>Extend start to the next character after the repeating character only is char occurs after start `charMap[char] >= start`. Else its outside the window  |\n",
    "| Hidden pattern                  | Problems asking for continuous segments with constraints often suit sliding window       |\n",
    "| To recognize earlier            | Look for constraints on consecutive elements or substrings and repeated elements         |\n",
    "| Signal words                     | “Longest substring”, “without repeating”, “distinct elements”, “maximum length”          |\n"
   ]
  }
 ],
 "metadata": {
  "kernelspec": {
   "display_name": "base",
   "language": "python",
   "name": "python3"
  },
  "language_info": {
   "name": "python",
   "version": "3.13.5"
  }
 },
 "nbformat": 4,
 "nbformat_minor": 5
}
