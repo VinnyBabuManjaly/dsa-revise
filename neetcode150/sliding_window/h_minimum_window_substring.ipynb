{
 "cells": [
  {
   "cell_type": "markdown",
   "id": "483a6bf0",
   "metadata": {},
   "source": [
    "## Minimum Window Substring  \n",
    "Hard  \n",
    "\n",
    "Given two strings s and t of lengths m and n respectively, return the minimum window substring of s such that every character in t (including duplicates) is included in the window. If there is no such substring, return the empty string \"\".  \n",
    "The testcases will be generated such that the answer is unique.  \n",
    "\n",
    "Example 1:  \n",
    "Input: s = \"ADOBECODEBANC\", t = \"ABC\"  \n",
    "Output: \"BANC\"  \n",
    "Explanation: The minimum window substring \"BANC\" includes 'A', 'B', and 'C' from string t.  \n",
    "\n",
    "Example 2:  \n",
    "Input: s = \"a\", t = \"a\"  \n",
    "Output: \"a\"  \n",
    "Explanation: The entire string s is the minimum window.  \n",
    "\n",
    "Example 3:  \n",
    "Input: s = \"a\", t = \"aa\"  \n",
    "Output: \"\"  \n",
    "Explanation: Both 'a's from t must be included in the window.  \n",
    "Since the largest window of s only has one 'a', return empty string.  \n",
    "\n",
    "Constraints:  \n",
    "m == s.length  \n",
    "n == t.length  \n",
    "1 <= m, n <= 105  \n",
    "s and t consist of uppercase and lowercase English letters.  \n"
   ]
  },
  {
   "cell_type": "code",
   "execution_count": null,
   "id": "1c555ed8",
   "metadata": {},
   "outputs": [],
   "source": [
    "from collections import Counter\n",
    "\n",
    "class Solution:\n",
    "    def minWindow(self, s: str, t: str) -> str:\n",
    "        targetMap = Counter(t)\n",
    "        windowMap = {}\n",
    "        matched = 0\n",
    "        minStart, minWindow = 0, float('inf')\n",
    "        left = right = 0\n",
    "\n",
    "        for right, char in enumerate(s):\n",
    "\n",
    "            if char in targetMap:\n",
    "                windowMap[char] = windowMap.get(char, 0) + 1\n",
    "                if targetMap[char] == windowMap[char]:\n",
    "                    matched += 1\n",
    "                    \n",
    "            while matched == len(targetMap):\n",
    "                if right-left+1 < minWindow:\n",
    "                    minWindow = right-left+1\n",
    "                    minStart = left\n",
    "                    \n",
    "                left_char = s[left]\n",
    "                if left_char in targetMap:\n",
    "                    windowMap[left_char] -= 1\n",
    "                    if windowMap[left_char] < targetMap[left_char]:\n",
    "                        matched -= 1\n",
    "                left += 1\n",
    "\n",
    "        return s[minStart:minStart+minWindow] if minWindow != float('inf') else \"\"\n"
   ]
  },
  {
   "cell_type": "markdown",
   "id": "9219b454",
   "metadata": {},
   "source": [
    "**Approach**: Sliding window with hashmap\n",
    "\n",
    "1. Prepare targetMap: Count the characters in t.\n",
    "2. Use sliding window:\n",
    "    - Two pointers left and right move over s.\n",
    "    - As you move right, add characters to a windowMap.\n",
    "3. Track matches:\n",
    "    - Keep a variable matched that counts how many distinct characters meet the required frequency.\n",
    "4. Shrink from left:\n",
    "    - When all t characters are covered, try to shrink from left while still satisfying the condition, updating minWindow if smaller.\n",
    "\n",
    "Essentially:\n",
    "Expand window → check if valid → shrink window while valid."
   ]
  }
 ],
 "metadata": {
  "kernelspec": {
   "display_name": "base",
   "language": "python",
   "name": "python3"
  },
  "language_info": {
   "name": "python",
   "version": "3.13.5"
  }
 },
 "nbformat": 4,
 "nbformat_minor": 5
}
