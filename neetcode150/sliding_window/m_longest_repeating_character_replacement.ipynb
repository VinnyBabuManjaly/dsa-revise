{
 "cells": [
  {
   "cell_type": "markdown",
   "id": "950f7ffc",
   "metadata": {},
   "source": [
    "## Longest Repeating Character Replacement  \n",
    "Medium  \n",
    "\n",
    "You are given a string s and an integer k. You can choose any character of the string and change it to any other uppercase English character. You can perform this operation at most k times.  \n",
    "Return the length of the longest substring containing the same letter you can get after performing the above operations.  \n",
    "\n",
    "Example 1:  \n",
    "Input: s = \"ABAB\", k = 2  \n",
    "Output: 4  \n",
    "Explanation: Replace the two 'A's with two 'B's or vice versa.  \n",
    "\n",
    "Example 2:  \n",
    "Input: s = \"AABABBA\", k = 1  \n",
    "Output: 4  \n",
    "Explanation: Replace the one 'A' in the middle with 'B' and form \"AABBBBA\".  \n",
    "The substring \"BBBB\" has the longest repeating letters, which is 4.  \n",
    "There may exists other ways to achieve this answer too.  \n",
    "\n",
    "Constraints:  \n",
    "1 <= s.length <= 105   \n",
    "s consists of only uppercase English letters.  \n",
    "0 <= k <= s.length  \n"
   ]
  },
  {
   "cell_type": "code",
   "execution_count": null,
   "id": "42b8810a",
   "metadata": {},
   "outputs": [],
   "source": [
    "class Solution:\n",
    "    def longestRepeatingChar(s:str, k:int) -> int:\n",
    "        start, maxFreq, res = 0, 0, 0\n",
    "        charMap = {}\n",
    "\n",
    "        for end in range(len(s)):\n",
    "            char = s[end]\n",
    "            charMap[char] = charMap.get(char, 0) + 1\n",
    "            maxFreq = max(maxFreq, charMap[char])\n",
    "\n",
    "            windowLen = end-start+1\n",
    "            if windowLen - maxFreq > k:\n",
    "                charMap[s[start]] -= 1 \n",
    "                start += 1\n",
    "\n",
    "            res = max(res, end - start + 1)  \n",
    "\n",
    "        return res"
   ]
  },
  {
   "cell_type": "markdown",
   "id": "2db35d8b",
   "metadata": {},
   "source": [
    "**Approach**: Sliding Window + Hashmap\n",
    "\n",
    "- Use sliding window to scan the string.\n",
    "- Keep a hashmap to count how many times each character appears inside the window.\n",
    "- Track the most frequent character count (maxFreq) seen in the current window.\n",
    "- At each step, check if we can make all characters the same with at most k replacements.\n",
    "    - If yes → expand the window.\n",
    "    - If no → shrink the window from the left.\n",
    "- Keep track of the longest valid window size during this process.\n",
    "\n",
    "Final answer = length of the largest valid window."
   ]
  },
  {
   "cell_type": "markdown",
   "id": "50350393",
   "metadata": {},
   "source": [
    "**Time Complexity**: O(n) → each character is visited at most twice (expand + shrink).\n",
    "\n",
    "**Space Complexity**: O(26) → O(1) → hashmap stores counts for at most 26 uppercase letters (constant size)."
   ]
  },
  {
   "cell_type": "markdown",
   "id": "ed59db04",
   "metadata": {},
   "source": [
    "| Problem              | Longest Repeating Character Replacement                                                                                                                          |\n",
    "| -------------------- | ---------------------------------------------------------------------------------------------------------------------------------------------------------------- |\n",
    "| LeetCode Problem     | 424                                                                                                                                                              |\n",
    "| Approach             | Use sliding window to track current substring; maintain hashmap of character counts; expand window while replacement limit not exceeded; shrink window if needed |\n",
    "| When to apply        | When looking for longest substring with allowed modifications or replacements                                                                                    |\n",
    "| Clues                | Problem allows up to k changes to make substring uniform                                                                                                         |\n",
    "| Lessons learned      | Hashmap tracks frequency of characters; max frequency helps determine when to shrink window; window adjusts dynamically                                          |\n",
    "| Hidden pattern       | Longest substring problems with constraints can often use sliding window + frequency tracking                                                                    |\n",
    "| To recognize earlier | Mentions \"replace at most k characters\" or \"longest substring after changes\"                                                                                     |\n",
    "| Signal words         | \"Longest\", \"substring\", \"replace at most k\", \"frequency\"                                                                                                         |\n"
   ]
  }
 ],
 "metadata": {
  "kernelspec": {
   "display_name": "base",
   "language": "python",
   "name": "python3"
  },
  "language_info": {
   "name": "python",
   "version": "3.13.5"
  }
 },
 "nbformat": 4,
 "nbformat_minor": 5
}
