{
 "cells": [
  {
   "cell_type": "markdown",
   "id": "1f071f75",
   "metadata": {},
   "source": [
    "## Generate Parentheses  \n",
    "\n",
    "Medium  \n",
    "\n",
    "Given n pairs of parentheses, write a function to generate all combinations of well-formed parentheses.  \n",
    "\n",
    "Example 1:  \n",
    "Input: n = 3  \n",
    "Output: [\"((()))\",\"(()())\",\"(())()\",\"()(())\",\"()()()\"]  \n",
    "\n",
    "Example 2:  \n",
    "Input: n = 1  \n",
    "Output: [\"()\"]  \n",
    "\n",
    "Constraints:  \n",
    "1 <= n <= 8  "
   ]
  },
  {
   "cell_type": "code",
   "execution_count": null,
   "id": "f7636c5c",
   "metadata": {},
   "outputs": [],
   "source": [
    "class Solution:\n",
    "    def generateParenthesis(self, n: int) -> str:\n",
    "        res = []\n",
    "        stack = []\n",
    "\n",
    "        def backtrack(opened, closed):\n",
    "            # opened = closed == n, return joined stack\n",
    "            # opened < n, add open parenthesis to stack\n",
    "            # closed < opened, add closed to stack\n",
    "\n",
    "            if opened == closed == n:\n",
    "                res.append(''.join(stack))\n",
    "                return\n",
    "\n",
    "            if opened < n:\n",
    "                stack.append('(')\n",
    "                backtrack(opened+1, closed)\n",
    "                stack.pop()\n",
    "\n",
    "            if closed < opened:\n",
    "                stack.append(')')\n",
    "                backtrack(opened, closed+1)\n",
    "                stack.pop()\n",
    "\n",
    "        \n",
    "        backtrack(opened=0, closed=0)\n",
    "        return res\n",
    "        "
   ]
  },
  {
   "cell_type": "markdown",
   "id": "f8ce0e2c",
   "metadata": {},
   "source": [
    "**Approach**: Stack for backtracking\n",
    "\n",
    "- Start with an empty list (res) to collect valid combinations and an empty stack to build strings step by step.\n",
    "- Use a helper (backtracking) function to decide at each step what to add.\n",
    "    - If the number of opened and closed parentheses both equal n → current stack forms a valid string → join and add to result.\n",
    "    - If opened < n → we can still add '(' → push '(', recurse, then pop.\n",
    "    - If closed < opened → we can safely add ')' → push ')', recurse, then pop.\n",
    "\n",
    "This process explores all valid paths while avoiding invalid ones early."
   ]
  },
  {
   "cell_type": "markdown",
   "id": "a4b8a19c",
   "metadata": {},
   "source": [
    "**Time Complexity**\n",
    "\n",
    "- The algorithm must generate all valid parentheses combinations.\n",
    "\n",
    "- The number of valid combinations for n pairs = n-th Catalan number = C_n \n",
    "\n",
    "- For each valid combination (length 2n), you spend O(n) time to build it (joining the stack at the end or pushing/popping).\n",
    "\n",
    "So total time: O(C_n * n)\n",
    "\n",
    "**Space Complexity**\n",
    "\n",
    "- Call stack depth:\n",
    "Maximum recursion depth = 2n (we add one char per step) → O(n).\n",
    "\n",
    "- Stack used to build string:\n",
    "Also up to 2n chars → O(n).\n",
    "\n",
    "- Result list:\n",
    "Stores all valid combinations. Size of result = C_n, and each string length = 2n.\n",
    "So output storage: O(C_n * n)\n",
    "\n",
    "Overall space = auxiliary O(n) (stack + recursion) + output O(C_n * n).\n"
   ]
  },
  {
   "cell_type": "markdown",
   "id": "cdce855f",
   "metadata": {},
   "source": [
    "| Problem               | Generate Parentheses (LeetCode) |\n",
    "|-----------------------|---------------------------------|\n",
    "| LeetCode Problem      | 22                              |\n",
    "| Approach              | Use backtracking to build strings step by step by adding '(' or ')' only when valid |\n",
    "| When to apply         | When all valid combinations of choices need to be generated under constraints |\n",
    "| Clues                 | The need for all **valid** combinations, with rules on counts of '(' and ')' |\n",
    "| Lessons learned       | How to prune invalid paths early and build only valid results efficiently |\n",
    "| Hidden pattern        | Catalan number sequence (number of valid parentheses strings) |\n",
    "| To recognize earlier  | If the problem says “generate all valid combinations” with constraints, think backtracking |\n",
    "| Signal words          | “All combinations”, “valid”, “generate”, “n pairs”, “balanced” |\n"
   ]
  }
 ],
 "metadata": {
  "kernelspec": {
   "display_name": "base",
   "language": "python",
   "name": "python3"
  },
  "language_info": {
   "name": "python",
   "version": "3.13.5"
  }
 },
 "nbformat": 4,
 "nbformat_minor": 5
}
