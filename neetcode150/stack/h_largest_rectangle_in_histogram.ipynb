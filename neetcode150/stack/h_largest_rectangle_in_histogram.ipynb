{
 "cells": [
  {
   "cell_type": "markdown",
   "id": "4ae3670d",
   "metadata": {},
   "source": [
    "## Largest Rectangle in Histogram\n",
    "Hard\n",
    "\n",
    "Given an array of integers heights representing the histogram's bar height where the width of each bar is 1, return the area of the largest rectangle in the histogram.  \n",
    "\n",
    "Example 1:  \n",
    "Input: heights = [2,1,5,6,2,3]  \n",
    "Output: 10  \n",
    "Explanation: The above is a histogram where width of each bar is 1.  \n",
    "The largest rectangle is shown in the red area, which has an area = 10 units.  \n",
    "\n",
    "Example 2:  \n",
    "Input: heights = [2,4]  \n",
    "Output: 4  \n",
    "\n",
    "Constraints:  \n",
    "1 <= heights.length <= 10^5  \n",
    "0 <= heights[i] <= 10^4"
   ]
  },
  {
   "cell_type": "code",
   "execution_count": null,
   "id": "b0233a70",
   "metadata": {},
   "outputs": [],
   "source": [
    "class Solution:\n",
    "    def largest(self, heights: list[int]) -> int:\n",
    "        stack = []\n",
    "        largest = 0\n",
    "        heights.append(0) # to empty stack at end\n",
    "\n",
    "        for i, h in enumerate(heights):\n",
    "            while stack and h < heights[stack[-1]]:\n",
    "                height = heights[stack.pop()]\n",
    "                width = i if not stack else(i-stack[-1]-1)\n",
    "                largest = max(largest, height*width)\n",
    "            stack.append(i)\n",
    "\n",
    "        return largest\n",
    "\n"
   ]
  },
  {
   "cell_type": "markdown",
   "id": "5756c22e",
   "metadata": {},
   "source": [
    "**Approach**: Monotonic increasing stack\n",
    "\n",
    "- Use a stack to store indices of bars in increasing height order.\n",
    "- As you move through each bar:\n",
    "    - If the current bar is taller, push its index onto the stack.\n",
    "    - When current bar height h is smaller, it means previous bar’s rectangle ended here.\n",
    "    - Pop that bar and compute area:\n",
    "        - height = popped bar’s height\n",
    "        - width = distance between current index and previous smaller bar (from stack)\n",
    "    - Keep track of maximum area.\n",
    "- Append a 0-height bar at the end to make sure all bars are processed."
   ]
  },
  {
   "cell_type": "markdown",
   "id": "8432967a",
   "metadata": {},
   "source": [
    "**Time Complexity**: O(n)   \n",
    "Each bar is pushed and popped from the stack at most once. |\n",
    "\n",
    "**Space Complexity**: O(n)  \n",
    "Stack stores indices of bars (in worst case, all bars in increasing order). |"
   ]
  },
  {
   "cell_type": "markdown",
   "id": "01794f83",
   "metadata": {},
   "source": [
    "| Problem | Largest Rectangle in Histogram |\n",
    "|----------|--------------------------------|\n",
    "| LeetCode Problem | #84 |\n",
    "| Approach | Monotonic Stack (Increasing Heights) |\n",
    "| When to Apply | When you need to find maximum area or span involving heights or boundaries |\n",
    "| Clues | Problem involves rectangles, heights, and continuous width expansion until a smaller bar appears |\n",
    "| Lessons Learned | Stack can efficiently track boundaries to calculate areas without re-scanning |\n",
    "| Hidden Pattern | Increasing sequence until a drop — triggers area calculation for previous heights. Append a 0-height bar at the end to make sure all bars are processed |\n",
    "| To Recognize Earlier | Repeated need to find “next smaller” or “previous smaller” elements |\n",
    "| Signal Words | “Largest area”, “heights”, “rectangle”, “continuous bars”, “bounded by smaller heights” |\n"
   ]
  }
 ],
 "metadata": {
  "kernelspec": {
   "display_name": "base",
   "language": "python",
   "name": "python3"
  },
  "language_info": {
   "codemirror_mode": {
    "name": "ipython",
    "version": 3
   },
   "file_extension": ".py",
   "mimetype": "text/x-python",
   "name": "python",
   "nbconvert_exporter": "python",
   "pygments_lexer": "ipython3",
   "version": "3.13.5"
  }
 },
 "nbformat": 4,
 "nbformat_minor": 5
}
