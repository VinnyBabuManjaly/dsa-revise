{
 "cells": [
  {
   "cell_type": "markdown",
   "id": "8db19c84",
   "metadata": {},
   "source": [
    "## Car Fleet\n",
    "Medium\n",
    "\n",
    "There are `n` cars at given miles away from the starting mile 0, traveling to reach the mile `target`.\n",
    "\n",
    "You are given two integer arrays `position` and `speed`, both of length `n`, where `position[i]` is the starting mile of the `i`th car and `speed[i]` is the speed of the `i`th car in miles per hour.\n",
    "\n",
    "A car cannot pass another car, but it can catch up and then travel next to it at the speed of the slower car.\n",
    "\n",
    "A car fleet is a single car or a group of cars driving next to each other. The speed of the car fleet is the minimum speed of any car in the fleet.\n",
    "\n",
    "If a car catches up to a car fleet at the mile target, it will still be considered as part of the car fleet.\n",
    "\n",
    "Return the number of car fleets that will arrive at the destination.\n",
    "\n",
    "Example 1:\n",
    "\n",
    "Input: `target = 12, position = [10,8,0,5,3], speed = [2,4,1,1,3]`\n",
    "Output: `3`\n",
    "\n",
    "Explanation:\n",
    "The cars starting at 10 (speed 2) and 8 (speed 4) become a fleet, meeting each other at 12. The fleet forms at target.\n",
    "The car starting at 0 (speed 1) does not catch up to any other car, so it is a fleet by itself.\n",
    "The cars starting at 5 (speed 1) and 3 (speed 3) become a fleet, meeting each other at 6. The fleet moves at speed 1 until it reaches target.\n",
    "\n",
    "Example 2:\n",
    "\n",
    "Input: `target = 10, position = [3], speed = [3]`\n",
    "Output: `1`\n",
    "\n",
    "Explanation:\n",
    "There is only one car, hence there is only one fleet.\n",
    "\n",
    "Example 3:\n",
    "\n",
    "Input: `target = 100, position = [0,2,4], speed = [4,2,1]`\n",
    "Output: `1`\n",
    "\n",
    "Explanation:\n",
    "The cars starting at 0 (speed 4) and 2 (speed 2) become a fleet, meeting each other at 4. The car starting at 4 (speed 1) travels to 5.\n",
    "Then, the fleet at 4 (speed 2) and the car at position 5 (speed 1) become one fleet, meeting each other at 6. The fleet moves at speed 1 until it reaches target.\n",
    "\n",
    "Constraints:\n",
    "\n",
    "`n == position.length == speed.length`\n",
    "`1 <= n <= 10^5`\n",
    "`0 < target <= 10^6`\n",
    "`0 <= position[i] < target`\n",
    "All the values of `position` are unique.\n",
    "`0 < speed[i] <= 10^6`"
   ]
  },
  {
   "cell_type": "code",
   "execution_count": 1,
   "id": "a020101f",
   "metadata": {},
   "outputs": [
    {
     "data": {
      "text/plain": [
       "3"
      ]
     },
     "execution_count": 1,
     "metadata": {},
     "output_type": "execute_result"
    }
   ],
   "source": [
    "class Solution:\n",
    "    def carFleets(self, target: int, position: list[int], speed: list[int]) -> int:\n",
    "        cars = sorted(zip(position, speed), reverse=True)\n",
    "        stack = []\n",
    "\n",
    "        for p, s in cars:\n",
    "            time = (target-p)/s\n",
    "            if not stack or time > stack[-1]:\n",
    "                stack.append(time)\n",
    "\n",
    "        return len(stack)\n",
    "    \n",
    "Solution().carFleets(target = 12, position = [10,8,0,5,3], speed = [2,4,1,1,3])"
   ]
  },
  {
   "cell_type": "markdown",
   "id": "538e3774",
   "metadata": {},
   "source": [
    "**Approach**: Sorting and stack \n",
    "\n",
    "- Pair position and speed of each car to handle them together.\n",
    "- Sort cars by position from nearest to farthest from the target (right to left).\n",
    "- Iterate through cars in that order:\n",
    "    - Calculate how long each car takes to reach the target.\n",
    "- Use a stack to track fleets:\n",
    "    - If a car takes longer than the car ahead (on top of stack), it forms a new fleet.\n",
    "    - If it takes equal or less time, it merges into the fleet ahead.\n",
    "\n",
    "Result = number of fleets = size of the stack."
   ]
  },
  {
   "cell_type": "markdown",
   "id": "c928c05a",
   "metadata": {},
   "source": [
    "**Time Complexity**: O(n log n)   \n",
    "Sorting the cars by position takes O(n log n), and the single pass to calculate fleets takes O(n).\n",
    "\n",
    "**Space Complexity**: O(n)   \n",
    "For storing sorted positions and speeds, or the stack used during fleet computation."
   ]
  },
  {
   "cell_type": "markdown",
   "id": "a6e892ab",
   "metadata": {},
   "source": [
    "| Problem              | Car Fleet                                                                                                            |\n",
    "| -------------------- | -------------------------------------------------------------------------------------------------------------------- |\n",
    "| LeetCode Problem     | 853                                                                                                                  |\n",
    "| Approach             | Sort cars by position, then iterate from the end using time = (target - position) / speed to group cars into fleets. |\n",
    "| When to apply        | When movement, catching up, or grouping based on speed and position is involved.                                     |\n",
    "| Clues                | “Cars cannot pass each other,” “catch up,” “fleet formation.”                                                        |\n",
    "| Lessons learned      | Sorting by position simplifies forward simulation; use stack logic to merge cars moving at different speeds.         |\n",
    "| Hidden pattern       | Monotonic stack tracking decreasing arrival times.                                                                   |\n",
    "| To recognize earlier | When entities move toward a target and grouping depends on speed and order.                                          |\n",
    "| Signal words         | “Target,” “speed,” “catch up,” “cannot pass.”                                                                        |\n"
   ]
  }
 ],
 "metadata": {
  "kernelspec": {
   "display_name": "base",
   "language": "python",
   "name": "python3"
  },
  "language_info": {
   "codemirror_mode": {
    "name": "ipython",
    "version": 3
   },
   "file_extension": ".py",
   "mimetype": "text/x-python",
   "name": "python",
   "nbconvert_exporter": "python",
   "pygments_lexer": "ipython3",
   "version": "3.13.5"
  }
 },
 "nbformat": 4,
 "nbformat_minor": 5
}
