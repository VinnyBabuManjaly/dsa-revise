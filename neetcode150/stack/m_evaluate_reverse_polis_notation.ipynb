{
 "cells": [
  {
   "cell_type": "markdown",
   "id": "0a3fbd4a",
   "metadata": {},
   "source": [
    "## Evaluate Reverse Polish Notation  \n",
    "\n",
    "Medium  \n",
    "\n",
    "You are given an array of strings tokens that represents an arithmetic expression in a Reverse Polish Notation.  \n",
    "\n",
    "Evaluate the expression. Return an integer that represents the value of the expression.  \n",
    "\n",
    "Note that:  \n",
    "The valid operators are '+', '-', '*', and '/'.  \n",
    "Each operand may be an integer or another expression.  \n",
    "The division between two integers always truncates toward zero.  \n",
    "There will not be any division by zero.  \n",
    "The input represents a valid arithmetic expression in a reverse polish notation.  \n",
    "The answer and all the intermediate calculations can be represented in a 32-bit integer.  \n",
    "\n",
    "Example 1:  \n",
    "Input: tokens = [\"2\",\"1\",\"+\",\"3\",\"*\"]  \n",
    "Output: 9  \n",
    "Explanation: ((2 + 1) * 3) = 9  \n",
    "\n",
    "Example 2:  \n",
    "Input: tokens = [\"4\",\"13\",\"5\",\"/\",\"+\"]  \n",
    "Output: 6  \n",
    "Explanation: (4 + (13 / 5)) = 6  \n",
    "\n",
    "Example 3:  \n",
    "Input: tokens = [\"10\",\"6\",\"9\",\"3\",\"+\",\"-11\",\"*\",\"/\",\"*\",\"17\",\"+\",\"5\",\"+\"]  \n",
    "Output: 22  \n",
    "Explanation: ((10 * (6 / ((9 + 3) * -11))) + 17) + 5  \n",
    "= ((10 * (6 / (12 * -11))) + 17) + 5  \n",
    "= ((10 * (6 / -132)) + 17) + 5  \n",
    "= ((10 * 0) + 17) + 5  \n",
    "= (0 + 17) + 5  \n",
    "= 17 + 5  \n",
    "= 22  \n",
    "\n",
    "Constraints:  \n",
    "1 <= tokens.length <= 104  \n",
    "tokens[i] is either an operator: \"+\", \"-\", \"*\", or \"/\", or an integer in the range [-200, 200].  \n"
   ]
  },
  {
   "cell_type": "code",
   "execution_count": 9,
   "id": "5e63bf7b",
   "metadata": {},
   "outputs": [
    {
     "data": {
      "text/plain": [
       "22"
      ]
     },
     "execution_count": 9,
     "metadata": {},
     "output_type": "execute_result"
    }
   ],
   "source": [
    "class Solution:\n",
    "    def evaluateRPN(self, tokens: list[str]) -> int:\n",
    "        stack = []\n",
    "\n",
    "        for token in tokens:\n",
    "            if token not in \"+-*/\":\n",
    "                stack.append(int(token))\n",
    "            else:\n",
    "                b = stack.pop()\n",
    "                a = stack.pop()\n",
    "                match token:\n",
    "                    case \"+\":\n",
    "                        stack.append(a + b)\n",
    "                    case \"-\":\n",
    "                        stack.append(a - b)\n",
    "                    case \"*\":\n",
    "                        stack.append(a * b)\n",
    "                    case \"/\":\n",
    "                        stack.append(int(a / b))\n",
    "\n",
    "        return stack[-1]\n",
    "\n",
    "tokens = [\"10\",\"6\",\"9\",\"3\",\"+\",\"-11\",\"*\",\"/\",\"*\",\"17\",\"+\",\"5\",\"+\"] \n",
    "Solution().evaluateRPN(tokens)"
   ]
  },
  {
   "cell_type": "markdown",
   "id": "36fec38b",
   "metadata": {},
   "source": [
    "**Approach**: Stack evaluation\n",
    "\n",
    "- Use a stack\n",
    "- Go through each token (number or operator) one by one.\n",
    "- Push numbers: If the token is a number, put it on top of the stack.\n",
    "- Apply operators: If the token is an operator (+ - * /):\n",
    "    - Pop the top two numbers from the stack.\n",
    "    - Perform the operation.\n",
    "    - Push the result back onto the stack.\n",
    "- After all tokens are processed, the stack has one element — the final answer."
   ]
  },
  {
   "cell_type": "markdown",
   "id": "18318d2c",
   "metadata": {},
   "source": [
    "**Time Complexity**: O(n)\t  \n",
    "Each token is processed once (push or pop + operation = constant time).   \n",
    "\n",
    "**Space Complexity**: O(n)   \n",
    "In the worst case all tokens are numbers (no operators yet), so the stack holds up to n numbers.   "
   ]
  },
  {
   "cell_type": "markdown",
   "id": "6d16fd2c",
   "metadata": {},
   "source": [
    "| Problem              | Evaluate Reverse Polish Notation |\n",
    "|----------------------|----------------------------------|\n",
    "| LeetCode Problem      | 150                            |\n",
    "| Approach              | Use a stack to push numbers and pop last two to apply operator |\n",
    "| When to apply         | When expression is given in postfix (Reverse Polish) form |\n",
    "| Clues                 | “Postfix / RPN”, “Operators after operands”, “Use stack” |\n",
    "| Lessons learned       | Stack simplifies evaluation without parentheses or precedence rules |\n",
    "| Hidden pattern        | Last-in numbers are the first to be used by the operator |\n",
    "| To recognize earlier  | Any time operators come after operands with no brackets |\n",
    "| Signal words          | “Postfix”, “RPN”, “Reverse Polish Notation” |\n"
   ]
  }
 ],
 "metadata": {
  "kernelspec": {
   "display_name": "base",
   "language": "python",
   "name": "python3"
  },
  "language_info": {
   "codemirror_mode": {
    "name": "ipython",
    "version": 3
   },
   "file_extension": ".py",
   "mimetype": "text/x-python",
   "name": "python",
   "nbconvert_exporter": "python",
   "pygments_lexer": "ipython3",
   "version": "3.13.5"
  }
 },
 "nbformat": 4,
 "nbformat_minor": 5
}
