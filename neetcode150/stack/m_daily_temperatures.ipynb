{
 "cells": [
  {
   "cell_type": "markdown",
   "id": "8551091c",
   "metadata": {},
   "source": [
    "## Daily Temperatures  \n",
    "Medium  \n",
    "\n",
    "Given an array of integers temperatures represents the daily temperatures, return an array answer such that answer[i] is the number of days you have to wait after the ith day to get a warmer temperature. If there is no future day for which this is possible, keep answer[i] == 0 instead.  \n",
    "\n",
    "Example 1:  \n",
    "Input: temperatures = [73,74,75,71,69,72,76,73]  \n",
    "Output: [1,1,4,2,1,1,0,0]  \n",
    "\n",
    "Example 2:  \n",
    "Input: temperatures = [30,40,50,60]  \n",
    "Output: [1,1,1,0]  \n",
    "\n",
    "Example 3:  \n",
    "Input: temperatures = [30,60,90]  \n",
    "Output: [1,1,0]  \n",
    "\n",
    "Constraints:  \n",
    "1 <= temperatures.length <= 105  \n",
    "30 <= temperatures[i] <= 100  \n"
   ]
  },
  {
   "cell_type": "code",
   "execution_count": null,
   "id": "54553222",
   "metadata": {},
   "outputs": [],
   "source": [
    "class Solution:\n",
    "    def dailyTemperatures(self, temperatures: list[int]) -> list[int]:\n",
    "        result = [0] * len(temperatures)\n",
    "        stack = []\n",
    "\n",
    "        for i, curr in enumerate(temperatures):\n",
    "            while stack and temperatures[stack[-1]] < curr:\n",
    "                prev = stack.pop()\n",
    "                result[prev] = i- prev\n",
    "            stack.append(i)\n",
    "\n",
    "        return result"
   ]
  },
  {
   "cell_type": "markdown",
   "id": "c48facad",
   "metadata": {},
   "source": [
    "**Approach**: Monotonic stack \n",
    "\n",
    "- Create an answer list filled with 0s (default wait days).\n",
    "- Use a stack to store indices of temperatures we haven’t yet found a warmer day for.\n",
    "- Loop through each temperature:\n",
    "    - While the stack isn’t empty and current temperature is warmer than the one at the top of the stack → pop the index and calculate the wait days.\n",
    "    - Push the current index on the stack.\n",
    "- Return the answer list."
   ]
  },
  {
   "cell_type": "markdown",
   "id": "20e506ed",
   "metadata": {},
   "source": [
    "| Problem              | Daily Temperatures                                                        |\n",
    "| -------------------- | ------------------------------------------------------------------------- |\n",
    "| LeetCode Problem     | 739                                                                       |\n",
    "| Approach             | Use a stack to track indices of temperatures waiting for warmer days      |\n",
    "| When to apply        | When you need to find “next greater” element for each index               |\n",
    "| Clues                | “Number of days until warmer”, “future element bigger than current”       |\n",
    "| Lessons learned      | Monotonic stack can solve next-greater problems efficiently               |\n",
    "| Hidden pattern       | Maintain decreasing stack to process future comparisons in O(1) amortized |\n",
    "| To recognize earlier | Look for problems asking for nearest next greater/smaller element         |\n",
    "| Signal words         | “Next”, “future”, “wait until”, “greater than”                            |\n"
   ]
  },
  {
   "cell_type": "markdown",
   "id": "b9bee0b8",
   "metadata": {},
   "source": [
    "**Time Complexity**: O(n) — each index is pushed and popped at most once.\n",
    "\n",
    "**Space Complexity**: O(n) — for the stack and the result array."
   ]
  }
 ],
 "metadata": {
  "kernelspec": {
   "display_name": "base",
   "language": "python",
   "name": "python3"
  },
  "language_info": {
   "name": "python",
   "version": "3.13.5"
  }
 },
 "nbformat": 4,
 "nbformat_minor": 5
}
