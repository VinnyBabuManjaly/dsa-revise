{
 "cells": [
  {
   "cell_type": "markdown",
   "id": "634910f4",
   "metadata": {},
   "source": [
    "Meeting Rooms \n",
    "\n",
    "Given an array of meeting time intervals where intervals[i] = [starti, endi], determine if a person could attend all meetings.\n",
    "\n",
    "\n",
    "Example 1:\n",
    "\n",
    "Input: intervals = [[0,30],[5,10],[15,20]]  \n",
    "Output: false  \n",
    "Example 2:  \n",
    "\n",
    "Input: intervals = [[7,10],[2,4]]  \n",
    "Output: true    \n",
    " \n",
    "Constraints:  \n",
    "0 <= intervals.length <= 104  \n",
    "intervals[i].length == 2    \n",
    "0 <= starti < endi <= 106  "
   ]
  },
  {
   "cell_type": "code",
   "execution_count": null,
   "id": "5f1e229c",
   "metadata": {},
   "outputs": [],
   "source": [
    "class Solution:\n",
    "    def canAttendMeeeting(self, intervals: list[list[int]]) -> bool:\n",
    "        intervals = intervals.sort()\n",
    "        \n",
    "        for i in range(1, len(intervals)):\n",
    "            if intervals[i-1][1] > intervals[i][0]:\n",
    "                return False\n",
    "            \n",
    "        return True"
   ]
  }
 ],
 "metadata": {
  "kernelspec": {
   "display_name": "Python 3",
   "language": "python",
   "name": "python3"
  },
  "language_info": {
   "name": "python",
   "version": "3.12.9"
  }
 },
 "nbformat": 4,
 "nbformat_minor": 5
}
