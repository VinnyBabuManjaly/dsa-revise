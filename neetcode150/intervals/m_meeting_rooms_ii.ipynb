{
 "cells": [
  {
   "cell_type": "markdown",
   "id": "28d01bad",
   "metadata": {},
   "source": [
    "Meeting Rooms II    \n",
    "\n",
    "Medium  \n",
    "\n",
    "Given an array of meeting time intervals intervals where intervals[i] = [starti, endi], return the minimum number of conference rooms required.  \n",
    "\n",
    "Example 1:  \n",
    "Input: intervals = [[0,30],[5,10],[15,20]]  \n",
    "Output: 2  \n",
    "\n",
    "Example 2:  \n",
    "Input: intervals = [[7,10],[2,4]]  \n",
    "Output: 1  \n",
    "  \n",
    "Constraints:  \n",
    "1 <= intervals.length <= 104  \n",
    "0 <= starti < endi <= 106  "
   ]
  },
  {
   "cell_type": "code",
   "execution_count": null,
   "id": "c5d9a4a4",
   "metadata": {},
   "outputs": [],
   "source": [
    "import heapq\n",
    "\n",
    "class Solution:\n",
    "    def minMeetingRooms(self, intervals: list[list[int]]) -> int:\n",
    "        maxmeetings = 1\n",
    "        intervals.sort() # Sorting based on start times\n",
    "        heap = [intervals[0][1]]\n",
    "        \n",
    "        for i in range(1, len(intervals)):\n",
    "            if heap[0] <= intervals[i][0]: # no overlap\n",
    "                heapq.heappop(heap)\n",
    "            heapq.heappush(heap, intervals[i][1])\n",
    "            maxmeetings = max(maxmeetings, len(heap))\n",
    "        \n",
    "        return maxmeetings\n",
    "    \n",
    "solve = Solution()\n",
    "solve.minMeetingRooms([[0,30],[5,10],[15,20]])        \n",
    "\n",
    "        \n",
    "        "
   ]
  },
  {
   "cell_type": "markdown",
   "id": "51ccb5c3",
   "metadata": {},
   "source": [
    "minimum number of rooms required is maximum number of meetings at a time\n",
    "At each step, track max number of meetings happening at a time\n",
    "\n",
    "[[9,16],[6,16],[1,9],[3,15]]\n",
    "1-9, 3-15, 6-16, 9-16\n",
    "heap=[9]\n",
    "maxm=0\n",
    "3,15    9 gt 3      ovelap      push        9,15\n",
    "6-16    9 gt 6      \"           push        9,15,16\n",
    "9-16    9 eq 9      nooverlap   popnpush    15,16,16\n",
    "maxm=3\n",
    "\n",
    "\n"
   ]
  },
  {
   "cell_type": "markdown",
   "id": "cd4c3230",
   "metadata": {},
   "source": [
    "Time:  \n",
    "Sorting intervals: O(n log n)    \n",
    "For each interval, heap push/pop: O(log n) in worst case    \n",
    "Total: O(n log n)  \n",
    "\n",
    "Space:  \n",
    "Heap stores at most n meeting end times (if all overlap).  \n",
    "So space = O(n)  "
   ]
  },
  {
   "cell_type": "markdown",
   "id": "881dc2df",
   "metadata": {},
   "source": [
    "For counting simultaneous meetings, you usually want to reason about start times vs. end times separately.\n",
    "\n",
    "If the next meeting’s start is before the earliest end so far, you need another room.\n",
    "If the next meeting’s start is after or equal to the earliest end, you can reuse a room (free one up).\n",
    "\n",
    "Data structure hint:\n",
    "Think about how to always know the earliest ending meeting efficiently while iterating. A min-heap (priority queue) is the classic tool, but you can also solve it using two sorted lists (one for starts, one for ends).\n",
    "\n",
    "Track all current active meetings’ end times (min-heap approach), or\n",
    "Separate starts and ends into two sorted lists and walk them in order.\n",
    "\n",
    "\n",
    "A heap is a data structure that lets you quickly get the smallest (or largest) element.  \n",
    "In Python, heapq is a min-heap by default → the smallest value is always at the top.  \n",
    "Operations:  \n",
    "heapq.heappush(heap, value) → add a value  \n",
    "heapq.heappop(heap) → remove and return the smallest value  \n",
    "heap[0] → peek at the smallest value  \n",
    "\n",
    "Approach:    \n",
    "Sort intervals by start time (O(n log n)).  \n",
    "Use a min-heap to track end times of ongoing meetings.  \n",
    "For each meeting:  \n",
    "    If its start ≥ the earliest end (heap[0]), pop from heap (reuse room).  \n",
    "    Push current meeting’s end time into heap.  \n",
    "The maximum heap size at any point = minimum rooms required.  "
   ]
  }
 ],
 "metadata": {
  "kernelspec": {
   "display_name": "Python 3",
   "language": "python",
   "name": "python3"
  },
  "language_info": {
   "codemirror_mode": {
    "name": "ipython",
    "version": 3
   },
   "file_extension": ".py",
   "mimetype": "text/x-python",
   "name": "python",
   "nbconvert_exporter": "python",
   "pygments_lexer": "ipython3",
   "version": "3.12.9"
  }
 },
 "nbformat": 4,
 "nbformat_minor": 5
}
