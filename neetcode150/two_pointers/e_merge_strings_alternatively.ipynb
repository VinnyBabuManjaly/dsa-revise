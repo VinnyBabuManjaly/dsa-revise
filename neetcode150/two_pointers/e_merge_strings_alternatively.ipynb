{
 "cells": [
  {
   "cell_type": "code",
   "execution_count": null,
   "id": "80810ba8",
   "metadata": {},
   "outputs": [],
   "source": [
    "# Merge Strings Alternately\n",
    "\n",
    "# You are given two strings word1 and word2. Merge the strings by adding letters in alternating order, starting with word1. If a string is longer than the other, append the additional letters onto the end of the merged string. Return the merged string.\n",
    "\n",
    "# Example 1:\n",
    "# Input: word1 = \"abc\", word2 = \"pqr\"\n",
    "# Output: \"apbqcr\"\n",
    "# Explanation: The merged string will be merged as so:\n",
    "# word1: a b c\n",
    "# word2: p q r\n",
    "# merged: a p b q c r\n",
    "\n",
    "# Example 2:\n",
    "# Input: word1 = \"ab\", word2 = \"pqrs\"\n",
    "# Output: \"apbqrs\"\n",
    "# Explanation: Notice that as word2 is longer, \"rs\" is appended to the end.\n",
    "# word1: a b\n",
    "# word2: p q r s\n",
    "# merged: a p b q r s\n",
    "\n",
    "# Example 3:\n",
    "# Input: word1 = \"abcd\", word2 = \"pq\"\n",
    "# Output: \"apbqcd\"\n",
    "# Explanation: Notice that as word1 is longer, \"cd\" is appended to the end.\n",
    "# word1: a b c d\n",
    "# word2: p q\n",
    "# merged: a p b q c d\n",
    "\n",
    "# Constraints:\n",
    "# 1 <= word1.length, word2.length <= 100\n",
    "# word1 and word2 consist of lowercase English letters."
   ]
  },
  {
   "cell_type": "code",
   "execution_count": null,
   "id": "68707b1e",
   "metadata": {},
   "outputs": [],
   "source": [
    "class Solution:\n",
    "    def mergeStringsAlternatively(self, word1: str, word2:str) -> str:\n",
    "        result = []\n",
    "        i = 0\n",
    "\n",
    "        while i < len(word1) or i < len(word2):\n",
    "            if i < len(word1):\n",
    "                result.append(word1[i])\n",
    "            if i < len(word2):\n",
    "                result.append(word2[i])\n",
    "            i += 1\n",
    "\n",
    "        return \"\".join(result)"
   ]
  },
  {
   "cell_type": "markdown",
   "id": "aaa37bdb",
   "metadata": {},
   "source": [
    "Approach: Two-Pointer Technique\n",
    "\n",
    "- Use two pointers, one for each string.\n",
    "- Add characters alternately from both strings to the result.\n",
    "- When one string ends, append the rest of the other string."
   ]
  },
  {
   "cell_type": "markdown",
   "id": "05df8d33",
   "metadata": {},
   "source": [
    "| Problem                | Merge Strings Alternately |\n",
    "|------------------------|---------------------------|\n",
    "| LeetCode Question      | 1768                      |\n",
    "| Approach               | Two pointers, append alternately, then add leftover |\n",
    "| When to apply          | When merging sequences element by element |\n",
    "| Clues                  | \"Merge\", \"alternating order\", \"append extra at end\" |\n",
    "| Lessons learned        | Strings are immutable; repeated concatenation is not optimal, use list + join |\n",
    "| Hidden pattern         | Alternate merge until one ends, then add remainder |\n",
    "| To recognize earlier   | If asked to combine two lists/strings in alternating fashion |\n",
    "| Signal words           | \"Alternately\", \"merge\", \"append remainder\" |\n"
   ]
  },
  {
   "cell_type": "markdown",
   "id": "a9f0ae8d",
   "metadata": {},
   "source": [
    "Time complexity: O(m + n) \n",
    "Length of both strings combined.\n",
    "\n",
    "Space complexity: O(1) \n",
    "Ignoring output."
   ]
  }
 ],
 "metadata": {
  "language_info": {
   "name": "python"
  }
 },
 "nbformat": 4,
 "nbformat_minor": 5
}
