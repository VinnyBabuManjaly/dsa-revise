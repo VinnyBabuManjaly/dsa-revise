{
 "cells": [
  {
   "cell_type": "markdown",
   "id": "606dbc32",
   "metadata": {},
   "source": [
    "Two Sum II – Input Array Is Sorted\n",
    "\n",
    "Given a 1-indexed array of integers numbers that is already sorted in non-decreasing order, find two numbers such that they add up to a specific target number.\n",
    "\n",
    "Let these two numbers be numbers[index1] and numbers[index2] where 1 <= index1 < index2 <= numbers.length.\n",
    "\n",
    "Return the indices of the two numbers as an array [index1, index2] of length 2.\n",
    "You may not use the same element twice.\n",
    "The solution must use only constant extra space.\n",
    "\n",
    "Examples\n",
    "\n",
    "Input: numbers = [2,7,11,15], target = 9\n",
    "Output: [1,2]\n",
    "Explanation: 2 + 7 = 9, so index1 = 1, index2 = 2.\n",
    "\n",
    "Input: numbers = [2,3,4], target = 6\n",
    "Output: [1,3]\n",
    "Explanation: 2 + 4 = 6, so index1 = 1, index2 = 3.\n",
    "\n",
    "Input: numbers = [-1,0], target = -1\n",
    "Output: [1,2]\n",
    "Explanation: -1 + 0 = -1, so index1 = 1, index2 = 2.\n",
    "\n",
    "Constraints\n",
    "2 <= numbers.length <= 3 × 10⁴\n",
    "-1000 <= numbers[i] <= 1000\n",
    "numbers is sorted in non-decreasing order\n",
    "-1000 <= target <= 1000\n",
    "Exactly one solution exists"
   ]
  },
  {
   "cell_type": "code",
   "execution_count": null,
   "id": "abdd0486",
   "metadata": {},
   "outputs": [],
   "source": [
    "class Solution:\n",
    "    def twoSum(self, numbers: list[int], target: int) -> list[int]:\n",
    "        left, right = 0, len(numbers) - 1\n",
    "        \n",
    "        while left < right:\n",
    "            if (numbers[left] + numbers[right]) == target:\n",
    "                return [left + 1, right + 1]\n",
    "            elif numbers[left] + numbers[right] < target:\n",
    "                left += 1\n",
    "            else:\n",
    "                right -= 1\n",
    "        \n",
    "        return []"
   ]
  },
  {
   "cell_type": "code",
   "execution_count": null,
   "id": "6e83ad9f",
   "metadata": {},
   "outputs": [],
   "source": [
    "# Approach: Two pointers from both ends, shrink window until sum found.\n",
    "# Time: O(n)\n",
    "# Space: O(1)"
   ]
  },
  {
   "cell_type": "code",
   "execution_count": null,
   "id": "b6eba47f",
   "metadata": {},
   "outputs": [],
   "source": [
    "# The Approach (Two-Pointer Technique)\n",
    "\n",
    "# The input array numbers is already sorted.\n",
    "\n",
    "# We keep two pointers:\n",
    "    # left starts at the beginning (smallest number).\n",
    "    # right starts at the end (largest number).\n",
    "\n",
    "# We check the sum of these two numbers:\n",
    "    # If the sum equals the target → we found the answer.\n",
    "    # If the sum is too small → move left one step right (to get a bigger number).\n",
    "    # If the sum is too large → move right one step left (to get a smaller number).\n",
    "    \n",
    "# Repeat until left < right.\n",
    "\n",
    "# Because the array is sorted, this strategy guarantees that we either find the two numbers or exhaust the search."
   ]
  },
  {
   "cell_type": "code",
   "execution_count": null,
   "id": "1da339ac",
   "metadata": {},
   "outputs": [],
   "source": [
    "# Time Complexity\n",
    "# Each step moves either left forward or right backward.\n",
    "# That means we will check at most n pairs (where n is the length of the array).\n",
    "# So the running time is O(n).\n",
    "\n",
    "# Space Complexity\n",
    "# We only use two extra variables (left and right pointers).\n",
    "# That means O(1) space (constant space, independent of input size)."
   ]
  }
 ],
 "metadata": {
  "kernelspec": {
   "display_name": "Python 3",
   "language": "python",
   "name": "python3"
  },
  "language_info": {
   "name": "python",
   "version": "3.12.9"
  }
 },
 "nbformat": 4,
 "nbformat_minor": 5
}
