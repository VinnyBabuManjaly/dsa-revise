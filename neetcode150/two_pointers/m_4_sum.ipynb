{
 "cells": [
  {
   "cell_type": "code",
   "execution_count": null,
   "id": "e6cddfe7",
   "metadata": {},
   "outputs": [],
   "source": [
    "# 4Sum\n",
    "# Given an array nums of n integers, return an array of all the unique quadruplets [\n",
    "# nums[a], nums[b], nums[c], nums[d]] such that:\n",
    "\n",
    "# 0 <= a, b, c, d < n\n",
    "# a, b, c, and d are distinct.\n",
    "# nums[a] + nums[b] + nums[c] + nums[d] == target\n",
    "# You may return the answer in any order.\n",
    "\n",
    "# Example 1:\n",
    "# Input: nums = [1,0,-1,0,-2,2], target = 0\n",
    "# Output: [[-2,-1,1,2],[-2,0,0,2],[-1,0,0,1]]\n",
    "\n",
    "# Example 2:\n",
    "# Input: nums = [2,2,2,2,2], target = 8\n",
    "# Output: [[2,2,2,2]]\n",
    "\n",
    "# Constraints:\n",
    "# 1 <= nums.length <= 200\n",
    "# -109 <= nums[i] <= 109\n",
    "# -109 <= target <= 109"
   ]
  },
  {
   "cell_type": "code",
   "execution_count": null,
   "id": "8cf3ac02",
   "metadata": {},
   "outputs": [],
   "source": [
    "class Solution: \n",
    "    def fourSum(nums: list[int], target: int) -> list[list[int]]:\n",
    "        nums.sort()\n",
    "\n",
    "        result = []\n",
    "        i = 0\n",
    "        for i in range(len(nums)):\n",
    "            if i > 0 and nums[i] == nums[i-1]:\n",
    "                continue\n",
    "            for j in range(i+1, len(nums)-2):\n",
    "                if j > i+1 and nums[j] == nums[j-1]:\n",
    "                    continue\n",
    "                left = j + 1\n",
    "                right = len(nums) - 1\n",
    "\n",
    "                while left < right:\n",
    "                    sum = nums[i] + nums[j] + nums[left] + nums[right]\n",
    "                    if sum == target:\n",
    "                        result.append([nums[i], nums[j], nums[left], nums[right]])\n",
    "                        while left < right and nums[left] == nums[left+1]:\n",
    "                            left += 1\n",
    "                        while left < right and nums[right] == nums[right-1]:\n",
    "                            right -= 1\n",
    "                        left += 1\n",
    "                        right -= 1\n",
    "                    elif sum < target:\n",
    "                        left += 1\n",
    "                    else: \n",
    "                        right -= 1\n",
    "            \n",
    "        return result"
   ]
  },
  {
   "cell_type": "markdown",
   "id": "458e517b",
   "metadata": {},
   "source": [
    "4-sum is an extension of 3-sum where i and j are fixed, and you then run a two-pointer search for the remaining two.\n",
    "\n",
    "Approach: Two pointer strategy\n",
    "- First, sort the array so duplicates can be handled and two-pointer can be applied.\n",
    "- Fix the first element (i) and skip if it’s the same as the previous to avoid duplicates.\n",
    "- Fix the second element (j) (nested loop) and also skip duplicates.\n",
    "- Use two pointers (left and right) to find pairs that complete the quadruplet.\n",
    "- If the sum matches target → record quadruplet, then move pointers while skipping duplicates.\n",
    "- If the sum is too small → move left forward; if too big → move right backward."
   ]
  },
  {
   "cell_type": "markdown",
   "id": "d56de538",
   "metadata": {},
   "source": [
    "Complexity:\n",
    "\n",
    "Time → O(n³) (outer i, inner j, two-pointer).\n",
    "\n",
    "Space → O(1) extra (ignoring output)."
   ]
  },
  {
   "cell_type": "markdown",
   "id": "8394da62",
   "metadata": {},
   "source": [
    "| Problem              | 4Sum |\n",
    "|-----------------------|------|\n",
    "| LeetCode Question     | Yes  |\n",
    "| Approach              | Sort + fix two numbers + two-pointer for the rest |\n",
    "| When to apply         | When finding quadruplets (or k-sum variants) that meet a target |\n",
    "| Clues                 | \"Find all unique quadruplets\", \"sorted + skip duplicates\" |\n",
    "| Lessons learned       | Sorting before handling; Second element also looped and duplicates skipped as for first |\n",
    "| Hidden pattern        | Extension of 2Sum → 3Sum → 4Sum (general k-sum pattern) |\n",
    "| To recognize earlier  | When problem asks for unique combinations that sum to a target |\n",
    "| Signal words          | \"Unique quadruplets\", \"sorted\", \"target sum\" |"
   ]
  }
 ],
 "metadata": {
  "kernelspec": {
   "display_name": "Python 3",
   "language": "python",
   "name": "python3"
  },
  "language_info": {
   "name": "python",
   "version": "3.12.3"
  }
 },
 "nbformat": 4,
 "nbformat_minor": 5
}
