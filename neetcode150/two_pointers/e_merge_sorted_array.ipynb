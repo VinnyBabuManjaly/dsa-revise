{
 "cells": [
  {
   "cell_type": "markdown",
   "id": "0fde68b5",
   "metadata": {},
   "source": [
    "# Merge Sorted Array\n",
    "\n",
    "You are given two integer arrays nums1 and nums2, sorted in non-decreasing order, and two integers m and n, representing the number of elements in nums1 and nums2 respectively.  \n",
    "The task is to merge nums1 and nums2 into a single array sorted in non-decreasing order.  \n",
    "\n",
    "The final sorted array should not be returned by the function, but instead stored inside nums1. To make this possible, nums1 has a length of m + n, where the first m elements are the actual values to be merged, and the last n elements are set to 0 and should be ignored. nums2 has a length of n.  \n",
    "\n",
    "Example 1:  \n",
    "Input: nums1 = [1,2,3,0,0,0], m = 3, nums2 = [2,5,6], n = 3  \n",
    "Output: [1,2,2,3,5,6] \n",
    "Explanation: The arrays being merged are [1,2,3] and [2,5,6]. The result of merging is [1,2,2,3,5,6].  \n",
    "\n",
    "Example 2:\n",
    "Input: nums1 = [1], m = 1, nums2 = [], n = 0  \n",
    "Output: [1]  \n",
    "Explanation: The arrays being merged are [1] and []. The result of merging is [1].  \n",
    "\n",
    "Example 3:  \n",
    "Input: nums1 = [0], m = 0, nums2 = [1], n = 1  \n",
    "Output: [1]  \n",
    "Explanation: The arrays being merged are [] and [1]. The result of merging is [1]. Since m = 0, nums1 initially has no valid elements. The 0 is only there as a placeholder to fit the merged result.  \n",
    "\n",
    "Constraints:  \n",
    "nums1.length == m + n  \n",
    "nums2.length == n  \n",
    "0 <= m, n <= 200  \n",
    "1 <= m + n <= 200  \n",
    "-10^9 <= nums1[i], nums2[j] <= 10^9  "
   ]
  },
  {
   "cell_type": "code",
   "execution_count": null,
   "id": "e2074a51",
   "metadata": {},
   "outputs": [],
   "source": [
    "class Solution:\n",
    "    def mergeArrays(nums1: list[int], nums2: list[int], m: int,n :int) -> None:\n",
    "        read1, read2 = m-1, n-1\n",
    "        write = m+n-1\n",
    "\n",
    "        while read1 >= 0 and read2 >= 0 and write >= 0:\n",
    "            if nums1[read1] > nums2[read2]:\n",
    "                nums1[write] = nums1[read1]\n",
    "                read1 -= 1\n",
    "            else:\n",
    "                nums1[write] = nums2[read2]\n",
    "                read2 -= 1\n",
    "            write -= 1\n",
    "\n",
    "        while read2 >= 0 and write >= 0:\n",
    "            nums1[write] = nums2[read2]\n",
    "            read2 -= 1\n",
    "            write -= 1"
   ]
  },
  {
   "cell_type": "markdown",
   "id": "a84b1cbf",
   "metadata": {},
   "source": [
    "Approach: Two-Pointer Technique\n",
    "\n",
    "- Start filling from the end of nums1 (using write pointer).\n",
    "- Compare the last valid elements of nums1 and nums2 (read1, read2).\n",
    "- Place the larger one at write.\n",
    "- Decrement pointers accordingly.\n",
    "- After finishing, if any elements remain in nums2, copy them into nums1."
   ]
  },
  {
   "cell_type": "markdown",
   "id": "f0764f04",
   "metadata": {},
   "source": [
    "| Problem               | Merge Sorted Array |\n",
    "|------------------------|--------------------|\n",
    "| LeetCode Question      | #88 |\n",
    "| Approach               | Two pointers from the end, fill nums1 in-place from largest to smallest |\n",
    "| When to apply          | Merging two sorted arrays where one has extra buffer space |\n",
    "| Clues                  | nums1 has length m + n with trailing zeros, arrays already sorted |\n",
    "| Lessons learned        | Work backwards to avoid overwriting, O(m+n) time and O(1) space |\n",
    "| Hidden pattern         | Reverse filling with multiple pointers |\n",
    "| To recognize earlier   | Keywords: sorted arrays + extra buffer + merge |\n",
    "| Signal words           | \"in-place\", \"sorted\", \"merge into nums1\" |\n"
   ]
  },
  {
   "cell_type": "markdown",
   "id": "14dec993",
   "metadata": {},
   "source": [
    "Time Complexity: O(m + n)  \n",
    "Runs in O(m + n) time — every element is looked at once.\n",
    "\n",
    "Space Complexity: O(1)  \n",
    "Uses O(1) extra space."
   ]
  }
 ],
 "metadata": {
  "language_info": {
   "name": "python"
  }
 },
 "nbformat": 4,
 "nbformat_minor": 5
}
