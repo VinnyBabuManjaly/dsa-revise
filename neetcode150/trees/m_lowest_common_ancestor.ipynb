{
 "cells": [
  {
   "cell_type": "markdown",
   "id": "efaed4fd",
   "metadata": {},
   "source": [
    "## [Lowest Common Ancestor of a Binary Search Tree](https://leetcode.com/problems/lowest-common-ancestor-of-a-binary-search-tree/description/)  \n",
    "\n",
    "Medium  \n",
    "\n",
    "Given a binary search tree (BST), find the lowest common ancestor (LCA) node of two given nodes in the BST.  \n",
    "\n",
    "According to the definition of LCA on Wikipedia: “The lowest common ancestor is defined between two nodes p and q as the lowest node in T that has both p and q as descendants (where we allow a node to be a descendant of itself).”  \n",
    "\n",
    "Example 1:  \n",
    "\n",
    "Input: root = [6,2,8,0,4,7,9,null,null,3,5], p = 2, q = 8  \n",
    "Output: 6  \n",
    "Explanation: The LCA of nodes 2 and 8 is 6.  \n",
    "\n",
    "Example 2:  \n",
    "\n",
    "Input: root = [6,2,8,0,4,7,9,null,null,3,5], p = 2, q = 4  \n",
    "Output: 2  \n",
    "Explanation: The LCA of nodes 2 and 4 is 2, since a node can be a descendant of itself according to the LCA definition.  \n",
    "\n",
    "Example 3:  \n",
    "\n",
    "Input: root = [2,1], p = 2, q = 1  \n",
    "Output: 2  \n",
    "\n",
    "Constraints:  \n",
    "\n",
    "The number of nodes in the tree is in the range [2, 105].  \n",
    "-109 <= Node.val <= 109  \n",
    "All Node.val are unique.  \n",
    "p != q  \n",
    "p and q will exist in the BST.  \n"
   ]
  },
  {
   "cell_type": "code",
   "execution_count": null,
   "id": "2a21bb7b",
   "metadata": {},
   "outputs": [],
   "source": [
    "class TreeNode:\n",
    "    def __init__(self, x):\n",
    "        self.val = x\n",
    "        self.left = None\n",
    "        self.right = None\n",
    "\n",
    "class Solution:\n",
    "    def lowestCommonAncestor(self, root: 'TreeNode', p: 'TreeNode', q: 'TreeNode') -> 'TreeNode':\n",
    "        if not root:\n",
    "            return None\n",
    "\n",
    "        if p.val < root.val and q.val < root.val:\n",
    "            return self.lowestCommonAncestor(root.left, p, q)\n",
    "        elif p.val > root.val and q.val > root.val:\n",
    "            return self.lowestCommonAncestor(root.right, p, q)\n",
    "        else:\n",
    "            return root"
   ]
  },
  {
   "cell_type": "markdown",
   "id": "0c9d1d24",
   "metadata": {},
   "source": [
    "**Hint**:\n",
    "Use the BST property — values in the left subtree are smaller, and values in the right subtree are larger.\n",
    "\n",
    "- If both `p` and `q` are smaller than the current node → move left.\n",
    "- If both are larger → move right.\n",
    "- Otherwise, the current node is the lowest common ancestor.\n"
   ]
  },
  {
   "cell_type": "markdown",
   "id": "92b3a435",
   "metadata": {},
   "source": [
    "**Approach**: BST Property + Recursive Search\n",
    "\n",
    "Main Logic (in simple points):\n",
    "\n",
    "1. Start from the root node.\n",
    "2. If both `p` and `q` values are smaller than the root’s value → move to the left subtree.\n",
    "3. If both `p` and `q` values are greater than the root’s value → move to the right subtree.\n",
    "4. Otherwise (i.e., one on each side or one equals the root) → current node is the lowest common ancestor.\n",
    "\n",
    "Key Idea:\n",
    "Use the **BST property** — left < root < right — to narrow down the search efficiently until you find the split point where `p` and `q` diverge. That split node is their LCA."
   ]
  },
  {
   "cell_type": "markdown",
   "id": "c3d992f0",
   "metadata": {},
   "source": [
    "**Time Complexity**: O(h)   \n",
    "In the worst case, we may traverse down the height of the BST until finding the LCA.\n",
    "\n",
    "**Space Complexity**: O(h)   \n",
    "Recursive call stack depth proportional to the height of the tree."
   ]
  },
  {
   "cell_type": "markdown",
   "id": "9b7e5fa5",
   "metadata": {},
   "source": [
    "| Problem                  | Lowest Common Ancestor of a Binary Search Tree                  |\n",
    "| ------------------------ | --------------------------------------------------------------- |\n",
    "| **LeetCode Problem**     | 235                                                             |\n",
    "| **Approach**             | DFS (Pre-Order) Recursive Comparison using BST properties       |\n",
    "| **When to apply**        | When given a BST and asked to find a node common to two values  |\n",
    "| **Clues**                | “BST” + “Lowest Common Ancestor” → use value-based traversal    |\n",
    "| **Lessons learned**      | BST property helps avoid exploring all nodes — efficient search |\n",
    "| **Hidden pattern**       | Compare `p` and `q` with `root.val` to decide direction         |\n",
    "| **To recognize earlier** | Both values on same side → go that direction; else root is LCA  |\n",
    "| **Signal words**         | “Binary Search Tree”, “ancestor”, “common”, “lowest”            |\n"
   ]
  }
 ],
 "metadata": {
  "kernelspec": {
   "display_name": "base",
   "language": "python",
   "name": "python3"
  },
  "language_info": {
   "name": "python",
   "version": "3.13.5"
  }
 },
 "nbformat": 4,
 "nbformat_minor": 5
}
