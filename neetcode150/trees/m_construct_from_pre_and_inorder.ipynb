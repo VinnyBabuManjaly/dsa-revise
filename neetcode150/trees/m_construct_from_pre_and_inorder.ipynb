{
 "cells": [
  {
   "cell_type": "markdown",
   "id": "a3db7983",
   "metadata": {},
   "source": [
    "## [Construct Binary Tree from Preorder and Inorder Traversal](https://leetcode.com/problems/construct-binary-tree-from-preorder-and-inorder-traversal/description/)  \n",
    "\n",
    "Medium    \n",
    "\n",
    "Given two integer arrays preorder and inorder where preorder is the preorder traversal of a binary tree and inorder is the inorder traversal of the same tree, construct and return the binary tree.   \n",
    "\n",
    "Example 1:   \n",
    "Input: preorder = [3,9,20,15,7], inorder = [9,3,15,20,7]    \n",
    "Output: [3,9,20,null,null,15,7]   \n",
    "\n",
    "Example 2:   \n",
    "Input: preorder = [-1], inorder = [-1]    \n",
    "Output: [-1]\n",
    "\n",
    "Constraints:  \n",
    "1 <= preorder.length <= 3000    \n",
    "inorder.length == preorder.length  \n",
    "-3000 <= preorder[i], inorder[i] <= 3000  \n",
    "preorder and inorder consist of unique values.  \n",
    "Each value of inorder also appears in preorder.  \n",
    "preorder is guaranteed to be the preorder traversal of the tree.  \n",
    "inorder is guaranteed to be the inorder traversal of the tree.\n"
   ]
  },
  {
   "cell_type": "code",
   "execution_count": null,
   "id": "0aeb9b9e",
   "metadata": {},
   "outputs": [],
   "source": [
    "from typing import Optional\n",
    "\n",
    "class TreeNode:\n",
    "    def __init__(self, val=0, left=None, right=None):\n",
    "        self.val = val\n",
    "        self.left = left\n",
    "        self.right = right\n",
    "\n",
    "class Solution:\n",
    "    def buildTree(self, preorder: list[int], inorder: list[int]) -> Optional[TreeNode]:\n",
    "        "
   ]
  }
 ],
 "metadata": {
  "kernelspec": {
   "display_name": "base",
   "language": "python",
   "name": "python3"
  },
  "language_info": {
   "name": "python",
   "version": "3.13.5"
  }
 },
 "nbformat": 4,
 "nbformat_minor": 5
}
