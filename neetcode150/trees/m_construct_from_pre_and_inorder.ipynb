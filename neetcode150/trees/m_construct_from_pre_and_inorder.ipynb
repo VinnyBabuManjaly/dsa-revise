{
 "cells": [
  {
   "cell_type": "markdown",
   "id": "a3db7983",
   "metadata": {},
   "source": [
    "## [Construct Binary Tree from Preorder and Inorder Traversal](https://leetcode.com/problems/construct-binary-tree-from-preorder-and-inorder-traversal/description/)  \n",
    "\n",
    "Medium    \n",
    "\n",
    "Given two integer arrays preorder and inorder where preorder is the preorder traversal of a binary tree and inorder is the inorder traversal of the same tree, construct and return the binary tree.   \n",
    "\n",
    "Example 1:   \n",
    "Input: preorder = [3,9,20,15,7], inorder = [9,3,15,20,7]    \n",
    "Output: [3,9,20,null,null,15,7]   \n",
    "\n",
    "Example 2:   \n",
    "Input: preorder = [-1], inorder = [-1]    \n",
    "Output: [-1]\n",
    "\n",
    "Constraints:  \n",
    "1 <= preorder.length <= 3000    \n",
    "inorder.length == preorder.length  \n",
    "-3000 <= preorder[i], inorder[i] <= 3000  \n",
    "preorder and inorder consist of unique values.  \n",
    "Each value of inorder also appears in preorder.  \n",
    "preorder is guaranteed to be the preorder traversal of the tree.  \n",
    "inorder is guaranteed to be the inorder traversal of the tree.\n"
   ]
  },
  {
   "cell_type": "code",
   "execution_count": null,
   "id": "0aeb9b9e",
   "metadata": {},
   "outputs": [],
   "source": [
    "from typing import Optional\n",
    "\n",
    "class TreeNode:\n",
    "    def __init__(self, val=0, left=None, right=None):\n",
    "        self.val = val\n",
    "        self.left = left\n",
    "        self.right = right\n",
    "\n",
    "class Solution:\n",
    "    def buildTree(self, preorder: list[int], inorder: list[int]) -> Optional[TreeNode]:\n",
    "        inorderMap = {val:index for index, val in enumerate(inorder)}\n",
    "        self.preorderIndex = 0  # track the current root in preorder\n",
    "            \n",
    "        def helper(left, right):\n",
    "            if left > right:\n",
    "                return None\n",
    "\n",
    "            rootval= preorder[self.preorderIndex]\n",
    "            rootindex = inorderMap[rootval]\n",
    "            self.preorderIndex += 1\n",
    "\n",
    "            root = TreeNode(val=rootval)\n",
    "            root.left = helper(left, rootindex-1)\n",
    "            root.right = helper(rootindex+1, right)\n",
    "\n",
    "            return root\n",
    "\n",
    "        return helper(0, len(inorder)-1)"
   ]
  },
  {
   "cell_type": "markdown",
   "id": "84475259",
   "metadata": {},
   "source": [
    "**Hint**:  \n",
    "- Use the first element in preorder as the root.  \n",
    "- Find that root’s position in inorder to split the tree into left and right subtrees.\n",
    "- Then recursively build the left and right parts using the corresponding preorder segments."
   ]
  },
  {
   "cell_type": "markdown",
   "id": "596163af",
   "metadata": {},
   "source": [
    "**Approach**: DFS (Recursive Tree Building using Preorder + Inorder)\n",
    "\n",
    "Main Logic (in simple words):\n",
    "- The first value in preorder is the root.\n",
    "- Use inorder index to find where that root is in the inorder list.\n",
    "- Everything left of that root in inorder = left subtree, right side = right subtree.\n",
    "- Recursively repeat for left and right ranges.\n",
    "- The preorder pointer (self.preorderIndex) moves forward automatically to pick the next root in sequence.\n",
    "\n",
    "Key Idea:\n",
    "- Preorder gives you the root order (root → left → right).\n",
    "- Inorder gives you the structure (left → root → right).\n",
    "- So each time, you take the next preorder element as the root and find its position in the inorder array to split into left and right subtrees."
   ]
  },
  {
   "cell_type": "markdown",
   "id": "6f5ad1d4",
   "metadata": {},
   "source": [
    "**Time Complexity**: O(n)  \n",
    "Each node is processed once, and inorder lookups are O(1) via the hashmap.\n",
    "\n",
    "**Space Complexity**: O(n)  \n",
    "For the recursion stack (O(h)) + hashmap (O(n))."
   ]
  },
  {
   "cell_type": "markdown",
   "id": "a5f06293",
   "metadata": {},
   "source": [
    "| Problem              | Construct Binary Tree from Preorder and Inorder Traversal                                                                 |\n",
    "| -------------------- | ------------------------------------------------------------------------------------------------------------------------- |\n",
    "| LeetCode Problem     | 105                                                                                                                       |\n",
    "| Approach             | Use recursion with preorder index tracking and inorder index mapping to identify root and subtree boundaries efficiently. |\n",
    "| When to apply        | When you need to reconstruct a binary tree from traversal orders (preorder + inorder or inorder + postorder).             |\n",
    "| Clues                | \"Given preorder and inorder traversals\" → always points to a tree reconstruction problem.                                 |\n",
    "| Lessons learned      | Traversal order determines the sequence of roots and subtrees; using a hashmap avoids O(n²) lookups.                      |\n",
    "| Hidden pattern       | Divide-and-conquer recursion on traversal segments (root → left subtree → right subtree).                                 |\n",
    "| To recognize earlier | The problem structure clearly involves relationships between traversal orders; think recursion immediately.               |\n",
    "| Signal words         | \"preorder\", \"inorder\", \"construct\", \"binary tree\"                                                                         |\n"
   ]
  }
 ],
 "metadata": {
  "kernelspec": {
   "display_name": "base",
   "language": "python",
   "name": "python3"
  },
  "language_info": {
   "name": "python",
   "version": "3.13.5"
  }
 },
 "nbformat": 4,
 "nbformat_minor": 5
}
