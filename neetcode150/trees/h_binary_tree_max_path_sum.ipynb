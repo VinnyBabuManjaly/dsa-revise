{
 "cells": [
  {
   "cell_type": "markdown",
   "id": "b64c62d9",
   "metadata": {},
   "source": [
    "## [Binary Tree Maximum Path Sum](https://leetcode.com/problems/binary-tree-maximum-path-sum/description/)  \n",
    "\n",
    "Hard  \n",
    "\n",
    "A path in a binary tree is a sequence of nodes where each pair of adjacent nodes in the sequence has an edge connecting them. A node can only appear in the sequence at most once. Note that the path does not need to pass through the root.\n",
    "\n",
    "The path sum of a path is the sum of the node's values in the path.\n",
    "\n",
    "Given the root of a binary tree, return the maximum path sum of any non-empty path.\n",
    "\n",
    "Example 1:\n",
    "Input: root = [1,2,3]  \n",
    "Output: 6  \n",
    "Explanation: The optimal path is 2 -> 1 -> 3 with a path sum of 2 + 1 + 3 = 6.\n",
    "\n",
    "Example 2:\n",
    "Input: root = [-10,9,20,null,null,15,7]  \n",
    "Output: 42  \n",
    "Explanation: The optimal path is 15 -> 20 -> 7 with a path sum of 15 + 20 + 7 = 42.\n",
    "\n",
    "Constraints:\n",
    "The number of nodes in the tree is in the range [1, 3 * 10^4].  \n",
    "-1000 <= Node.val <= 1000"
   ]
  },
  {
   "cell_type": "code",
   "execution_count": 1,
   "id": "4cd30481",
   "metadata": {},
   "outputs": [],
   "source": [
    "from typing import Optional\n",
    "\n",
    "class TreeNode:\n",
    "    def __init__(self, val=0, left=None, right=None):\n",
    "        self.val = val\n",
    "        self.left = left\n",
    "        self.right = right\n",
    "\n",
    "class Solution:\n",
    "    def maxPathSum(self, root: Optional[TreeNode]) -> int:\n",
    "        self.maxSum = float('-inf')\n",
    "\n",
    "        def dfs(node):\n",
    "            if not node:\n",
    "                return 0\n",
    "\n",
    "            left = max(dfs(node.left), 0)\n",
    "            right = max(dfs(node.right), 0)\n",
    "\n",
    "            currentSum = (left+right+node.val)\n",
    "            self.maxSum = max(self.maxSum, currentSum)\n",
    "            return node.val + max(left, right)\n",
    "\n",
    "        dfs(root)\n",
    "        return self.maxSum     "
   ]
  },
  {
   "cell_type": "markdown",
   "id": "221335b3",
   "metadata": {},
   "source": [
    "**Hint**:\n",
    "Think of it as a postorder traversal — because you need information from both left and right subtrees before deciding the max path that passes through the current node.\n",
    "\n",
    "Keep a global variable to track the maximum sum seen so far, and for each node, compute the maximum gain you can contribute upward to its parent."
   ]
  },
  {
   "cell_type": "markdown",
   "id": "12d82b17",
   "metadata": {},
   "source": [
    "**Approach**: DFS (Post-Order) with Global Max Tracking\n",
    "\n",
    "Main Logic (in simple points):\n",
    "* Traverse the tree using DFS.\n",
    "* For each node, recursively find the maximum path sum from its left and right subtrees.\n",
    "* Ignore negative sums by taking `max(left, 0)` and `max(right, 0)`.\n",
    "* The potential maximum path passing through the node is `left + right + node.val`.\n",
    "* Update the global `maxSum` if this path is greater.\n",
    "* Return the maximum **single-branch** sum (`node.val + max(left, right)`) to be used by the parent node.\n",
    "\n",
    "Key idea:   \n",
    "Track the best path sum seen anywhere while returning only one-sided paths upward to keep recursion valid.\n"
   ]
  },
  {
   "cell_type": "markdown",
   "id": "1d83bea3",
   "metadata": {},
   "source": [
    "**Time Complexity:** O(n)   \n",
    "Each node is visited once.\n",
    "\n",
    "**Space Complexity:** O(h)   \n",
    "Recursion stack space where h = height of the tree."
   ]
  },
  {
   "cell_type": "markdown",
   "id": "caa56528",
   "metadata": {},
   "source": [
    "| Problem                  | Binary Tree Maximum Path Sum                                                                 |\n",
    "| ------------------------ | -------------------------------------------------------------------------------------------- |\n",
    "| **LeetCode Problem**     | 124                                                                                          |\n",
    "| **Approach**             | DFS (Post-Order) with Global Max Tracking                                                    |\n",
    "| **When to apply**        | When you need to find the max path sum in any binary tree (not necessarily root-to-leaf).    |\n",
    "| **Clues**                | Requires combining left and right path sums while maintaining a global max.                  |\n",
    "| **Lessons learned**      | Use post-order traversal when results from children determine the parent’s computation; Ignore negative sums by taking max value comparing to 0.      |\n",
    "| **Hidden pattern**       | Divide and conquer with global aggregation of subtree results.                               |\n",
    "| **To recognize earlier** | Problems asking for max/min path or sum \"anywhere\" in a tree usually require post-order DFS. |\n",
    "| **Signal words**         | “Maximum path sum”, “not necessarily root”, “any path in tree”.                              |\n"
   ]
  }
 ],
 "metadata": {
  "kernelspec": {
   "display_name": "base",
   "language": "python",
   "name": "python3"
  },
  "language_info": {
   "codemirror_mode": {
    "name": "ipython",
    "version": 3
   },
   "file_extension": ".py",
   "mimetype": "text/x-python",
   "name": "python",
   "nbconvert_exporter": "python",
   "pygments_lexer": "ipython3",
   "version": "3.13.5"
  }
 },
 "nbformat": 4,
 "nbformat_minor": 5
}
