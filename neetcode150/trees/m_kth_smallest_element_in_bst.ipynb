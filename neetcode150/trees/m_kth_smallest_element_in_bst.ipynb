{
 "cells": [
  {
   "cell_type": "markdown",
   "id": "75455662",
   "metadata": {},
   "source": [
    "## [Kth Smallest Element in a BST](https://leetcode.com/problems/kth-smallest-element-in-a-bst/description/)  \n",
    "\n",
    "Medium  \n",
    "\n",
    "Given the root of a binary search tree, and an integer k, return the kth smallest value (1-indexed) of all the values of the nodes in the tree.  \n",
    "\n",
    "Example 1:  \n",
    "\n",
    "Input: root = [3,1,4,null,2], k = 1  \n",
    "Output: 1  \n",
    "\n",
    "Example 2:  \n",
    "\n",
    "Input: root = [5,3,6,2,4,null,null,1], k = 3  \n",
    "Output: 3  \n",
    "\n",
    "Constraints:  \n",
    "\n",
    "The number of nodes in the tree is n.  \n",
    "1 <= k <= n <= 10^4  \n",
    "0 <= Node.val <= 10^4  \n",
    "\n",
    "Follow up:  \n",
    "If the BST is modified often (i.e., we can do insert and delete operations) and you need to find the kth smallest frequently, how would you optimize?  "
   ]
  },
  {
   "cell_type": "code",
   "execution_count": 1,
   "id": "cc9f380d",
   "metadata": {},
   "outputs": [],
   "source": [
    "from typing import Optional\n",
    "\n",
    "class TreeNode:\n",
    "    def __init__(self, val=0, left=None, right=None):\n",
    "        self.val = val\n",
    "        self.left = left\n",
    "        self.right = right\n",
    "\n",
    "class Solution:\n",
    "    def kthSmallest(self, root: Optional[TreeNode], k: int) -> int:\n",
    "        self.kth_value = None\n",
    "        self.depth = 0\n",
    "\n",
    "        def dfs(node):\n",
    "            if not node or self.kth_value is not None: \n",
    "                return\n",
    "\n",
    "            dfs(node.left)\n",
    "            self.depth += 1\n",
    "\n",
    "            if self.depth == k:\n",
    "                self.kth_value = node.val\n",
    "                return\n",
    "\n",
    "            dfs(node.right)\n",
    "\n",
    "            \n",
    "        dfs(root)\n",
    "        return self.kth_value"
   ]
  },
  {
   "cell_type": "markdown",
   "id": "7f133298",
   "metadata": {},
   "source": [
    "**Hint**:  \n",
    "Use inorder traversal (Left → Node → Right), since it visits BST nodes in sorted order.\n",
    "Keep a counter as you traverse; when the counter equals k, you’ve reached the kth smallest element."
   ]
  },
  {
   "cell_type": "markdown",
   "id": "00585fde",
   "metadata": {},
   "source": [
    "**Approach**: Inorder DFS (Left → Root → Right) Traversal with Early Exit\n",
    "\n",
    "Main Logic (in simple points):  \n",
    "* Perform an **inorder traversal** of the BST — it naturally visits nodes in sorted order.\n",
    "* Maintain a **counter** (`self.count`) that increments each time a node is visited.\n",
    "* When the counter equals `k`, record the current node value as `self.kth_value`.\n",
    "* Use the condition `if self.kth_value is not None:` to **exit recursion early** once the kth node is found — improving efficiency.\n",
    "* Return the recorded value as the result.\n",
    "\n",
    "Key idea:\n",
    "Leverage the sorted nature of BST + inorder traversal.\n",
    "Track count of visited nodes, and **stop traversal immediately** once the kth smallest node is reached."
   ]
  },
  {
   "cell_type": "markdown",
   "id": "c284c4ba",
   "metadata": {},
   "source": [
    "**Time Complexity:** O(k)   \n",
    "You only traverse up to the kth node in the sorted (inorder) sequence.\n",
    "\n",
    "**Space Complexity:** O(h)   \n",
    "Recursion stack, where `h` is the height of the tree."
   ]
  },
  {
   "cell_type": "markdown",
   "id": "4751face",
   "metadata": {},
   "source": [
    "| Problem                  | Kth Smallest Element in a BST |\n",
    "| ------------------------ | -----------------------------------------------------|\n",
    "| **LeetCode Problem**     | 230 |\n",
    "| **Approach**             | Inorder DFS (Left → Root → Right) with early exit once kth element is found                        |\n",
    "| **When to apply**        | When you need to find ordered elements (kth smallest/largest) in a BST                             |\n",
    "| **Clues**                | BST property ensures inorder traversal gives nodes in sorted order                                 |\n",
    "| **Lessons learned**      | Use inorder traversal for sorted output; track visit count; short-circuit recursion for efficiency |\n",
    "| **Hidden pattern**       | Sorted sequence generation via inorder traversal                                                   |\n",
    "| **To recognize earlier** | The phrase “kth smallest in a BST” almost always means **inorder traversal**                       |\n",
    "| **Signal words**         | “BST”, “kth smallest”, “sorted order”, “inorder”                                                   |"
   ]
  }
 ],
 "metadata": {
  "kernelspec": {
   "display_name": "base",
   "language": "python",
   "name": "python3"
  },
  "language_info": {
   "codemirror_mode": {
    "name": "ipython",
    "version": 3
   },
   "file_extension": ".py",
   "mimetype": "text/x-python",
   "name": "python",
   "nbconvert_exporter": "python",
   "pygments_lexer": "ipython3",
   "version": "3.13.5"
  }
 },
 "nbformat": 4,
 "nbformat_minor": 5
}
