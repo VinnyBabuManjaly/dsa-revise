{
 "cells": [
  {
   "cell_type": "markdown",
   "id": "ffcb0d48",
   "metadata": {},
   "source": [
    "## [Subtree of Another Tree](https://leetcode.com/problems/subtree-of-another-tree/description/)  \n",
    "\n",
    "Easy  \n",
    "\n",
    "Given the roots of two binary trees root and subRoot, return true if there is a subtree of root with the same structure and node values of subRoot and false otherwise.  \n",
    "\n",
    "A subtree of a binary tree tree is a tree that consists of a node in tree and all of this node's descendants. The tree tree could also be considered as a subtree of itself.  \n",
    "\n",
    "Example 1:  \n",
    "\n",
    "Input: root = [3,4,5,1,2], subRoot = [4,1,2]  \n",
    "Output: true  \n",
    "\n",
    "Example 2:  \n",
    "\n",
    "Input: root = [3,4,5,1,2,null,null,null,null,0], subRoot = [4,1,2]  \n",
    "Output: false  \n",
    "\n",
    "Constraints:  \n",
    "\n",
    "The number of nodes in the root tree is in the range [1, 2000].  \n",
    "The number of nodes in the subRoot tree is in the range [1, 1000].  \n",
    "-104 <= root.val <= 104  \n",
    "-104 <= subRoot.val <= 104  "
   ]
  },
  {
   "cell_type": "code",
   "execution_count": null,
   "id": "31e87a20",
   "metadata": {},
   "outputs": [],
   "source": [
    "from typing import Optional\n",
    "\n",
    "class TreeNode:\n",
    "    def __init__(self, val=0, left=None, right=None):\n",
    "        self.val = val\n",
    "        self.left = left\n",
    "        self.right = right\n",
    "\n",
    "\n",
    "class Solution:\n",
    "    def isSubtree(self, root: Optional[TreeNode], subRoot: Optional[TreeNode]) -> bool:\n",
    "        if not root:\n",
    "            return False\n",
    "\n",
    "        if root.val == subRoot.val and self.isSameTree(root, subRoot):\n",
    "                return True\n",
    "\n",
    "        return self.isSubtree(root.left, subRoot) or self.isSubtree(root.right, subRoot)\n",
    "\n",
    "\n",
    "    def isSameTree(self, p: Optional[TreeNode], q: Optional[TreeNode]) -> bool:\n",
    "        if not p and not q:\n",
    "            return True\n",
    "        if not p or not q or p.val!=q.val:\n",
    "            return False\n",
    "        return self.isSameTree(p.left, q.left) and self.isSameTree(p.right, q.right)"
   ]
  },
  {
   "cell_type": "markdown",
   "id": "44e5eaa4",
   "metadata": {},
   "source": [
    "**Approach**: DFS (Pre-Order) Recursive Subtree Check\n",
    "\n",
    "Main Logic (in simple points):\n",
    "- Start DFS from the root of the main tree (root).\n",
    "- At each node of root:\n",
    "    - If the node’s value matches subRoot.val, check if the subtree rooted here is identical to subRoot using Same Tree logic.\n",
    "    - If identical → return True.\n",
    "- Recursively continue DFS on the left and right children of root.\n",
    "- Return True if any subtree matches; otherwise, return False.\n",
    "\n",
    "Key idea:\n",
    "Combine node exploration (DFS on root) with subtree comparison (reusing Same Tree logic) to efficiently detect if subRoot exists anywhere in root."
   ]
  },
  {
   "cell_type": "markdown",
   "id": "b1f3a713",
   "metadata": {},
   "source": [
    "**Time Complexity**: O(m * n)   \n",
    "For each of the m nodes in root, you may compare up to n nodes of subRoot using isSameTree.\n",
    "\n",
    "**Space Complexity**: O(h)    \n",
    "Recursion stack for DFS, where h = height of root."
   ]
  },
  {
   "cell_type": "markdown",
   "id": "f1f89829",
   "metadata": {},
   "source": [
    "| Problem                  | Subtree of Another Tree                                                                     |\n",
    "| ------------------------ | ------------------------------------------------------------------------------------------- |\n",
    "| **LeetCode Problem**     | 572                                                                                         |\n",
    "| **Approach**             | DFS (Pre-order) with subtree comparison using Same Tree logic                               |\n",
    "| **When to apply**        | When you need to check if one tree exists as a subtree of another                           |\n",
    "| **Clues**                | Compare node values; check entire subtrees recursively                                      |\n",
    "| **Lessons learned**      | Reuse existing tree comparison logic; combine DFS traversal with conditional subtree checks |\n",
    "| **Hidden pattern**       | A subtree match occurs only if root values match and left/right subtrees are identical      |\n",
    "| **To recognize earlier** | Problem mentions “subtree” or “exists inside another tree”                                  |\n",
    "| **Signal words**         | “Subtree”, “Identical structure and node values”, “Exists inside”, “Match entire subtree”   |\n"
   ]
  }
 ],
 "metadata": {
  "kernelspec": {
   "display_name": "base",
   "language": "python",
   "name": "python3"
  },
  "language_info": {
   "codemirror_mode": {
    "name": "ipython",
    "version": 3
   },
   "file_extension": ".py",
   "mimetype": "text/x-python",
   "name": "python",
   "nbconvert_exporter": "python",
   "pygments_lexer": "ipython3",
   "version": "3.13.5"
  }
 },
 "nbformat": 4,
 "nbformat_minor": 5
}
