{
 "cells": [
  {
   "cell_type": "markdown",
   "id": "6c82e698",
   "metadata": {},
   "source": [
    "Maximum Depth of Binary Tree  \n",
    "\n",
    "Easy  \n",
    "\n",
    "Given the root of a binary tree, return its maximum depth.  \n",
    "\n",
    "A binary tree's maximum depth is the number of nodes along the longest path from the root node down to the farthest leaf node.  \n",
    "\n",
    "Example 1:  \n",
    "\n",
    "Input: root = [3,9,20,null,null,15,7]  \n",
    "Output: 3  \n",
    "\n",
    "Example 2:  \n",
    "\n",
    "Input: root = [1,null,2]  \n",
    "Output: 2  \n",
    "\n",
    "Constraints:  \n",
    "\n",
    "The number of nodes in the tree is in the range [0, 104].  \n",
    "-100 <= Node.val <= 100  \n"
   ]
  },
  {
   "cell_type": "code",
   "execution_count": null,
   "id": "0d61a1d4",
   "metadata": {},
   "outputs": [],
   "source": [
    "from typing import Optional\n",
    "\n",
    "class TreeNode:\n",
    "    def __init__(self, val=0, left=None, right=None):\n",
    "        self.val = val\n",
    "        self.left = left\n",
    "        self.right = right\n",
    "\n",
    "class Solution:\n",
    "    def maxDepthDFSRecursive(self, root: Optional[TreeNode]):\n",
    "        if not root:\n",
    "            return 0\n",
    "\n",
    "        left = self.maxDepthDFSRecursive(root.left)\n",
    "        right = self.maxDepthDFSRecursive(root.right)\n",
    "\n",
    "        return 1 + max(left, right)"
   ]
  },
  {
   "cell_type": "markdown",
   "id": "e31095c5",
   "metadata": {},
   "source": [
    "**Approach**: DFS (Post-Order) Recursive for Maximum Depth\n",
    "\n",
    "Main Logic (simple points):\n",
    "- Start at the root node.\n",
    "- If the node is None, return depth 0.\n",
    "- Recursively find the maximum depth of the left subtree.\n",
    "- Recursively find the maximum depth of the right subtree.\n",
    "- The depth at the current node is 1 + max(left_depth, right_depth).\n",
    "- Return this value up the call stack.\n",
    "\n",
    "Key idea:\n",
    "- You need the depth of both subtrees before deciding the depth at the current node, which is why post-order (left → right → root) fits naturally."
   ]
  },
  {
   "cell_type": "markdown",
   "id": "369b8fee",
   "metadata": {},
   "source": [
    "**Time Complexity**:  \n",
    "O(n) — each node is visited once.\n",
    "\n",
    "**Space Complexity**:    \n",
    "O(h) — recursion stack, where h is the tree height.\n",
    "- Balanced tree → O(log n)\n",
    "- Skewed tree → O(n)"
   ]
  },
  {
   "cell_type": "markdown",
   "id": "064ce1a2",
   "metadata": {},
   "source": [
    "| Problem              | Maximum Depth of Binary Tree                                          |\n",
    "| -------------------- | --------------------------------------------------------------------- |\n",
    "| LeetCode Problem     | 104                                                                   |\n",
    "| Approach             | DFS (Post-order) recursive; compute depth of left and right subtrees  |\n",
    "| When to apply        | When you need to find the height or maximum depth of a binary tree    |\n",
    "| Clues                | “Maximum depth”, “Height of tree”, “Longest path from root to leaf”   |\n",
    "| Lessons learned      | Post-order traversal is useful when child information is needed first |\n",
    "| Hidden pattern       | Depth at a node depends on its subtrees                               |\n",
    "| To recognize earlier | If a problem involves calculating depth, height, or longest path      |\n",
    "| Signal words         | “Maximum depth”, “Height”, “Deepest node”, “Longest path from root”   |"
   ]
  }
 ],
 "metadata": {
  "kernelspec": {
   "display_name": "base",
   "language": "python",
   "name": "python3"
  },
  "language_info": {
   "name": "python",
   "version": "3.13.5"
  }
 },
 "nbformat": 4,
 "nbformat_minor": 5
}
