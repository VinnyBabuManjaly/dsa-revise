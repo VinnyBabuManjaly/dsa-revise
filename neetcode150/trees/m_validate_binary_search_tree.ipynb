{
 "cells": [
  {
   "cell_type": "markdown",
   "id": "2a06aaf3",
   "metadata": {},
   "source": [
    "## [Validate Binary Search Tree ](https://leetcode.com/problems/validate-binary-search-tree/description/) \n",
    "\n",
    "Medium  \n",
    "\n",
    "Given the root of a binary tree, determine if it is a valid binary search tree (BST).  \n",
    "\n",
    "A valid BST is defined as follows:  \n",
    "\n",
    "- The left subtree of a node contains only nodes with keys strictly less than the node's key.  \n",
    "- The right subtree of a node contains only nodes with keys strictly greater than the node's key.  \n",
    "- Both the left and right subtrees must also be binary search trees.  \n",
    "\n",
    "Example 1:  \n",
    "\n",
    "Input: root = [2,1,3]  \n",
    "Output: true  \n",
    "\n",
    "Example 2:  \n",
    "\n",
    "Input: root = [5,1,4,null,null,3,6]  \n",
    "Output: false  \n",
    "Explanation: The root node's value is 5 but its right child's value is 4.  \n",
    "\n",
    "Constraints:  \n",
    "\n",
    "The number of nodes in the tree is in the range [1, 10^4].  \n",
    "-2^31 <= Node.val <= 2^31 - 1  "
   ]
  },
  {
   "cell_type": "code",
   "execution_count": null,
   "id": "b9079237",
   "metadata": {},
   "outputs": [],
   "source": [
    "class TreeNode:\n",
    "    def __init__(self, val=0, left=None, right=None):\n",
    "        self.val = val\n",
    "        self.left = left\n",
    "        self.right = right\n",
    "\n",
    "class Solution:\n",
    "    def validate(self, root: TreeNode) -> bool:\n",
    "        \n",
    "        def dfs(node, low=float('-inf'), high=float('inf')):\n",
    "            if not node:\n",
    "                return True\n",
    "\n",
    "            if not(low < node.val < high):\n",
    "                return False\n",
    "            \n",
    "            return dfs(node.left, low, node.val) and dfs(node.right, node.val, high)\n",
    "            \n",
    "        return dfs(root)"
   ]
  },
  {
   "cell_type": "markdown",
   "id": "4ce66af9",
   "metadata": {},
   "source": [
    "Hint:\n",
    "Its a DFS traversal (Pre-Order or In-Order), but the key twist is:\n",
    "you must carry a valid value range (min_val, max_val) down the recursion.\n",
    "\n",
    "Each node must satisfy:\n",
    "`min_val < node.val < max_val`,\n",
    "and you update the range when going left or right.\n",
    "\n",
    "So — it’s DFS with range validation, not just a plain pre-order check."
   ]
  },
  {
   "cell_type": "markdown",
   "id": "91b584c7",
   "metadata": {},
   "source": [
    "**Approach**: DFS (Pre-Order) with Range Validation\n",
    "\n",
    "Main Logic (in simple points):\n",
    "\n",
    "* Start from the root node and assign an initial valid range `(−∞, +∞)`.\n",
    "* For each node, check if its value lies strictly within the current range.\n",
    "* For the left child, update the upper bound to the current node’s value.\n",
    "* For the right child, update the lower bound to the current node’s value.\n",
    "* Recursively validate all nodes — if any node violates the range, return False.\n",
    "\n",
    "Key idea:\n",
    "Each node’s value must be valid not only compared to its parent but also within the full range inherited from all its ancestors."
   ]
  },
  {
   "cell_type": "markdown",
   "id": "d75773ea",
   "metadata": {},
   "source": [
    "**Time Complexity:** O(n)\n",
    "Each node is visited once.\n",
    "\n",
    "**Space Complexity:** O(h)\n",
    "Recursion stack depth equals tree height (`h`)."
   ]
  },
  {
   "cell_type": "markdown",
   "id": "e04fc1c7",
   "metadata": {},
   "source": [
    "\n",
    "| **Problem**              | **Validate Binary Search Tree**                                           |\n",
    "| ------------------------ | ------------------------------------------------------------------------- |\n",
    "| **LeetCode Problem**     | 98                                                                        |\n",
    "| **Approach**             | DFS (Pre-Order) with range validation                                     |\n",
    "| **When to apply**        | When verifying if a tree maintains BST property across all nodes          |\n",
    "| **Clues**                | Mentions “valid BST” or “verify BST”                                      |\n",
    "| **Lessons learned**      | Local parent checks are not enough — global range tracking is key         |\n",
    "| **Hidden pattern**       | Each node carries inherited bounds from ancestors                         |\n",
    "| **To recognize earlier** | When comparisons depend on entire path constraints, not just parent-child |\n",
    "| **Signal words**         | “Validate BST”, “check if valid”, “ordered property”                      |\n"
   ]
  }
 ],
 "metadata": {
  "kernelspec": {
   "display_name": "base",
   "language": "python",
   "name": "python3"
  },
  "language_info": {
   "name": "python",
   "version": "3.13.5"
  }
 },
 "nbformat": 4,
 "nbformat_minor": 5
}
