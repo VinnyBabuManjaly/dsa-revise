{
 "cells": [
  {
   "cell_type": "markdown",
   "id": "24e68682",
   "metadata": {},
   "source": [
    "## [Binary Tree Right Side View](https://leetcode.com/problems/binary-tree-right-side-view/description/)  \n",
    "\n",
    "Medium  \n",
    "\n",
    "Given the root of a binary tree, imagine yourself standing on the right side of it, return the values of the nodes you can see ordered from top to bottom.  \n",
    "\n",
    "Example 1:  \n",
    "\n",
    "Input: root = [1,2,3,null,5,null,4]  \n",
    "Output: [1,3,4]  \n",
    "\n",
    "Example 2:  \n",
    "\n",
    "Input: root = [1,2,3,4,null,null,null,5]  \n",
    "Output: [1,3,4,5]  \n",
    "\n",
    "Example 3:  \n",
    "\n",
    "Input: root = [1,null,3]  \n",
    "Output: [1,3]  \n",
    "\n",
    "Example 4:  \n",
    "\n",
    "Input: root = []  \n",
    "Output: []  \n",
    "\n",
    "Constraints:  \n",
    "\n",
    "The number of nodes in the tree is in the range [0, 100].  \n",
    "-100 <= Node.val <= 100  \n"
   ]
  },
  {
   "cell_type": "code",
   "execution_count": null,
   "id": "a479583f",
   "metadata": {},
   "outputs": [],
   "source": [
    "from typing import Optional\n",
    "from collections import deque\n",
    "\n",
    "class TreeNode:\n",
    "    def __init__(self, val=0, left=None, right=None):\n",
    "        self.val = val\n",
    "        self.left = left\n",
    "        self.right = right\n",
    "\n",
    "\n",
    "class Solution:\n",
    "    def rightSideView(self, root: Optional[TreeNode]) -> list[int]:\n",
    "        if not root:\n",
    "            return None\n",
    "\n",
    "        queue = deque([root])\n",
    "        result = []\n",
    "\n",
    "        while queue:\n",
    "            level = []\n",
    "            for _ in range(len(queue)):\n",
    "                node = queue.popleft()\n",
    "                level.append(node.val)\n",
    "\n",
    "                if node.left:\n",
    "                    queue.append(node.left)\n",
    "                if node.right:\n",
    "                    queue.append(node.right)\n",
    "\n",
    "            result.append(level[-1])\n",
    "\n",
    "        return result"
   ]
  },
  {
   "cell_type": "markdown",
   "id": "07dcc428",
   "metadata": {},
   "source": [
    "Hint :\n",
    "\n",
    "- The most intuitive and optimal solution is level-order traversal (BFS).\n",
    "- At each level, the last node you encounter is the one visible from the right side.\n",
    "- Even if a right child exists, you still need to process all nodes in that level because left children may have children that appear in the next level.\n",
    "- So you cannot just skip left nodes if a right exists — you must traverse the whole level to know the structure of the next level.\n",
    "\n",
    "Key idea: Level-order traversal, capture the last node of each level → guarantees the right-side view."
   ]
  },
  {
   "cell_type": "markdown",
   "id": "42696625",
   "metadata": {},
   "source": [
    "**Approach**: BFS (Level-Order Traversal)\n",
    "\n",
    "Main Logic (in simple points):\n",
    "- Start from the root node.\n",
    "- Use a queue to process nodes level by level.\n",
    "- For each level:\n",
    "    - Process all nodes in the queue for the current level.\n",
    "    - Append their children (left then right) to the queue for the next level.\n",
    "    - Record the last node of the current level — this represents the right-side view for that level.\n",
    "- Continue until all levels are processed.\n",
    "- Return the list of last nodes from each level.\n",
    "\n",
    "Key idea:\n",
    "Traverse the tree level by level, and at each level, the last node is visible from the right side. BFS naturally handles the level grouping."
   ]
  },
  {
   "cell_type": "markdown",
   "id": "d0bf34ef",
   "metadata": {},
   "source": [
    "**Time Complexity**: O(n)   \n",
    "Each node is visited once.\n",
    "\n",
    "**Space Complexity**: O(n)      \n",
    "Queue can hold up to one full level of nodes."
   ]
  },
  {
   "cell_type": "markdown",
   "id": "78f951eb",
   "metadata": {},
   "source": [
    "| Problem                  | Binary Tree Right Side View                                                |\n",
    "| ------------------------ | -------------------------------------------------------------------------- |\n",
    "| **LeetCode Problem**     | 199                                                                        |\n",
    "| **Approach**             | BFS (Level-Order Traversal)                                                |\n",
    "| **When to apply**        | When you need to see **rightmost nodes per level** of a binary tree        |\n",
    "| **Clues**                | “Right side view”, “visible from right”, “per level”                       |\n",
    "| **Lessons learned**      | BFS easily groups nodes by level; last node of level = right view; Even if a right child exists, you still need to process all nodes in that level because left children may have children that appear in the next level.          |\n",
    "| **Hidden pattern**       | Last node in each level is always the visible node from the right          |\n",
    "| **To recognize earlier** | Problem mentions **rightmost view** or “nodes visible from right”          |\n",
    "| **Signal words**         | “Right side view”, “visible from right”, “per level”, “last node at level” |"
   ]
  }
 ],
 "metadata": {
  "kernelspec": {
   "display_name": "base",
   "language": "python",
   "name": "python3"
  },
  "language_info": {
   "name": "python",
   "version": "3.13.5"
  }
 },
 "nbformat": 4,
 "nbformat_minor": 5
}
