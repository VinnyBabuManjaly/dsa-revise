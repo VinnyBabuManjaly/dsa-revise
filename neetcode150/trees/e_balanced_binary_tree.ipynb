{
 "cells": [
  {
   "cell_type": "markdown",
   "id": "74f8ae69",
   "metadata": {},
   "source": [
    "## [Balanced Binary Tree](https://leetcode.com/problems/balanced-binary-tree/description/)\n",
    "\n",
    "Easy  \n",
    "\n",
    "Given a binary tree, determine if it is height-balanced. \n",
    "A height-balanced binary tree is a binary tree in which the depth of the two subtrees of every node never differs by more than one. \n",
    "\n",
    "Example 1:  \n",
    "\n",
    "Input: root = [3,9,20,null,null,15,7]  \n",
    "Output: true  \n",
    "\n",
    "Example 2:  \n",
    "\n",
    "Input: root = [1,2,2,3,3,null,null,4,4]  \n",
    "Output: false  \n",
    "\n",
    "Example 3:  \n",
    "\n",
    "Input: root = []  \n",
    "Output: true  "
   ]
  },
  {
   "cell_type": "code",
   "execution_count": null,
   "id": "58419b49",
   "metadata": {},
   "outputs": [],
   "source": [
    "from typing import Optional\n",
    "\n",
    "class TreeNode:\n",
    "    def __init__(self, val=0, left=None, right=None):\n",
    "        self.val = val\n",
    "        self.left = left\n",
    "        self.right = right\n",
    "\n",
    "class Solution:\n",
    "    def isBalanced(self, root: Optional[TreeNode]) -> bool:\n",
    "\n",
    "        def dfs(node):\n",
    "            if not node:\n",
    "                return 0\n",
    "\n",
    "            leftDepth, rightDepth = dfs(node.left), dfs(node.right)\n",
    "\n",
    "            if leftDepth==-1 or rightDepth==-1 or abs(leftDepth-rightDepth) > 1:\n",
    "                return -1\n",
    "\n",
    "            return 1 + max(leftDepth, rightDepth)\n",
    "            \n",
    "\n",
    "        return True if dfs(root) != -1 else False\n",
    "\n",
    "\n",
    "    def isBalancedAlternative(self, root: Optional[TreeNode]) -> bool:\n",
    "\n",
    "        def dfs(node):\n",
    "            if not node:\n",
    "                return [True, 0]\n",
    "\n",
    "            leftDepth, rightDepth = dfs(node.left), dfs(node.right)\n",
    "            balanced = (leftDepth[0] and rightDepth[0] and abs(leftDepth[1]-rightDepth[1]) <= 1)\n",
    "\n",
    "            return [balanced, 1 + max(leftDepth[1], rightDepth[1])]\n",
    "\n",
    "        return dfs(root)[0]"
   ]
  },
  {
   "cell_type": "markdown",
   "id": "50633404",
   "metadata": {},
   "source": [
    "**Approach**: Postorder DFS with Depth Propagation\n",
    "\n",
    "- Traverse the tree bottom-up using DFS.\n",
    "- For each node, get left and right subtree info (balanced + height).\n",
    "- If both subtrees are balanced and their height difference ≤ 1 → node is balanced.\n",
    "- Return [isBalanced, height] for each node; final result is dfs(root)[0].\n",
    "\n",
    "Key idea: Compute height while checking balance in one pass to avoid redundant traversals."
   ]
  },
  {
   "cell_type": "markdown",
   "id": "998bdd90",
   "metadata": {},
   "source": [
    "**Time Complexity**: O(n) — Each node is visited once during the postorder traversal.\n",
    "\n",
    "**Space Complexity**: O(h) — Due to recursion stack, where h is the height of the tree (O(log n) for balanced, O(n) for skewed)."
   ]
  },
  {
   "cell_type": "markdown",
   "id": "a93ce6b4",
   "metadata": {},
   "source": [
    "| Problem                  | Balanced Binary Tree                                                                    |\n",
    "| ------------------------ | --------------------------------------------------------------------------------------- |\n",
    "| **LeetCode Problem**     | 110                                                                                     |\n",
    "| **Approach**             | Postorder DFS (Bottom-Up Height Check)                                                  |\n",
    "| **When to apply**        | When subtree properties depend on children’s results (e.g., height, balance, diameter). |\n",
    "| **Clues**                | Need both left and right subtree info before deciding for the parent.                   |\n",
    "| **Lessons learned**      | Combine balance check and height calculation in one DFS to avoid extra passes.          |\n",
    "| **Hidden pattern**       | Return multiple values (e.g., balanced + height) from recursive calls.                  |\n",
    "| **To recognize earlier** | The need for postorder traversal when parent depends on child computations.             |\n",
    "| **Signal words**         | “Height difference”, “balanced at every node”, “check both subtrees”.                   |\n"
   ]
  }
 ],
 "metadata": {
  "kernelspec": {
   "display_name": "base",
   "language": "python",
   "name": "python3"
  },
  "language_info": {
   "name": "python",
   "version": "3.13.5"
  }
 },
 "nbformat": 4,
 "nbformat_minor": 5
}
