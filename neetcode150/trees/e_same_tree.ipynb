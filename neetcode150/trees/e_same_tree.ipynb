{
 "cells": [
  {
   "cell_type": "markdown",
   "id": "85aeb911",
   "metadata": {},
   "source": [
    "## [Same Tree ](https://leetcode.com/problems/same-tree/description/) \n",
    "\n",
    "Easy  \n",
    "\n",
    "Given the roots of two binary trees p and q, write a function to check if they are the same or not.  \n",
    "\n",
    "Two binary trees are considered the same if they are structurally identical, and the nodes have the same value.  \n",
    "\n",
    "Example 1:  \n",
    "\n",
    "Input: p = [1,2,3], q = [1,2,3]  \n",
    "Output: true  \n",
    "\n",
    "Example 2:  \n",
    "\n",
    "Input: p = [1,2], q = [1,null,2]  \n",
    "Output: false  \n",
    "\n",
    "Example 3:  \n",
    "\n",
    "Input: p = [1,2,1], q = [1,1,2]  \n",
    "Output: false  \n",
    "\n",
    "Constraints:  \n",
    "\n",
    "The number of nodes in both trees is in the range [0, 100].  \n",
    "-104 <= Node.val <= 104  \n"
   ]
  },
  {
   "cell_type": "code",
   "execution_count": null,
   "id": "6f5173b3",
   "metadata": {},
   "outputs": [],
   "source": [
    "from typing import Optional\n",
    "\n",
    "class TreeNode:\n",
    "    def __init__(self, val=0, left=None, right=None):\n",
    "        self.val = val\n",
    "        self.left = left\n",
    "        self.right = right\n",
    "\n",
    "class Solution:\n",
    "    def isSameTreeDFS(self, p: Optional[TreeNode], q: Optional[TreeNode]) -> bool:\n",
    "        \n",
    "        if not p and not q:\n",
    "            return True\n",
    "\n",
    "        if not p or not q or p.val!=q.val:\n",
    "            return False\n",
    "\n",
    "        left, right = self.isSameTreeDFS(p.left, q.left), self.isSameTreeDFS(p.right, q.right)\n",
    "        return left and right"
   ]
  },
  {
   "cell_type": "markdown",
   "id": "63384e19",
   "metadata": {},
   "source": [
    "**Approach**: DFS (Pre-Order) Recursive Comparison\n",
    "\n",
    "Main Logic (in simple points):\n",
    "- Start from the roots of both trees.\n",
    "- If both nodes are None, they match at this branch — return True.\n",
    "- If one node is None or the values differ, trees are not the same — return False.\n",
    "- Recursively compare the left subtrees of both trees.\n",
    "- Recursively compare the right subtrees of both trees.\n",
    "- Return True only if both left and right subtree comparisons are True.\n",
    "\n",
    "Key idea:\n",
    "Compare nodes top-down (root first) and recursively check left and right subtrees to ensure both structure and values match."
   ]
  },
  {
   "cell_type": "markdown",
   "id": "c772a9f4",
   "metadata": {},
   "source": [
    "**Time Complexity**: O(n)  \n",
    "Each node is visited once.\n",
    "\n",
    "**Space Complexity**: O(h)    \n",
    "Recursion stack, where h is the height of the tree."
   ]
  },
  {
   "cell_type": "markdown",
   "id": "d8ce8c25",
   "metadata": {},
   "source": [
    "| Problem                  | Same Tree                                                                                       |\n",
    "| ------------------------ | ----------------------------------------------------------------------------------------------- |\n",
    "| **LeetCode Problem**     | 100                                                                                             |\n",
    "| **Approach**             | DFS (Pre-order) recursive; compare root, then left and right subtrees                           |\n",
    "| **When to apply**        | When you need to check if two binary trees are structurally identical with the same node values |\n",
    "| **Clues**                | Compare nodes one by one; recursive structure                                                   |\n",
    "| **Lessons learned**      | Preorder DFS is effective for node-by-node comparison; base cases handle None nodes cleanly     |\n",
    "| **Hidden pattern**       | Trees match if root matches and both left and right subtrees match                              |\n",
    "| **To recognize earlier** | Problem mentions “identical” or “same structure and values”                                     |\n",
    "| **Signal words**         | “Same tree”, “Identical”, “Structurally identical”, “Node values match”                         |\n"
   ]
  }
 ],
 "metadata": {
  "kernelspec": {
   "display_name": "base",
   "language": "python",
   "name": "python3"
  },
  "language_info": {
   "name": "python",
   "version": "3.13.5"
  }
 },
 "nbformat": 4,
 "nbformat_minor": 5
}
