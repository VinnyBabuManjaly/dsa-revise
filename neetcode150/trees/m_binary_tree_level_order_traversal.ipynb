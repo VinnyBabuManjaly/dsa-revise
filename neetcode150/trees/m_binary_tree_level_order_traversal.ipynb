{
 "cells": [
  {
   "cell_type": "markdown",
   "id": "02e5b313",
   "metadata": {},
   "source": [
    "[Binary Tree Level Order Traversal](https://leetcode.com/problems/binary-tree-level-order-traversal/description/)  \n",
    "\n",
    "Medium  \n",
    "\n",
    "Given the root of a binary tree, return the level order traversal of its nodes' values. (i.e., from left to right, level by level).  \n",
    "\n",
    "Example 1:  \n",
    "\n",
    "Input: root = [3,9,20,null,null,15,7]  \n",
    "Output: [[3],[9,20],[15,7]]  \n",
    "\n",
    "Example 2:  \n",
    "\n",
    "Input: root = [1]  \n",
    "Output: [[1]]  \n",
    "\n",
    "Example 3:  \n",
    "\n",
    "Input: root = []  \n",
    "Output: []  \n",
    "\n",
    "Constraints:  \n",
    "\n",
    "The number of nodes in the tree is in the range [0, 2000].  \n",
    "-1000 <= Node.val <= 1000  \n"
   ]
  },
  {
   "cell_type": "code",
   "execution_count": null,
   "id": "2ad46b24",
   "metadata": {},
   "outputs": [],
   "source": [
    "from typing import Optional\n",
    "from collections import deque\n",
    "\n",
    "class TreeNode:\n",
    "    def __init__(self, val=0, left=None, right=None):\n",
    "        self.val = val\n",
    "        self.left = left\n",
    "        self.right = right\n",
    "\n",
    "class Solution:\n",
    "    def levelOrder(self, root: Optional[TreeNode]) -> list[list[int]]:\n",
    "        if not root:\n",
    "            return []\n",
    "\n",
    "        queue = deque([root])\n",
    "        result= []\n",
    "\n",
    "        while queue:\n",
    "            level = []\n",
    "            for _ in range(len(queue)):\n",
    "                node = queue.popleft()\n",
    "                level.append(node.val)\n",
    "\n",
    "                if node.left:\n",
    "                    queue.append(node.left)\n",
    "                if node.right:\n",
    "                    queue.append(node.right)\n",
    "                    \n",
    "            result.append(level)\n",
    "\n",
    "        return result\n",
    "                "
   ]
  },
  {
   "cell_type": "markdown",
   "id": "91b13329",
   "metadata": {},
   "source": [
    "**Approach**: BFS (Level-Order) Iterative Traversal\n",
    "\n",
    "Main Logic (in simple points):\n",
    "- Start from the root node.\n",
    "- Use a queue to process nodes level by level.\n",
    "- While the queue is not empty:\n",
    "    - Record the number of nodes at the current level.\n",
    "    - Pop each node of the current level from the queue, add its value to a temporary list.\n",
    "    - Append left and right children of each node to the queue if they exist.\n",
    "    - Add the temporary list to the final result.\n",
    "- Continue until all levels are processed.\n",
    "\n",
    "Key idea:\n",
    "Use a queue to maintain nodes of the current level, and iterate through the queue to group node values level by level."
   ]
  },
  {
   "cell_type": "markdown",
   "id": "907df950",
   "metadata": {},
   "source": [
    "**Time Complexity**: O(n)   \n",
    "Every node is processed once.\n",
    "\n",
    "**Space Complexity**: O(n)       \n",
    "Queue holds at most one level of nodes."
   ]
  },
  {
   "cell_type": "markdown",
   "id": "a8f6944c",
   "metadata": {},
   "source": [
    "| Problem                  | Binary Tree Level Order Traversal                                     |\n",
    "| ------------------------ | --------------------------------------------------------------------- |\n",
    "| **LeetCode Problem**     | 102                                                                   |\n",
    "| **Approach**             | BFS (Queue-based Level-Order Traversal)                               |\n",
    "| **When to apply**        | When you need to traverse a binary tree **level by level**            |\n",
    "| **Clues**                | “Level order”, “per level”, “by row”                                  |\n",
    "| **Lessons learned**      | BFS naturally handles level grouping; queue simplifies level tracking |\n",
    "| **Hidden pattern**       | Process all nodes of a level together before moving to the next       |\n",
    "| **To recognize earlier** | Problem asks for **list of values per level**                         |\n",
    "| **Signal words**         | “Level order”, “per level”, “row-wise”, “BFS”                         |"
   ]
  }
 ],
 "metadata": {
  "kernelspec": {
   "display_name": "base",
   "language": "python",
   "name": "python3"
  },
  "language_info": {
   "name": "python",
   "version": "3.13.5"
  }
 },
 "nbformat": 4,
 "nbformat_minor": 5
}
