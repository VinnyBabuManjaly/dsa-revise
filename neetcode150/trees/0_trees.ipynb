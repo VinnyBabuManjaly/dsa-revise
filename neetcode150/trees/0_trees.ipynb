{
 "cells": [
  {
   "cell_type": "markdown",
   "id": "37a5d07d",
   "metadata": {},
   "source": [
    "Pre-Order:  Root → Left → Right\n",
    "In-Order:   Left → Root → Right\n",
    "Post-Order: Left → Right → Root\n"
   ]
  }
 ],
 "metadata": {
  "language_info": {
   "name": "python"
  }
 },
 "nbformat": 4,
 "nbformat_minor": 5
}
