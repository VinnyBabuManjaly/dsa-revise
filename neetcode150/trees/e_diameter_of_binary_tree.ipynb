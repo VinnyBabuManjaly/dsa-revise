{
 "cells": [
  {
   "cell_type": "markdown",
   "id": "9c492005",
   "metadata": {},
   "source": [
    "Diameter of Binary Tree  \n",
    "\n",
    "Easy  \n",
    "\n",
    "Given the root of a binary tree, return the length of the diameter of the tree.  \n",
    "\n",
    "The diameter of a binary tree is the length of the longest path between any two nodes in a tree. This path may or may not pass through the root.  \n",
    "\n",
    "The length of a path between two nodes is represented by the number of edges between them.  \n",
    "\n",
    "Example 1:  \n",
    "\n",
    "Input: root = [1,2,3,4,5]  \n",
    "Output: 3  \n",
    "Explanation: 3 is the length of the path [4,2,1,3] or [5,2,1,3].  \n",
    "\n",
    "Example 2:  \n",
    "\n",
    "Input: root = [1,2]  \n",
    "Output: 1  \n",
    "\n",
    "Constraints:  \n",
    "\n",
    "The number of nodes in the tree is in the range [1, 104].  \n",
    "-100 <= Node.val <= 100  \n"
   ]
  },
  {
   "cell_type": "code",
   "execution_count": null,
   "id": "18ebf1a6",
   "metadata": {},
   "outputs": [],
   "source": [
    "from typing import Optional\n",
    "\n",
    "class TreeNode:\n",
    "    def __init__(self, val=0, left=None, right=None):\n",
    "        self.val = val\n",
    "        self.left = left\n",
    "        self.right = right\n",
    "\n",
    "class Solution:\n",
    "    def diameterDFSRecursive(self, root: Optional[TreeNode]) -> Optional[TreeNode]:\n",
    "        self.diameter = 0\n",
    "\n",
    "        def dfs(node):\n",
    "            if not node:\n",
    "                return 0\n",
    "\n",
    "            left_depth = dfs(node.left)\n",
    "            right_depth = dfs(node.right)\n",
    "\n",
    "            self.diameter = max(self.diameter, left_depth+right_depth)\n",
    "            return 1 + max(left_depth, right_depth)\n",
    "        \n",
    "        dfs(root)\n",
    "        return self.diameter"
   ]
  },
  {
   "cell_type": "markdown",
   "id": "56ca096f",
   "metadata": {},
   "source": [
    "**Approach**: DFS (Post-Order) Recursive for Diameter of Binary Tree\n",
    "\n",
    "Main Logic (simple points):   \n",
    "- Start at the root node.\n",
    "- If the node is None, return depth 0.\n",
    "- Recursively find the depth of the left subtree.\n",
    "- Recursively find the depth of the right subtree.\n",
    "- The diameter through the current node is left_depth + right_depth.\n",
    "- Update a global or class-level variable to track the maximum diameter seen so far.\n",
    "- Return the depth of the current node’s subtree: 1 + max(left_depth, right_depth).\n",
    "\n",
    "Key idea:   \n",
    "You need information from both subtrees before deciding the diameter at a node, so post-order traversal fits naturally."
   ]
  },
  {
   "cell_type": "markdown",
   "id": "d7e38074",
   "metadata": {},
   "source": [
    "**Time Complexity**:  \n",
    "O(n) — each node is visited once.\n",
    "\n",
    "**Space Complexity**:   \n",
    "O(h) — recursion stack, where h is the tree height.\n",
    "- Balanced tree → O(log n)\n",
    "- Skewed tree → O(n)"
   ]
  },
  {
   "cell_type": "markdown",
   "id": "d7ecede8",
   "metadata": {},
   "source": [
    "| Problem                  | Diameter of Binary Tree                                                                                                                     |\n",
    "| ------------------------ | ------------------------------------------------------------------------------------------------------------------------------------------- |\n",
    "| LeetCode Problem         | 543                                                                                                                                         |\n",
    "| Approach                 | DFS (Post-order) recursive; compute depth of left and right subtrees, update max diameter                                                   |\n",
    "| When to apply            | When you need the longest path between any two nodes in a binary tree                                                                       |\n",
    "| Clues                    | “Diameter”, “Longest path”, “Max distance between nodes”                                                                                    |\n",
    "| Lessons learned          | Post-order traversal is useful when child information is needed first; using a class/global variable allows updating across recursive calls, since Integers are immutable in Python |\n",
    "| Hidden pattern           | Diameter at a node = left_depth + right_depth                                                                                               |\n",
    "| To recognize earlier     | If a problem involves paths spanning both subtrees                                                                                          |\n",
    "| Signal words             | “Diameter”, “Longest path”, “Distance between nodes”, “Max path length”                                                                     |\n"
   ]
  }
 ],
 "metadata": {
  "kernelspec": {
   "display_name": "base",
   "language": "python",
   "name": "python3"
  },
  "language_info": {
   "name": "python",
   "version": "3.13.5"
  }
 },
 "nbformat": 4,
 "nbformat_minor": 5
}
