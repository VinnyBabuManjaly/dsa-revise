{
 "cells": [
  {
   "cell_type": "markdown",
   "id": "c7b4e30e",
   "metadata": {},
   "source": [
    "Invert Binary Tree  \n",
    "\n",
    "Easy  \n",
    "\n",
    "Given the root of a binary tree, invert the tree, and return its root.  \n",
    "\n",
    "Example 1:  \n",
    "\n",
    "Input: root = [4,2,7,1,3,6,9]  \n",
    "Output: [4,7,2,9,6,3,1]  \n",
    "\n",
    "Example 2:  \n",
    "\n",
    "Input: root = [2,1,3]  \n",
    "Output: [2,3,1]  \n",
    "\n",
    "Example 3:  \n",
    "\n",
    "Input: root = []  \n",
    "Output: []  \n",
    "\n",
    "Constraints:  \n",
    "\n",
    "The number of nodes in the tree is in the range [0, 100].  \n",
    "-100 <= Node.val <= 100  \n"
   ]
  },
  {
   "cell_type": "code",
   "execution_count": null,
   "id": "d7819f68",
   "metadata": {},
   "outputs": [],
   "source": [
    "class TreeNode:\n",
    "    def __init__(self, val=0, left=None, right=None):\n",
    "        self.val = val\n",
    "        self.left = left\n",
    "        self.right = right\n",
    "\n",
    "class Solution:\n",
    "    def invertDFSRecursive(self, root: TreeNode):\n",
    "        if not root:\n",
    "            return None\n",
    "        \n",
    "        root.left, root.right = root.right, root.left\n",
    "\n",
    "        self.invertDFSRecursive(root.left)\n",
    "        self.invertDFSRecursive(root.right)\n",
    "\n",
    "        return root"
   ]
  },
  {
   "cell_type": "markdown",
   "id": "dc9eb7a7",
   "metadata": {},
   "source": [
    "**Approach**: DFS (Pre-Order) Recursive Inversion\n",
    "\n",
    "Main Logic (in simple points):\n",
    "- Start from the root node.\n",
    "- If the current node is None, stop — nothing to invert.\n",
    "- Swap the node’s left and right children.\n",
    "- Recursively repeat the same process for the left and right subtrees.\n",
    "- Return the root once all nodes are visited.\n",
    "\n",
    "Key idea:\n",
    "\n",
    "Invert each node locally by swapping its children — recursion naturally takes care of visiting every node in the tree."
   ]
  },
  {
   "cell_type": "markdown",
   "id": "9c0bee3f",
   "metadata": {},
   "source": [
    "**Time Complexity**: O(n)  \n",
    "Each node is visited exactly once to perform a constant-time swap.\n",
    "\n",
    "**Space Complexity**: O(h)   \n",
    "Due to recursion stack, where h is the height of the tree.\n",
    "- For a balanced tree → O(log n)\n",
    "- For a skewed tree → O(n)"
   ]
  },
  {
   "cell_type": "markdown",
   "id": "f3947ed7",
   "metadata": {},
   "source": [
    "| Problem              | Invert Binary Tree                                                               |\n",
    "| -------------------- | ------------------------------------------------------------------------------------------------- |\n",
    "| LeetCode Problem     | 226                                                                                               |\n",
    "| Approach             | DFS (Pre-order) or BFS; swap left and right children recursively or level by level                |\n",
    "| When to apply        | When you need to reverse or mirror a binary tree                                                  |\n",
    "| Clues                | “Invert”, “Mirror”, “Swap left and right children”                                                |\n",
    "| Lessons learned      | Recursive tree problems can often be solved by acting locally at each node; both DFS and BFS work |\n",
    "| Hidden pattern       | Swapping is independent at each node; traversal order doesn’t affect final result                 |\n",
    "| To recognize earlier | If a problem involves flipping or mirroring subtrees                                              |\n",
    "| Signal words         | “Invert”, “Mirror”, “Swap children”, “Reflect”                                                    |"
   ]
  }
 ],
 "metadata": {
  "kernelspec": {
   "display_name": "base",
   "language": "python",
   "name": "python3"
  },
  "language_info": {
   "name": "python",
   "version": "3.13.5"
  }
 },
 "nbformat": 4,
 "nbformat_minor": 5
}
