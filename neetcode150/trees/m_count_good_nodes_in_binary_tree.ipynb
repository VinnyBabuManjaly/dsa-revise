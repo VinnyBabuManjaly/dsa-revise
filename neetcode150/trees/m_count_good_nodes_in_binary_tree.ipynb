{
 "cells": [
  {
   "cell_type": "markdown",
   "id": "b032ee0e",
   "metadata": {},
   "source": [
    "## [Count Good Nodes in Binary Tree](https://leetcode.com/problems/count-good-nodes-in-binary-tree/description/)  \n",
    "\n",
    "Medium  \n",
    "\n",
    "Given a binary tree root, a node X in the tree is named good if in the path from root to X there are no nodes with a value greater than X.  \n",
    "\n",
    "Return the number of good nodes in the binary tree.  \n",
    "\n",
    "Example 1:  \n",
    "\n",
    "Input: root = [3,1,4,3,null,1,5]  \n",
    "Output: 4  \n",
    "Explanation:  \n",
    "Nodes in blue are good.  \n",
    "Root Node (3) is always a good node.  \n",
    "Node 4 -> (3,4) is the maximum value in the path starting from the root.  \n",
    "Node 5 -> (3,4,5) is the maximum value in the path.  \n",
    "Node 3 -> (3,1,3) is the maximum value in the path.  \n",
    "\n",
    "Example 2:  \n",
    "\n",
    "Input: root = [3,3,null,4,2]  \n",
    "Output: 3  \n",
    "Explanation: Node 2 -> (3,3,2) is not good, because \"3\" is higher than it.  \n",
    "\n",
    "Example 3:  \n",
    "\n",
    "Input: root = [1]  \n",
    "Output: 1  \n",
    "Explanation: Root is considered as good.  \n",
    "\n",
    "Constraints:  \n",
    "\n",
    "The number of nodes in the binary tree is in the range [1, 10^5].  \n",
    "Each node's value is between [-10^4, 10^4].  \n"
   ]
  },
  {
   "cell_type": "code",
   "execution_count": 1,
   "id": "ef5a5e4a",
   "metadata": {},
   "outputs": [],
   "source": [
    "class TreeNode:\n",
    "    def __init__(self, val=0, left=None, right=None):\n",
    "        self.val = val\n",
    "        self.left = left\n",
    "        self.right = right\n",
    "\n",
    "class Solution:\n",
    "    def goodNodes(self, root: TreeNode) -> int:\n",
    "\n",
    "        self.result = 0\n",
    "        def dfs(node, maxInPath):\n",
    "            if not node:\n",
    "                return\n",
    "\n",
    "            if node and node.val >= maxInPath:\n",
    "                self.result += 1\n",
    "                maxInPath = node.val\n",
    "\n",
    "            dfs(node.left, maxInPath)\n",
    "            dfs(node.right, maxInPath)\n",
    "\n",
    "        dfs(root, root.val)\n",
    "        return self.result\n"
   ]
  },
  {
   "cell_type": "markdown",
   "id": "82ec6c95",
   "metadata": {},
   "source": [
    "**Approach**: DFS (Pre-Order) with Max Tracking\n",
    "\n",
    "Main Logic (in simple points):\n",
    "- Start from the root node, initially treating it as a “good” node.\n",
    "- Keep track of the maximum value seen along the path from the root.\n",
    "- For each node:\n",
    "    - If its value ≥ current max, count it as a good node.\n",
    "    - Update the max value for the next recursive calls.\n",
    "- Recursively traverse left and right subtrees.\n",
    "\n",
    "Key idea:\n",
    "Carry forward the maximum value along each path — a node is “good” if it’s not smaller than any value above it."
   ]
  },
  {
   "cell_type": "markdown",
   "id": "b132d86d",
   "metadata": {},
   "source": [
    "**Time Complexity:** O(n)\n",
    "Each node is visited once during DFS traversal.\n",
    "\n",
    "**Space Complexity:** O(h)\n",
    "Recursion stack depth proportional to the height of the tree (`h`)."
   ]
  },
  {
   "cell_type": "markdown",
   "id": "18ae04e4",
   "metadata": {},
   "source": [
    "\n",
    "| Problem                  | Count Good Nodes in Binary Tree                              |\n",
    "| ------------------------ | ------------------------------------------------------------ |\n",
    "| **LeetCode Problem**     | 1448                                                         |\n",
    "| **Approach**             | DFS (Pre-Order) with Max Tracking                            |\n",
    "| **When to apply**        | When node value comparisons depend on the path from the root |\n",
    "| **Clues**                | “Path from root” or “so far” hints state-carrying DFS        |\n",
    "| **Lessons learned**      | Pass context (like max, sum, etc.) along recursive calls     |\n",
    "| **Hidden pattern**       | Propagating constraints downward in recursion                |\n",
    "| **To recognize earlier** | The condition depends on values seen *before* the node       |\n",
    "| **Signal words**         | “From the root to the node,” “so far,” “on the path”         |"
   ]
  }
 ],
 "metadata": {
  "kernelspec": {
   "display_name": "base",
   "language": "python",
   "name": "python3"
  },
  "language_info": {
   "codemirror_mode": {
    "name": "ipython",
    "version": 3
   },
   "file_extension": ".py",
   "mimetype": "text/x-python",
   "name": "python",
   "nbconvert_exporter": "python",
   "pygments_lexer": "ipython3",
   "version": "3.13.5"
  }
 },
 "nbformat": 4,
 "nbformat_minor": 5
}
