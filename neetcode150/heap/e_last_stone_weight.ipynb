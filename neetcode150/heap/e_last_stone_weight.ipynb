{
 "cells": [
  {
   "cell_type": "markdown",
   "id": "664ce1b9",
   "metadata": {},
   "source": [
    "## [Last Stone Weight](https://leetcode.com/problems/last-stone-weight/description/)\n",
    "\n",
    "Easy\n",
    "\n",
    "You are given an array of integers stones where stones[i] is the weight of the ith stone.\n",
    "\n",
    "We are playing a game with the stones. On each turn, we choose the heaviest two stones and smash them together. Suppose the heaviest two stones have weights x and y with x <= y. The result of this smash is:  \n",
    "\n",
    "If x == y, both stones are destroyed, and  \n",
    "If x != y, the stone of weight x is destroyed, and the stone of weight y has new weight y - x.  \n",
    "At the end of the game, there is at most one stone left.  \n",
    "\n",
    "Return the weight of the last remaining stone. If there are no stones left, return 0.\n",
    "\n",
    "Example 1:\n",
    "Input: stones = [2,7,4,1,8,1]  \n",
    "Output: 1  \n",
    "Explanation:   \n",
    "We combine 7 and 8 to get 1 so the array converts to [2,4,1,1,1] then,  \n",
    "we combine 2 and 4 to get 2 so the array converts to [2,1,1,1] then,  \n",
    "we combine 2 and 1 to get 1 so the array converts to [1,1,1] then,  \n",
    "we combine 1 and 1 to get 0 so the array converts to [1] then that's the value of the last stone.  \n",
    "\n",
    "Example 2:  \n",
    "Input: stones = [1]  \n",
    "Output: 1  \n",
    "\n",
    "Constraints:  \n",
    "1 <= stones.length <= 30  \n",
    "1 <= stones[i] <= 1000  \n"
   ]
  },
  {
   "cell_type": "code",
   "execution_count": 1,
   "id": "917d6b70",
   "metadata": {},
   "outputs": [],
   "source": [
    "import heapq\n",
    "\n",
    "class Solution:\n",
    "    def lastStoneWeight(self, stones: list[int]) -> int:\n",
    "        max_heap = []\n",
    "        for s in stones:\n",
    "            heapq.heappush(max_heap, -s)\n",
    "\n",
    "        while max_heap:\n",
    "            if len(max_heap) == 1:\n",
    "                return -heapq.heappop(max_heap)\n",
    "\n",
    "            x = -heapq.heappop(max_heap)\n",
    "            y = -heapq.heappop(max_heap)\n",
    "\n",
    "            if x != y:\n",
    "                heapq.heappush(max_heap, -(x-y))\n",
    "\n",
    "        return 0"
   ]
  },
  {
   "cell_type": "markdown",
   "id": "cf27e6d3",
   "metadata": {},
   "source": [
    "**Hint:**\n",
    "\n",
    "Python’s heapq is a min-heap, so store values as negative to simulate a max-heap."
   ]
  },
  {
   "cell_type": "markdown",
   "id": "f1ebf5e9",
   "metadata": {},
   "source": [
    "**Approach**: Max-Heap Simulation\n",
    "\n",
    "Main Logic (in simple points):\n",
    "\n",
    "* Store all stones in a max-heap to always access the heaviest stones first.\n",
    "* Since Python has only a min-heap, push **negative values** to simulate a max-heap.\n",
    "* While more than one stone remains:\n",
    "\n",
    "  * Pop the two largest stones.\n",
    "  * Smash them together.\n",
    "  * If they are not equal, push the difference back into the heap.\n",
    "* When one or zero stones remain, that value is the result.\n",
    "\n",
    "Key idea:\n",
    "\n",
    "Always process the two heaviest stones first using a max-heap to efficiently simulate the smashing process."
   ]
  },
  {
   "cell_type": "markdown",
   "id": "e1242f79",
   "metadata": {},
   "source": [
    "\n",
    "**Time Complexity**: O(n log n)\n",
    "\n",
    "* Each stone may be pushed/popped from the heap multiple times, each operation takes O(log n).\n",
    "\n",
    "**Space Complexity**: O(n)\n",
    "\n",
    "* Heap stores all remaining stones at any time."
   ]
  },
  {
   "cell_type": "markdown",
   "id": "edff0423",
   "metadata": {},
   "source": [
    "| Problem              | Last Stone Weight                                                          |\n",
    "| -------------------- | -------------------------------------------------------------------------- |\n",
    "| LeetCode Problem     | 1046                                                                       |\n",
    "| Approach             | Max-Heap Simulation                                                        |\n",
    "| When to apply        | When repeatedly processing largest elements in a collection                |\n",
    "| Clues                | Need to access largest elements efficiently, reduce collection iteratively |\n",
    "| Lessons learned      | Max-heap is ideal for greedy removal of largest elements                   |\n",
    "| Hidden pattern       | Using negative values in min-heap simulates a max-heap                     |\n",
    "| To recognize earlier | Problems involving repeatedly removing or comparing largest items          |\n",
    "| Signal words         | Heaviest, largest, smash, repeatedly remove                                |"
   ]
  }
 ],
 "metadata": {
  "kernelspec": {
   "display_name": "base",
   "language": "python",
   "name": "python3"
  },
  "language_info": {
   "codemirror_mode": {
    "name": "ipython",
    "version": 3
   },
   "file_extension": ".py",
   "mimetype": "text/x-python",
   "name": "python",
   "nbconvert_exporter": "python",
   "pygments_lexer": "ipython3",
   "version": "3.13.5"
  }
 },
 "nbformat": 4,
 "nbformat_minor": 5
}
