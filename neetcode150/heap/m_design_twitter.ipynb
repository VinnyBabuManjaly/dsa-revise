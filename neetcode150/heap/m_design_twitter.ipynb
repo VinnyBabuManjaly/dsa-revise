{
 "cells": [
  {
   "cell_type": "markdown",
   "id": "292004c7",
   "metadata": {},
   "source": [
    "## [Design Twitter](https://leetcode.com/problems/design-twitter/description/)\n",
    "\n",
    "Medium\n",
    "\n",
    "Design a simplified version of Twitter where users can post tweets, follow/unfollow another user, and is able to see the 10 most recent tweets in the user's news feed.\n",
    "\n",
    "Implement the Twitter class:\n",
    "\n",
    "Twitter() Initializes your twitter object.   \n",
    "void postTweet(int userId, int tweetId) Composes a new tweet with ID tweetId by the user userId. Each call to this function will be made with a unique tweetId.   \n",
    "List<Integer> getNewsFeed(int userId) Retrieves the 10 most recent tweet IDs in the user's news feed. Each item in the news feed must be posted by users who the user followed or by the user themself. Tweets must be ordered from most recent to least recent.   \n",
    "void follow(int followerId, int followeeId) The user with ID followerId started following the user with ID followeeId.   \n",
    "void unfollow(int followerId, int followeeId) The user with ID followerId started unfollowing the user with ID followeeId.   \n",
    " \n",
    "\n",
    "Example 1:   \n",
    "\n",
    "Input   \n",
    "[\"Twitter\", \"postTweet\", \"getNewsFeed\", \"follow\", \"postTweet\", \"getNewsFeed\", \"unfollow\", \"getNewsFeed\"]    \n",
    "[[], [1, 5], [1], [1, 2], [2, 6], [1], [1, 2], [1]]  \n",
    "Output   \n",
    "[null, null, [5], null, null, [6, 5], null, [5]]   \n",
    "\n",
    "Explanation   \n",
    "Twitter twitter = new Twitter();   \n",
    "twitter.postTweet(1, 5); // User 1 posts a new tweet (id = 5).   \n",
    "twitter.getNewsFeed(1);  // User 1's news feed should return a list with 1 tweet id -> [5]. return [5]    \n",
    "twitter.follow(1, 2);    // User 1 follows user 2.   \n",
    "twitter.postTweet(2, 6); // User 2 posts a new tweet (id = 6). \n",
    "twitter.getNewsFeed(1);  // User 1's news feed should return a list with 2 tweet ids -> [6, 5]. Tweet id 6 should precede tweet id 5 because it is posted after tweet id 5.   \n",
    "twitter.unfollow(1, 2);  // User 1 unfollows user 2.   \n",
    "twitter.getNewsFeed(1);  // User 1's news feed should return a list with 1 tweet id -> [5], since user 1 is no longer following user 2.   \n",
    " \n",
    "\n",
    "Constraints:\n",
    "\n",
    "1 <= userId, followerId, followeeId <= 500   \n",
    "0 <= tweetId <= 104   \n",
    "All the tweets have unique IDs.   \n",
    "At most 3 * 104 calls will be made to postTweet, getNewsFeed, follow, and unfollow.    \n",
    "A user cannot follow himself.    "
   ]
  }
 ],
 "metadata": {
  "language_info": {
   "name": "python"
  }
 },
 "nbformat": 4,
 "nbformat_minor": 5
}
