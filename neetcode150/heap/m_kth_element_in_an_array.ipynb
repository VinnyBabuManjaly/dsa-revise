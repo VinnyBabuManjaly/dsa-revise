{
 "cells": [
  {
   "cell_type": "markdown",
   "id": "520fe9bd",
   "metadata": {},
   "source": [
    "## [Kth Largest Element in an Array](http://leetcode.com/problems/kth-largest-element-in-an-array/description/)\n",
    "\n",
    "Medium\n",
    "\n",
    "Given an integer array nums and an integer k, return the kth largest element in the array.\n",
    "\n",
    "Note that it is the kth largest element in the sorted order, not the kth distinct element.\n",
    "\n",
    "Can you solve it without sorting?\n",
    "\n",
    "Example 1:  \n",
    "Input: nums = [3,2,1,5,6,4], k = 2  \n",
    "Output: 5   \n",
    "\n",
    "Example 2:  \n",
    "Input: nums = [3,2,3,1,2,4,5,5,6], k = 4  \n",
    "Output: 4  \n",
    "\n",
    "Constraints:  \n",
    "1 <= k <= nums.length <= 10^5   \n",
    "-10^4 <= nums[i] <= 10^4   "
   ]
  },
  {
   "cell_type": "code",
   "execution_count": 1,
   "id": "d0bdecd9",
   "metadata": {},
   "outputs": [],
   "source": [
    "import heapq\n",
    "\n",
    "class Solution:\n",
    "    def findKthLargest(self, nums: list[int], k: int) -> int:\n",
    "        heap = []\n",
    "\n",
    "        for n in nums:\n",
    "            heapq.heappush(heap, n)\n",
    "\n",
    "            if len(heap) > k:\n",
    "                heapq.heappop(heap)\n",
    "\n",
    "        return heap[0]"
   ]
  },
  {
   "cell_type": "markdown",
   "id": "baafe0af",
   "metadata": {},
   "source": [
    "**Hint:**\n",
    "\n",
    "The most efficient approach uses a min-heap of size k"
   ]
  },
  {
   "cell_type": "markdown",
   "id": "d34ede87",
   "metadata": {},
   "source": [
    "**Approach**: Min-Heap of Size K\n",
    "\n",
    "Main Logic (in simple points):\n",
    "\n",
    "* Maintain a min-heap to store the k largest elements seen so far.\n",
    "* Iterate through the array and push each element into the heap.\n",
    "* If the heap size exceeds k, pop the smallest element to keep only k elements.\n",
    "* After processing all elements, the smallest element in the heap (`heap[0]`) is the kth largest.\n",
    "\n",
    "Key idea:\n",
    "\n",
    "Keep a heap of size k so that the smallest element in the heap is the kth largest overall."
   ]
  },
  {
   "cell_type": "markdown",
   "id": "7631819b",
   "metadata": {},
   "source": [
    "\n",
    "**Time Complexity**: O(n log k)\n",
    "\n",
    "* Each of the n elements is pushed/popped from a heap of size k, each operation takes O(log k).\n",
    "\n",
    "**Space Complexity**: O(k)\n",
    "\n",
    "* Heap stores only k elements at any time."
   ]
  },
  {
   "cell_type": "markdown",
   "id": "f93c9002",
   "metadata": {},
   "source": [
    "\n",
    "| Problem              | Kth Largest Element in an Array                                    |\n",
    "| -------------------- | ------------------------------------------------------------------ |\n",
    "| LeetCode Problem     | 215                                                                |\n",
    "| Approach             | Min-Heap of Size K                                                 |\n",
    "| When to apply        | When you need the kth largest element in a large array efficiently |\n",
    "| Clues                | “kth largest,” “top k,” streaming or dynamic selection             |\n",
    "| Lessons learned      | Heap of size k is more efficient than sorting the entire array     |\n",
    "| Hidden pattern       | Maintaining a fixed-size min-heap allows efficient top-k tracking  |\n",
    "| To recognize earlier | When problem asks for kth largest or top-k elements                |\n",
    "| Signal words         | kth largest, top k, largest elements                               |"
   ]
  }
 ],
 "metadata": {
  "kernelspec": {
   "display_name": "base",
   "language": "python",
   "name": "python3"
  },
  "language_info": {
   "codemirror_mode": {
    "name": "ipython",
    "version": 3
   },
   "file_extension": ".py",
   "mimetype": "text/x-python",
   "name": "python",
   "nbconvert_exporter": "python",
   "pygments_lexer": "ipython3",
   "version": "3.13.5"
  }
 },
 "nbformat": 4,
 "nbformat_minor": 5
}
