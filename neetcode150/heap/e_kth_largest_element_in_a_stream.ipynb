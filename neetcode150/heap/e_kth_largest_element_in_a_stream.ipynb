{
 "cells": [
  {
   "cell_type": "markdown",
   "id": "cb6d227c",
   "metadata": {},
   "source": [
    "## [Kth Largest Element in a Stream](https://leetcode.com/problems/kth-largest-element-in-a-stream/description/)\n",
    "\n",
    "Easy\n",
    "\n",
    "You are part of a university admissions office and need to keep track of the kth highest test score from applicants in real-time. This helps to determine cut-off marks for interviews and admissions dynamically as new applicants submit their scores.\n",
    "\n",
    "You are tasked to implement a class which, for a given integer k, maintains a stream of test scores and continuously returns the kth highest test score after a new score has been submitted. More specifically, we are looking for the kth highest score in the sorted list of all scores.\n",
    "\n",
    "Implement the KthLargest class:\n",
    "\n",
    "KthLargest(int k, int[] nums) Initializes the object with the integer k and the stream of test scores nums.\n",
    "int add(int val) Adds a new test score val to the stream and returns the element representing the kth largest element in the pool of test scores so far.\n",
    "\n",
    "Example 1:\n",
    "\n",
    "Input:\n",
    "[\"KthLargest\", \"add\", \"add\", \"add\", \"add\", \"add\"]\n",
    "[[3, [4, 5, 8, 2]], [3], [5], [10], [9], [4]]\n",
    "\n",
    "Output: [null, 4, 5, 5, 8, 8]\n",
    "\n",
    "Explanation:\n",
    "KthLargest kthLargest = new KthLargest(3, [4, 5, 8, 2]);\n",
    "kthLargest.add(3); // return 4\n",
    "kthLargest.add(5); // return 5\n",
    "kthLargest.add(10); // return 5\n",
    "kthLargest.add(9); // return 8\n",
    "kthLargest.add(4); // return 8\n",
    "\n",
    "Example 2:\n",
    "\n",
    "Input:\n",
    "[\"KthLargest\", \"add\", \"add\", \"add\", \"add\"]\n",
    "[[4, [7, 7, 7, 7, 8, 3]], [2], [10], [9], [9]]\n",
    "\n",
    "Output: [null, 7, 7, 7, 8]\n",
    "\n",
    "Explanation:\n",
    "KthLargest kthLargest = new KthLargest(4, [7, 7, 7, 7, 8, 3]);\n",
    "kthLargest.add(2); // return 7\n",
    "kthLargest.add(10); // return 7\n",
    "kthLargest.add(9); // return 7\n",
    "kthLargest.add(9); // return 8\n",
    "\n",
    "Constraints:\n",
    "0 <= nums.length <= 10^4\n",
    "1 <= k <= nums.length + 1\n",
    "-10^4 <= nums[i] <= 10^4\n",
    "-10^4 <= val <= 10^4\n",
    "At most 10^4 calls will be made to add.\n"
   ]
  },
  {
   "cell_type": "code",
   "execution_count": null,
   "id": "763fb517",
   "metadata": {},
   "outputs": [],
   "source": [
    "import heapq\n",
    "\n",
    "class KthLargest:\n",
    "\n",
    "    def __init__(self, k: int, nums: list[int]):\n",
    "        heapq.heapify(nums) \n",
    "        while len(nums) > k:\n",
    "            heapq.heappop(nums)\n",
    "\n",
    "        self.nums = nums\n",
    "        self.k = k\n",
    "\n",
    "    def add(self, val: int) -> int:\n",
    "        heapq.heappush(self.nums, val)\n",
    "        if len(self.nums) > self.k:\n",
    "            heapq.heappop(self.nums)\n",
    "        return self.nums[0]"
   ]
  },
  {
   "cell_type": "markdown",
   "id": "313ed664",
   "metadata": {},
   "source": [
    "**Hint:**   \n",
    "- Keep a min-heap of size k.\n",
    "- Every time a new number comes in:\n",
    "    - Push it into the heap.\n",
    "    - If the heap grows larger than k, pop the smallest element.\n",
    "- After that, the smallest element in the heap (heap[0]) will always represent the kth largest value in the entire stream."
   ]
  },
  {
   "cell_type": "markdown",
   "id": "12ad9057",
   "metadata": {},
   "source": [
    "**Approach**: Min-Heap of Size K\n",
    "\n",
    "Main Logic (in simple points):\n",
    "\n",
    "* Use a min-heap to always keep track of the k largest elements seen so far.\n",
    "* Convert the initial list into a heap using `heapify`.\n",
    "* Remove extra elements until only k remain — these are the current top k largest.\n",
    "* For every new value added, push it into the heap.\n",
    "* If heap size exceeds k, pop the smallest element to maintain only k elements.\n",
    "* The smallest element in the heap (`heap[0]`) will always represent the kth largest element.\n",
    "\n",
    "Key idea:\n",
    "Maintain a fixed-size min-heap so that its smallest element directly gives the kth largest value at any moment."
   ]
  },
  {
   "cell_type": "markdown",
   "id": "1ea0698a",
   "metadata": {},
   "source": [
    "\n",
    "**Time Complexity**: O(n log k)\n",
    "Building the heap and maintaining it during additions each take logarithmic time for k elements.\n",
    "\n",
    "**Space Complexity**: O(k)\n",
    "Heap stores only k elements at any time."
   ]
  },
  {
   "cell_type": "markdown",
   "id": "21833a62",
   "metadata": {},
   "source": [
    "\n",
    "| Problem              | Kth Largest Element in a Stream                                |\n",
    "| -------------------- | -------------------------------------------------------------- |\n",
    "| LeetCode Problem     | 703                                                            |\n",
    "| Approach             | Min-Heap of Size K                                             |\n",
    "| When to apply        | When you need the kth largest element in a dynamic data stream |\n",
    "| Clues                | Continuous stream, real-time kth element, efficient updates    |\n",
    "| Lessons learned      | Fixed-size min-heap is efficient for top-k tracking            |\n",
    "| Hidden pattern       | The smallest in heap = kth largest overall                     |\n",
    "| To recognize earlier | Whenever problem asks for “kth largest” in changing data       |\n",
    "| Signal words         | Stream, kth largest, real-time updates                         |\n"
   ]
  }
 ],
 "metadata": {
  "kernelspec": {
   "display_name": "base",
   "language": "python",
   "name": "python3"
  },
  "language_info": {
   "name": "python",
   "version": "3.13.5"
  }
 },
 "nbformat": 4,
 "nbformat_minor": 5
}
