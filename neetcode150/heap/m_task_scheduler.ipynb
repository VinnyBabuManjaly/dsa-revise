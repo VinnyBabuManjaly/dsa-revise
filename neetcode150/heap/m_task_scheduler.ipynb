{
 "cells": [
  {
   "cell_type": "markdown",
   "id": "69bbef5f",
   "metadata": {},
   "source": [
    "## [Task Scheduler](https://leetcode.com/problems/task-scheduler/description/)\n",
    "\n",
    "Medium\n",
    "\n",
    "You are given an array of CPU tasks, each labeled with a letter from A to Z, and a number n. Each CPU interval can be idle or allow the completion of one task. Tasks can be completed in any order, but there's a constraint: there has to be a gap of at least n intervals between two tasks with the same label.\n",
    "\n",
    "Return the minimum number of CPU intervals required to complete all tasks.\n",
    "\n",
    "Example 1:  \n",
    "Input: tasks = [\"A\",\"A\",\"A\",\"B\",\"B\",\"B\"], n = 2  \n",
    "Output: 8   \n",
    "Explanation: A possible sequence is: A -> B -> idle -> A -> B -> idle -> A -> B.   \n",
    "After completing task A, you must wait two intervals before doing A again. The same applies to task B.   \n",
    " \n",
    "Example 2:    \n",
    "Input: tasks = [\"A\",\"C\",\"A\",\"B\",\"D\",\"B\"], n = 1    \n",
    "Output: 6    \n",
    "Explanation: A possible sequence is: A -> B -> C -> D -> A -> B.    \n",
    "\n",
    "Example 3:   \n",
    "Input: tasks = [\"A\",\"A\",\"A\", \"B\",\"B\",\"B\"], n = 3   \n",
    "Output: 10    \n",
    "Explanation: A possible sequence is: A -> B -> idle -> idle -> A -> B -> idle -> idle -> A -> B.    \n",
    "\n",
    "Constraints:    \n",
    "1 <= tasks.length <= 10^4    \n",
    "tasks[i] is an uppercase English letter.    \n",
    "0 <= n <= 100    "
   ]
  },
  {
   "cell_type": "code",
   "execution_count": null,
   "id": "a5f1b764",
   "metadata": {},
   "outputs": [],
   "source": [
    "from collections import Counter\n",
    "import heapq\n",
    "from collections import deque\n",
    "\n",
    "class Solution:\n",
    "    def leastInterval(self, tasks: list[str], n: int) -> int:\n",
    "        \n",
    "        freqCounter = Counter(tasks)\n",
    "        maxHeap = [-freq for freq in freqCounter.values()]\n",
    "        heapq.heapify(maxHeap)\n",
    "\n",
    "        time = 0\n",
    "        queue = deque()\n",
    "\n",
    "        while maxHeap or queue:\n",
    "            time += 1\n",
    "\n",
    "            if maxHeap:\n",
    "                count = 1 + heapq.heappop(maxHeap)\n",
    "\n",
    "                if count < 0:\n",
    "                    queue.append((time+n, count))\n",
    "\n",
    "            if queue and queue[0][0] == time:\n",
    "                heapq.heappush(maxHeap, queue.popleft()[1])\n",
    "\n",
    "        return time\n",
    "\n",
    "\n",
    "\n",
    "    "
   ]
  }
 ],
 "metadata": {
  "kernelspec": {
   "display_name": "base",
   "language": "python",
   "name": "python3"
  },
  "language_info": {
   "name": "python",
   "version": "3.13.5"
  }
 },
 "nbformat": 4,
 "nbformat_minor": 5
}
