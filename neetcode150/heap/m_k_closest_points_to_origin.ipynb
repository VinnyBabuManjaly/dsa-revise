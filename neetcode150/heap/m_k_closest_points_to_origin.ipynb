{
 "cells": [
  {
   "cell_type": "markdown",
   "id": "6bf930e7",
   "metadata": {},
   "source": [
    "## [K Closest Points to Origin](https://leetcode.com/problems/k-closest-points-to-origin/description/)\n",
    "\n",
    "Medium\n",
    "\n",
    "Given an array of points where points[i] = [xi, yi] represents a point on the X-Y plane and an integer k, return the k closest points to the origin (0, 0).\n",
    "\n",
    "The distance between two points on the X-Y plane is the Euclidean distance (i.e., √((x1 - x2)^2 + (y1 - y2)^2)).\n",
    "\n",
    "You may return the answer in any order. The answer is guaranteed to be unique (except for the order that it is in).\n",
    "\n",
    "Example 1:  \n",
    "Input: points = [[1,3],[-2,2]], k = 1  \n",
    "Output: [[-2,2]]  \n",
    "Explanation:  \n",
    "The distance between (1, 3) and the origin is sqrt(10).   \n",
    "The distance between (-2, 2) and the origin is sqrt(8).   \n",
    "Since sqrt(8) < sqrt(10), (-2, 2) is closer to the origin.   \n",
    "We only want the closest k = 1 points from the origin, so the answer is just [[-2,2]].   \n",
    "\n",
    "Example 2:   \n",
    "Input: points = [[3,3],[5,-1],[-2,4]], k = 2   \n",
    "Output: [[3,3],[-2,4]]  \n",
    "Explanation:   \n",
    "The answer [[-2,4],[3,3]] would also be accepted.   \n",
    "\n",
    "Constraints:   \n",
    "1 <= k <= points.length <= 10^4  \n",
    "-10^4 <= xi, yi <= 10^4   "
   ]
  },
  {
   "cell_type": "code",
   "execution_count": 2,
   "id": "6c921d81",
   "metadata": {},
   "outputs": [],
   "source": [
    "import heapq\n",
    "\n",
    "class Solution:\n",
    "    def kClosest(self, points: list[list[int]], k: int) -> list[list[int]]:\n",
    "        max_heap = []\n",
    "\n",
    "        for x, y in points:\n",
    "            distance = -(x*x + y*y)\n",
    "            heapq.heappush(max_heap, (distance, [x,y]))\n",
    "\n",
    "            if len(max_heap) > k:\n",
    "                heapq.heappop(max_heap)\n",
    "\n",
    "        return [point for _, point in max_heap]\n"
   ]
  },
  {
   "cell_type": "markdown",
   "id": "5cb5eab2",
   "metadata": {},
   "source": [
    "**Hint:**   \n",
    "Maintain a heap of size k so that you always have the closest k points at any time."
   ]
  },
  {
   "cell_type": "markdown",
   "id": "d856e4c2",
   "metadata": {},
   "source": [
    "**Approach**: Max-Heap of Size K\n",
    "\n",
    "Main Logic (in simple points):\n",
    "\n",
    "* For each point `(x, y)`, calculate its squared Euclidean distance from the origin: `distance = x*x + y*y`.\n",
    "* Use a max-heap of size `k` to keep track of the k closest points.\n",
    "* Push each point with negative distance into the heap to simulate a max-heap: `(-distance, point)`.\n",
    "* If the heap grows beyond size `k`, pop the largest (farthest) point.\n",
    "* After processing all points, the heap contains exactly the k closest points.\n",
    "* Extract and return only the points (ignore distances).\n",
    "\n",
    "Key idea:\n",
    "\n",
    "Maintain a fixed-size max-heap so that the farthest point among the k closest can be efficiently removed when a closer point is found."
   ]
  },
  {
   "cell_type": "markdown",
   "id": "a8254aaa",
   "metadata": {},
   "source": [
    "\n",
    "**Time Complexity**: O(n log k)\n",
    "\n",
    "* For each of the n points, pushing/popping in a heap of size k takes O(log k).\n",
    "\n",
    "**Space Complexity**: O(k)\n",
    "\n",
    "* Heap stores only k points at any time."
   ]
  },
  {
   "cell_type": "markdown",
   "id": "8d56cf5a",
   "metadata": {},
   "source": [
    "\n",
    "| Problem              | K Closest Points to Origin                                                    |\n",
    "| -------------------- | ----------------------------------------------------------------------------- |\n",
    "| LeetCode Problem     | 973                                                                           |\n",
    "| Approach             | Max-Heap of Size K                                                            |\n",
    "| When to apply        | When you need the k closest points from a set of points efficiently           |\n",
    "| Clues                | Distance-based selection, top-k closest, streaming or large dataset           |\n",
    "| Lessons learned      | Max-heap helps maintain top-k elements efficiently without sorting all points |\n",
    "| Hidden pattern       | Using negative values allows Python’s min-heap to behave like a max-heap      |\n",
    "| To recognize earlier | Whenever the problem asks for “k closest” or “k farthest” elements            |\n",
    "| Signal words         | Closest, nearest, top-k, distance from origin                                 |\n"
   ]
  }
 ],
 "metadata": {
  "kernelspec": {
   "display_name": "base",
   "language": "python",
   "name": "python3"
  },
  "language_info": {
   "codemirror_mode": {
    "name": "ipython",
    "version": 3
   },
   "file_extension": ".py",
   "mimetype": "text/x-python",
   "name": "python",
   "nbconvert_exporter": "python",
   "pygments_lexer": "ipython3",
   "version": "3.13.5"
  }
 },
 "nbformat": 4,
 "nbformat_minor": 5
}
