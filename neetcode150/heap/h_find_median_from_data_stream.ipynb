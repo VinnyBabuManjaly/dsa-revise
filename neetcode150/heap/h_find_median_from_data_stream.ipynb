{
 "cells": [
  {
   "cell_type": "markdown",
   "id": "a94deb42",
   "metadata": {},
   "source": [
    "## [Find Median from Data Stream](https://leetcode.com/problems/find-median-from-data-stream/description/)\n",
    "\n",
    "Hard\n",
    "\n",
    "The median is the middle value in an ordered integer list. If the size of the list is even, there is no middle value, and the median is the mean of the two middle values.\n",
    "\n",
    "For example:   \n",
    "arr = [2,3,4], the median is 3.   \n",
    "arr = [2,3], the median is (2 + 3) / 2 = 2.5.   \n",
    "\n",
    "Implement the MedianFinder class:\n",
    "\n",
    "MedianFinder() initializes the MedianFinder object.   \n",
    "void addNum(int num) adds the integer num from the data stream to the data structure.   \n",
    "double findMedian() returns the median of all elements so far. Answers within 10^-5 of the actual answer will be accepted.\n",
    "\n",
    "Example 1:   \n",
    "Input   \n",
    "[\"MedianFinder\", \"addNum\", \"addNum\", \"findMedian\", \"addNum\", \"findMedian\"]   \n",
    "[[], [1], [2], [], [3], []]   \n",
    "Output   \n",
    "[null, null, null, 1.5, null, 2.0]   \n",
    "\n",
    "Explanation   \n",
    "MedianFinder medianFinder = new MedianFinder();   \n",
    "medianFinder.addNum(1);    // arr = [1]   \n",
    "medianFinder.addNum(2);    // arr = [1, 2]   \n",
    "medianFinder.findMedian(); // return 1.5    \n",
    "medianFinder.addNum(3);    // arr = [1, 2, 3]    \n",
    "medianFinder.findMedian(); // return 2.0\n",
    "\n",
    "Constraints:    \n",
    "-10^5 <= num <= 10^5    \n",
    "There will be at least one element before calling findMedian.    \n",
    "At most 5 * 10^4 calls will be made to addNum and findMedian.  \n",
    "\n",
    "Follow up:   \n",
    "If all integer numbers from the stream are in the range [0, 100], how would you optimize?    \n",
    "If 99% of all integer numbers from the stream are in the range [0, 100], how would you optimize?"
   ]
  }
 ],
 "metadata": {
  "language_info": {
   "name": "python"
  }
 },
 "nbformat": 4,
 "nbformat_minor": 5
}
